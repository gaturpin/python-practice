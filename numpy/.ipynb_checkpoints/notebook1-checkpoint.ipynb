{
 "cells": [
  {
   "cell_type": "markdown",
   "metadata": {
    "cell_id": "077c9c1bcad7491abd28285374f91911",
    "deepnote_cell_type": "text-cell-h1",
    "formattedRanges": [],
    "is_collapsed": false,
    "tags": []
   },
   "source": [
    "# NumPy Notebook 1"
   ]
  },
  {
   "cell_type": "code",
   "execution_count": null,
   "metadata": {
    "cell_id": "c4f0faaf6dce413e99aca382d232552a",
    "deepnote_cell_type": "code",
    "deepnote_to_be_reexecuted": false,
    "execution_millis": 5,
    "execution_start": 1660126792255,
    "source_hash": "c76c7c51",
    "tags": []
   },
   "outputs": [],
   "source": [
    "import pandas as pd\n",
    "import numpy as np"
   ]
  },
  {
   "cell_type": "markdown",
   "metadata": {
    "cell_id": "aa5d003594d642a7b36ad9a6ed383026",
    "deepnote_cell_type": "text-cell-h2",
    "formattedRanges": [],
    "is_collapsed": false,
    "tags": []
   },
   "source": [
    "## Create a Numpy Array"
   ]
  },
  {
   "cell_type": "markdown",
   "metadata": {
    "cell_id": "46941df978e044fbbb7514b8f58e22a8",
    "deepnote_cell_type": "text-cell-h3",
    "formattedRanges": [],
    "is_collapsed": false,
    "tags": []
   },
   "source": [
    "### 1. Create a NumPy array from a python list"
   ]
  },
  {
   "cell_type": "code",
   "execution_count": null,
   "metadata": {
    "cell_id": "80de9d932ab44bfdab42d885c308ca49",
    "deepnote_cell_height": 115,
    "deepnote_cell_type": "code",
    "tags": []
   },
   "outputs": [],
   "source": [
    "a = [1, 2, 3]\n",
    "\n",
    "np_array = # Your code here\n",
    "print(np_array)"
   ]
  },
  {
   "cell_type": "markdown",
   "metadata": {
    "cell_id": "dcea5c924da24fabafefa9782ee8d3bd",
    "deepnote_cell_type": "text-cell-h3",
    "formattedRanges": [],
    "is_collapsed": false,
    "tags": []
   },
   "source": [
    "### 2. Print the type of the array created above"
   ]
  },
  {
   "cell_type": "code",
   "execution_count": null,
   "metadata": {
    "cell_id": "e87bdac3a8d74a92a661fc1f2adfa7b2",
    "deepnote_cell_height": 61,
    "deepnote_cell_type": "code",
    "tags": []
   },
   "outputs": [],
   "source": []
  },
  {
   "cell_type": "markdown",
   "metadata": {
    "cell_id": "67619be7f07d47cf8fcf4cda568c6ce9",
    "deepnote_cell_type": "text-cell-h3",
    "formattedRanges": [],
    "is_collapsed": false,
    "tags": []
   },
   "source": [
    "### 3. Create a NumPy array from a python list of lists"
   ]
  },
  {
   "cell_type": "code",
   "execution_count": null,
   "metadata": {
    "cell_id": "a19948410e0245d99d95952724d5c972",
    "deepnote_cell_height": 115,
    "deepnote_cell_type": "code",
    "tags": []
   },
   "outputs": [],
   "source": [
    "a = [[1,2,3], [4,5,6]]\n",
    "\n",
    "np_array = # Your code here\n",
    "print(np_array)"
   ]
  },
  {
   "cell_type": "markdown",
   "metadata": {
    "cell_id": "3782675ab18d4f85a2157399e33c43f8",
    "deepnote_cell_type": "text-cell-h3",
    "formattedRanges": [],
    "is_collapsed": false,
    "tags": []
   },
   "source": [
    "### 4. Print the type of the array created above"
   ]
  },
  {
   "cell_type": "code",
   "execution_count": null,
   "metadata": {
    "cell_id": "7e09aae5d3a84a609ca3bc131a178c67",
    "deepnote_cell_height": 61,
    "deepnote_cell_type": "code",
    "tags": []
   },
   "outputs": [],
   "source": []
  },
  {
   "cell_type": "markdown",
   "metadata": {
    "cell_id": "5b0d7630d2284b6c878634b148ff4d86",
    "deepnote_cell_type": "text-cell-h3",
    "formattedRanges": [],
    "is_collapsed": false,
    "tags": []
   },
   "source": [
    "### 5. While creating the numpy array, specify the data type as float32."
   ]
  },
  {
   "cell_type": "code",
   "execution_count": null,
   "metadata": {
    "cell_id": "9ab85000c746428d8d94f81341b9273c",
    "deepnote_cell_height": 115,
    "deepnote_cell_type": "code",
    "tags": []
   },
   "outputs": [],
   "source": [
    "a = [[1,2,3], [4,5,6]]\n",
    "\n",
    "np_array = # Your code here\n",
    "print(np_array)"
   ]
  },
  {
   "cell_type": "markdown",
   "metadata": {
    "cell_id": "58c9b58f8ba24f50afba183c62061da5",
    "deepnote_cell_type": "text-cell-h3",
    "formattedRanges": [],
    "is_collapsed": false,
    "tags": []
   },
   "source": [
    "### 6. Create a NumPy array of Zeros"
   ]
  },
  {
   "cell_type": "code",
   "execution_count": null,
   "metadata": {
    "cell_id": "c875696318d9409497446891d089d205",
    "deepnote_cell_height": 79,
    "deepnote_cell_type": "code",
    "tags": []
   },
   "outputs": [],
   "source": [
    "np_array = # Your code here\n",
    "print(np_array)"
   ]
  },
  {
   "cell_type": "markdown",
   "metadata": {
    "cell_id": "b6bc8f7508434d58b40a72209878d9e2",
    "deepnote_cell_type": "text-cell-h3",
    "formattedRanges": [],
    "is_collapsed": false,
    "tags": []
   },
   "source": [
    "### 7. Create a multi-dimensional NumPy array of Zeros"
   ]
  },
  {
   "cell_type": "code",
   "execution_count": null,
   "metadata": {
    "cell_id": "c06b89fecad245cebfe5441f652ad941",
    "deepnote_cell_height": 79,
    "deepnote_cell_type": "code",
    "tags": []
   },
   "outputs": [],
   "source": [
    "np_array = # Your code here\n",
    "print(np_array)"
   ]
  },
  {
   "cell_type": "markdown",
   "metadata": {
    "cell_id": "5189f27c817f482093149c7c6a43938f",
    "deepnote_cell_type": "text-cell-h3",
    "formattedRanges": [],
    "is_collapsed": false,
    "tags": []
   },
   "source": [
    "### 8. Create a NumPy array of Ones"
   ]
  },
  {
   "cell_type": "code",
   "execution_count": null,
   "metadata": {
    "cell_id": "d8e8488664b64146984f106ade3c7888",
    "deepnote_cell_height": 79,
    "deepnote_cell_type": "code",
    "tags": []
   },
   "outputs": [],
   "source": [
    "np_array = # Your code here\n",
    "print(np_array)"
   ]
  },
  {
   "cell_type": "markdown",
   "metadata": {
    "cell_id": "e00d7c2b04bc4f73a71fa1e703850e1e",
    "deepnote_cell_type": "text-cell-h3",
    "formattedRanges": [],
    "is_collapsed": false,
    "tags": []
   },
   "source": [
    "### 9. Create a multi-dimensional NumPy array of Ones"
   ]
  },
  {
   "cell_type": "code",
   "execution_count": null,
   "metadata": {
    "cell_id": "60b5cc5ea1144fd998b524acfae21d8d",
    "deepnote_cell_height": 79,
    "deepnote_cell_type": "code",
    "tags": []
   },
   "outputs": [],
   "source": [
    "np_array = # Your code here\n",
    "print(np_array)"
   ]
  },
  {
   "cell_type": "markdown",
   "metadata": {
    "cell_id": "c31ace2525384f0c9d03a2c383b17d50",
    "deepnote_cell_type": "text-cell-h3",
    "formattedRanges": [],
    "is_collapsed": false,
    "tags": []
   },
   "source": [
    "### 10. Create an Identity Numpy Array of order 3"
   ]
  },
  {
   "cell_type": "code",
   "execution_count": null,
   "metadata": {
    "cell_id": "e9f1a91c3b7f4adf947e3040981b2e58",
    "deepnote_cell_height": 79,
    "deepnote_cell_type": "code",
    "tags": []
   },
   "outputs": [],
   "source": [
    "np_array = # Your code here\n",
    "print(np_array)"
   ]
  },
  {
   "cell_type": "markdown",
   "metadata": {
    "cell_id": "15773aff2698440b9d4405f7a5e83845",
    "deepnote_cell_type": "text-cell-h3",
    "formattedRanges": [],
    "is_collapsed": false,
    "tags": []
   },
   "source": [
    "### 11-13. Create an equally spaced Numpy Array with a specific step"
   ]
  },
  {
   "cell_type": "markdown",
   "metadata": {
    "cell_id": "d54fba87049e4ac3aaaee877570ad278",
    "deepnote_cell_type": "text-cell-h3",
    "formattedRanges": [],
    "is_collapsed": false,
    "tags": []
   },
   "source": [
    "### Generate values from start=0 to stop=10 with step=1:"
   ]
  },
  {
   "cell_type": "code",
   "execution_count": null,
   "metadata": {
    "cell_id": "2ce9bf3022964f9bb4d671da2b51712e",
    "deepnote_cell_height": 79,
    "deepnote_cell_type": "code",
    "tags": []
   },
   "outputs": [],
   "source": [
    "np_array = # Your code here\n",
    "print(np_array)"
   ]
  },
  {
   "cell_type": "markdown",
   "metadata": {
    "cell_id": "7323a1e7b4b7462d81ec0966dec6901e",
    "deepnote_cell_type": "text-cell-h3",
    "formattedRanges": [],
    "is_collapsed": false,
    "tags": []
   },
   "source": [
    "### Generate values from start=5to stop=11 with step=1:"
   ]
  },
  {
   "cell_type": "code",
   "execution_count": null,
   "metadata": {
    "cell_id": "b5677a8e5d9a4547b6e5c5c9b599ee89",
    "deepnote_cell_height": 79,
    "deepnote_cell_type": "code",
    "tags": []
   },
   "outputs": [],
   "source": [
    "np_array = # Your code here\n",
    "print(np_array)"
   ]
  },
  {
   "cell_type": "markdown",
   "metadata": {
    "cell_id": "b7c9f04bd1e442758293e737f028edce",
    "deepnote_cell_type": "text-cell-h3",
    "formattedRanges": [],
    "is_collapsed": false,
    "tags": []
   },
   "source": [
    "### Generate values start=5 to step=11 with step=2."
   ]
  },
  {
   "cell_type": "code",
   "execution_count": null,
   "metadata": {
    "cell_id": "bfad2572071f4263aaf215f5a8c1f45e",
    "deepnote_cell_height": 79,
    "deepnote_cell_type": "code",
    "tags": []
   },
   "outputs": [],
   "source": [
    "np_array = # Your code here\n",
    "print(np_array)"
   ]
  },
  {
   "cell_type": "markdown",
   "metadata": {
    "cell_id": "7424bf8622a44577af897ce37baf9f24",
    "deepnote_cell_type": "text-cell-h3",
    "formattedRanges": [],
    "is_collapsed": false,
    "tags": []
   },
   "source": [
    "### 14-15. Create an equally spaced Numpy Array with a specific array size"
   ]
  },
  {
   "cell_type": "markdown",
   "metadata": {
    "cell_id": "ae032caff38b45aa8452bb671814c9d3",
    "deepnote_cell_type": "text-cell-p",
    "formattedRanges": [],
    "is_collapsed": false,
    "tags": []
   },
   "source": [
    "Generate a numpy array of size 5 with start=0 to stop=10"
   ]
  },
  {
   "cell_type": "code",
   "execution_count": null,
   "metadata": {
    "cell_id": "849a4d612ec24bc097b68536f3b83e4d",
    "deepnote_cell_height": 79,
    "deepnote_cell_type": "code",
    "tags": []
   },
   "outputs": [],
   "source": [
    "np_array = # Your code here\n",
    "print(np_array)"
   ]
  },
  {
   "cell_type": "markdown",
   "metadata": {
    "cell_id": "87a26882947f485da78df392b1444fcd",
    "deepnote_cell_type": "text-cell-p",
    "formattedRanges": [],
    "is_collapsed": false,
    "tags": []
   },
   "source": [
    "Generate a numpy array of size 5 with start=5 to stop=7"
   ]
  },
  {
   "cell_type": "code",
   "execution_count": null,
   "metadata": {
    "cell_id": "b9207aa674134b7b8d042e570fe28adb",
    "deepnote_cell_height": 79,
    "deepnote_cell_type": "code",
    "tags": []
   },
   "outputs": [],
   "source": [
    "np_array = # Your code here\n",
    "print(np_array)"
   ]
  },
  {
   "cell_type": "markdown",
   "metadata": {
    "cell_id": "e65e7e97fab041eea40bcc555afa477d",
    "deepnote_cell_type": "text-cell-h3",
    "formattedRanges": [],
    "is_collapsed": false,
    "tags": []
   },
   "source": [
    "### 16-17. Generate a random numpy array "
   ]
  },
  {
   "cell_type": "markdown",
   "metadata": {
    "cell_id": "03c09bb7a1b14f758f2255fd5aa4bc70",
    "deepnote_cell_type": "text-cell-p",
    "formattedRanges": [],
    "is_collapsed": false,
    "tags": []
   },
   "source": [
    "Generate a random integer array of size 5 with start=0 to stop=10"
   ]
  },
  {
   "cell_type": "code",
   "execution_count": null,
   "metadata": {
    "cell_id": "b358d27952c14022a3d95a35e1c49ad3",
    "deepnote_cell_height": 79,
    "deepnote_cell_type": "code",
    "tags": []
   },
   "outputs": [],
   "source": [
    "np_array = # Your code here\n",
    "print(np_array)"
   ]
  },
  {
   "cell_type": "markdown",
   "metadata": {
    "cell_id": "0fc15ae6f0a24c3bb240134463b54625",
    "deepnote_cell_type": "text-cell-p",
    "formattedRanges": [],
    "is_collapsed": false,
    "tags": []
   },
   "source": [
    "Generate a random float array of size 10"
   ]
  },
  {
   "cell_type": "code",
   "execution_count": null,
   "metadata": {
    "cell_id": "abe2d4f114a5460cbf7e3aa82387ac47",
    "deepnote_cell_height": 79,
    "deepnote_cell_type": "code",
    "tags": []
   },
   "outputs": [],
   "source": [
    "np_array = # Your code here\n",
    "print(np_array)"
   ]
  },
  {
   "cell_type": "markdown",
   "metadata": {
    "cell_id": "e2c67c2ba7b34d2ab69d473588b4bfd4",
    "deepnote_cell_type": "text-cell-h3",
    "formattedRanges": [],
    "is_collapsed": false,
    "tags": []
   },
   "source": [
    "### 18-19. Generate NumPy Array from a Pandas Series using two methods"
   ]
  },
  {
   "cell_type": "markdown",
   "metadata": {
    "cell_id": "ef3069f10ad547ac8ffe0f065a547c4b",
    "deepnote_cell_type": "text-cell-h3",
    "formattedRanges": [],
    "is_collapsed": false,
    "tags": []
   },
   "source": [
    "### Method 1:"
   ]
  },
  {
   "cell_type": "code",
   "execution_count": null,
   "metadata": {
    "cell_id": "6bbcedc96b9b4171b7a8bdd240252b65",
    "deepnote_cell_height": 115,
    "deepnote_cell_type": "code",
    "tags": []
   },
   "outputs": [],
   "source": [
    "s = pd.Series([1,2,3,4], name = \"col\")\n",
    "\n",
    "np_array = # Your code here\n",
    "print(np_array)"
   ]
  },
  {
   "cell_type": "markdown",
   "metadata": {
    "cell_id": "bc80a97d537f4e0a9bc2774761100ab6",
    "deepnote_cell_type": "text-cell-h3",
    "formattedRanges": [],
    "is_collapsed": false,
    "tags": []
   },
   "source": [
    "### Method 2:"
   ]
  },
  {
   "cell_type": "code",
   "execution_count": null,
   "metadata": {
    "cell_id": "9d4ec3a5784144468d472cd5c65b96d5",
    "deepnote_cell_height": 115,
    "deepnote_cell_type": "code",
    "tags": []
   },
   "outputs": [],
   "source": [
    "s = pd.Series([1,2,3,4], name = \"col\")\n",
    "\n",
    "np_array = # Your code here\n",
    "print(np_array)"
   ]
  },
  {
   "cell_type": "markdown",
   "metadata": {
    "cell_id": "caa2c9c3aaa745f89c2e8b62a8105637",
    "deepnote_cell_type": "text-cell-h2",
    "formattedRanges": [],
    "is_collapsed": false,
    "tags": []
   },
   "source": [
    "## NumPy Array Manipulation Methods"
   ]
  },
  {
   "cell_type": "markdown",
   "metadata": {
    "cell_id": "00fef89be0d647e598c5ad72a9460cb7",
    "deepnote_cell_type": "text-cell-h3",
    "formattedRanges": [],
    "is_collapsed": false,
    "tags": []
   },
   "source": [
    "### 20-21. Shape of the NumPy Array in two ways"
   ]
  },
  {
   "cell_type": "markdown",
   "metadata": {
    "cell_id": "0834220a6b2f4104a8388d8f719289ac",
    "deepnote_cell_type": "text-cell-h3",
    "formattedRanges": [],
    "is_collapsed": false,
    "tags": []
   },
   "source": [
    "### Method 1:"
   ]
  },
  {
   "cell_type": "code",
   "execution_count": null,
   "metadata": {
    "cell_id": "65ab37220d224576830facbc8a498ead",
    "deepnote_cell_height": 115,
    "deepnote_cell_type": "code",
    "tags": []
   },
   "outputs": [],
   "source": [
    "a = np.ones((2, 3))\n",
    "\n",
    "shape_of_a = ## your code here\n",
    "print(shape_of_a)"
   ]
  },
  {
   "cell_type": "markdown",
   "metadata": {
    "cell_id": "b713ddc0a7fc4464b1d458da0ac3f900",
    "deepnote_cell_type": "text-cell-p",
    "formattedRanges": [],
    "is_collapsed": false,
    "tags": []
   },
   "source": [
    "Method 2:"
   ]
  },
  {
   "cell_type": "code",
   "execution_count": null,
   "metadata": {
    "cell_id": "5daa261f70384342a1b7ae20001b5309",
    "deepnote_cell_height": 115,
    "deepnote_cell_type": "code",
    "tags": []
   },
   "outputs": [],
   "source": [
    "a = np.ones((2, 3))\n",
    "\n",
    "shape_of_a = ## your code here\n",
    "print(shape_of_a)"
   ]
  },
  {
   "cell_type": "markdown",
   "metadata": {
    "cell_id": "aa9088f03c4c4a41825e8bc232bcae9c",
    "deepnote_cell_type": "text-cell-h3",
    "formattedRanges": [],
    "is_collapsed": false,
    "tags": []
   },
   "source": [
    "### 22. Reshape the NumPy Array to 2*5"
   ]
  },
  {
   "cell_type": "code",
   "execution_count": null,
   "metadata": {
    "cell_id": "633cb7155769442db847dc39148cd651",
    "deepnote_cell_height": 115,
    "deepnote_cell_type": "code",
    "tags": []
   },
   "outputs": [],
   "source": [
    "a = np.arange(10)\n",
    "\n",
    "np_array = # Your code here\n",
    "print(np_array)"
   ]
  },
  {
   "cell_type": "markdown",
   "metadata": {
    "cell_id": "d8d4ae213cb3495fb8da284d37f22444",
    "deepnote_cell_type": "text-cell-h3",
    "formattedRanges": [],
    "is_collapsed": false,
    "tags": []
   },
   "source": [
    "### 23-24. Transpose the NumPy Array in two ways"
   ]
  },
  {
   "cell_type": "markdown",
   "metadata": {
    "cell_id": "ce0eede772374a1ab7c064ddd036f932",
    "deepnote_cell_type": "text-cell-p",
    "formattedRanges": [],
    "is_collapsed": false,
    "tags": []
   },
   "source": [
    "Method 1:"
   ]
  },
  {
   "cell_type": "code",
   "execution_count": null,
   "metadata": {
    "cell_id": "034514fbe2b5414c9dc8861faa0d9032",
    "deepnote_cell_height": 115,
    "deepnote_cell_type": "code",
    "tags": []
   },
   "outputs": [],
   "source": [
    "a = np.array([[1,2,3], [4,5,6]])\n",
    "\n",
    "np_array = # Your code here\n",
    "print(np_array)"
   ]
  },
  {
   "cell_type": "markdown",
   "metadata": {
    "cell_id": "0aeacd2655a2448b81e76433f410b531",
    "deepnote_cell_type": "text-cell-h3",
    "formattedRanges": [],
    "is_collapsed": false,
    "tags": []
   },
   "source": [
    "### Method 2:"
   ]
  },
  {
   "cell_type": "code",
   "execution_count": null,
   "metadata": {
    "cell_id": "ecd1480e58d248c5a8ea985d9f130b13",
    "deepnote_cell_height": 115,
    "deepnote_cell_type": "code",
    "tags": []
   },
   "outputs": [],
   "source": [
    "a = np.array([[1,2,3], [4,5,6]])\n",
    "\n",
    "np_array = # Your code here\n",
    "print(np_array)"
   ]
  },
  {
   "cell_type": "markdown",
   "metadata": {
    "cell_id": "22e32c08c06e48b798e66ef0e795d37e",
    "deepnote_cell_type": "text-cell-h3",
    "formattedRanges": [],
    "is_collapsed": false,
    "tags": []
   },
   "source": [
    "### 25-27. Concatenate multiple NumPy arrays to form one NumPy Array"
   ]
  },
  {
   "cell_type": "markdown",
   "metadata": {
    "cell_id": "d006170f13e94ee1b79d628dbff1cd0f",
    "deepnote_cell_type": "text-cell-h3",
    "formattedRanges": [],
    "is_collapsed": false,
    "tags": []
   },
   "source": [
    "### Concatenate row-wise"
   ]
  },
  {
   "cell_type": "code",
   "execution_count": null,
   "metadata": {
    "cell_id": "e01ab2dcbb764ba886e34fa7ae51faed",
    "deepnote_cell_height": 133,
    "deepnote_cell_type": "code",
    "tags": []
   },
   "outputs": [],
   "source": [
    "a = np.array([[1, 2], [3, 4]])\n",
    "b = np.array([[5, 6]])\n",
    "\n",
    "np_array = # Your code here\n",
    "print(np_array)"
   ]
  },
  {
   "cell_type": "markdown",
   "metadata": {
    "cell_id": "7ba612a3fe664f4bac93aa9a73041398",
    "deepnote_cell_type": "text-cell-p",
    "formattedRanges": [],
    "is_collapsed": false,
    "tags": []
   },
   "source": [
    "Concatenate column-wise"
   ]
  },
  {
   "cell_type": "code",
   "execution_count": null,
   "metadata": {
    "cell_id": "d037f5d163774b5393e9808ce25bdf29",
    "deepnote_cell_height": 133,
    "deepnote_cell_type": "code",
    "tags": []
   },
   "outputs": [],
   "source": [
    "a = np.array([[1, 2], [3, 4]])\n",
    "b = np.array([[5, 6]])\n",
    "\n",
    "np_array = # Your code here\n",
    "print(np_array)"
   ]
  },
  {
   "cell_type": "markdown",
   "metadata": {
    "cell_id": "47209237722d4fb9802d3df80732d243",
    "deepnote_cell_type": "text-cell-h3",
    "formattedRanges": [],
    "is_collapsed": false,
    "tags": []
   },
   "source": [
    "### Concatenate to generate a flat NumPy Array"
   ]
  },
  {
   "cell_type": "code",
   "execution_count": null,
   "metadata": {
    "cell_id": "d1aa24327e5a48b481b1dd6e430a6e63",
    "deepnote_cell_height": 133,
    "deepnote_cell_type": "code",
    "tags": []
   },
   "outputs": [],
   "source": [
    "a = np.array([[1, 2], [3, 4]])\n",
    "b = np.array([[5, 6]])\n",
    "\n",
    "np_array = # Your code here\n",
    "print(np_array)"
   ]
  },
  {
   "cell_type": "markdown",
   "metadata": {
    "cell_id": "97e31ed3c81f4dbc96a7df57f16136d9",
    "deepnote_cell_type": "text-cell-h3",
    "formattedRanges": [],
    "is_collapsed": false,
    "tags": []
   },
   "source": [
    "### 28-29. Concatenate using vstack() and hstack()"
   ]
  },
  {
   "cell_type": "markdown",
   "metadata": {
    "cell_id": "9f7597f306b44ad7830bca131bf7cb6e",
    "deepnote_cell_type": "text-cell-h3",
    "formattedRanges": [],
    "is_collapsed": false,
    "tags": []
   },
   "source": [
    "### vstack()"
   ]
  },
  {
   "cell_type": "code",
   "execution_count": null,
   "metadata": {
    "cell_id": "6e32a2355b544b638c2ec849a71b71f8",
    "deepnote_cell_height": 133,
    "deepnote_cell_type": "code",
    "tags": []
   },
   "outputs": [],
   "source": [
    "a = np.array([[1, 2], [3, 4]])\n",
    "b = np.array([[5, 6]])\n",
    "\n",
    "np_array = # Your code here\n",
    "print(np_array)"
   ]
  },
  {
   "cell_type": "markdown",
   "metadata": {
    "cell_id": "20fac6d620e94d47ac3ee986994d4829",
    "deepnote_cell_type": "text-cell-p",
    "formattedRanges": [],
    "is_collapsed": false,
    "tags": []
   },
   "source": [
    "hstack()"
   ]
  },
  {
   "cell_type": "code",
   "execution_count": null,
   "metadata": {
    "cell_id": "0e71a0171b754574a8b616fb7f59a1ce",
    "deepnote_cell_height": 133,
    "deepnote_cell_type": "code",
    "tags": []
   },
   "outputs": [],
   "source": [
    "a = np.array([[1, 2], [3, 4]])\n",
    "b = np.array([[5, 6]])\n",
    "\n",
    "np_array = # Your code here\n",
    "print(np_array)"
   ]
  },
  {
   "cell_type": "markdown",
   "metadata": {
    "cell_id": "da9a1136f9214dcab4f451eba4b64c62",
    "deepnote_cell_type": "text-cell-h3",
    "formattedRanges": [],
    "is_collapsed": false,
    "tags": []
   },
   "source": [
    "### 30. Flatten NumPy Array"
   ]
  },
  {
   "cell_type": "code",
   "execution_count": null,
   "metadata": {
    "cell_id": "c9140b2944e14b32a321bcfa6a435636",
    "deepnote_cell_height": 115,
    "deepnote_cell_type": "code",
    "tags": []
   },
   "outputs": [],
   "source": [
    "a = np.array([[1,2], [3,4]])\n",
    "\n",
    "np_array = # Your code here\n",
    "print(np_array)"
   ]
  },
  {
   "cell_type": "markdown",
   "metadata": {
    "cell_id": "dd7f9d8766064d7489bc37400a15dbc7",
    "deepnote_cell_type": "text-cell-h3",
    "formattedRanges": [],
    "is_collapsed": false,
    "tags": []
   },
   "source": [
    "### 31-33. Print Unique Elements of a NumPy Array"
   ]
  },
  {
   "cell_type": "code",
   "execution_count": null,
   "metadata": {
    "cell_id": "77cf0d19ee7a45c29530981297ca01dd",
    "deepnote_cell_height": 115,
    "deepnote_cell_type": "code",
    "tags": []
   },
   "outputs": [],
   "source": [
    "a = np.array([[1,2], [3,2]])\n",
    "\n",
    "np_array = # Your code here\n",
    "print(np_array)"
   ]
  },
  {
   "cell_type": "markdown",
   "metadata": {
    "cell_id": "e1e0e05474824308aa8b6d66c79f565d",
    "deepnote_cell_type": "text-cell-p",
    "formattedRanges": [],
    "is_collapsed": false,
    "tags": []
   },
   "source": [
    "return unique rows"
   ]
  },
  {
   "cell_type": "code",
   "execution_count": null,
   "metadata": {
    "cell_id": "5921520dd6424d1d8dd4f2941313bc0c",
    "deepnote_cell_height": 115,
    "deepnote_cell_type": "code",
    "tags": []
   },
   "outputs": [],
   "source": [
    "a = np.array([[1, 2, 3], [1, 2, 3], [2, 3, 4]])\n",
    "\n",
    "np_array = # Your code here\n",
    "print(np_array)"
   ]
  },
  {
   "cell_type": "markdown",
   "metadata": {
    "cell_id": "587c968a018c49a5bdcf8973b0ac8aa5",
    "deepnote_cell_type": "text-cell-p",
    "formattedRanges": [],
    "is_collapsed": false,
    "tags": []
   },
   "source": [
    "return unique columns"
   ]
  },
  {
   "cell_type": "code",
   "execution_count": null,
   "metadata": {
    "cell_id": "4166df39f6d8437c8fc955703320df58",
    "deepnote_cell_height": 115,
    "deepnote_cell_type": "code",
    "tags": []
   },
   "outputs": [],
   "source": [
    "a = np.array([[1, 1, 3], [1, 1, 3], [1, 1, 4]])\n",
    "\n",
    "np_array = # Your code here\n",
    "print(np_array)"
   ]
  },
  {
   "cell_type": "markdown",
   "metadata": {
    "cell_id": "9b59b3edd0644d439ff7e790e3e109ee",
    "deepnote_cell_type": "text-cell-h3",
    "formattedRanges": [],
    "is_collapsed": false,
    "tags": []
   },
   "source": [
    "### 34. Squeeze the NumPy Array"
   ]
  },
  {
   "cell_type": "code",
   "execution_count": null,
   "metadata": {
    "cell_id": "3aba352c218d4a21914d8db02e9e1cfe",
    "deepnote_cell_height": 115,
    "deepnote_cell_type": "code",
    "tags": []
   },
   "outputs": [],
   "source": [
    "a = np.array([[[0], [1], [2]]])\n",
    "\n",
    "np_array = # Your code here\n",
    "print(np_array)"
   ]
  },
  {
   "cell_type": "markdown",
   "metadata": {
    "cell_id": "50dca8ab52874bbaa89c8eed1abb2a47",
    "deepnote_cell_type": "text-cell-h3",
    "formattedRanges": [],
    "is_collapsed": false,
    "tags": []
   },
   "source": [
    "### 35. Get Python list from NumPy array"
   ]
  },
  {
   "cell_type": "code",
   "execution_count": null,
   "metadata": {
    "cell_id": "53a9a64991bb4d9aa940493579f2d802",
    "deepnote_cell_height": 115,
    "deepnote_cell_type": "code",
    "tags": []
   },
   "outputs": [],
   "source": [
    "a = np.array([[1, 1, 3], [1, 1, 3], [1, 1, 4]])\n",
    "\n",
    "py_list = # Your code here\n",
    "print(py_list)"
   ]
  },
  {
   "cell_type": "markdown",
   "metadata": {
    "cell_id": "9c89e203f2b54326b1b7d95c425e8b00",
    "deepnote_cell_height": 52.390625,
    "deepnote_cell_type": "markdown",
    "tags": []
   },
   "source": [
    "Great Job solving this notebook. Go to NumPy Notebook 2: [Link](https://deepnote.com/workspace/avi-chawla-695b-aee6f4ef-2d50-4fb6-9ef2-20ee1022995a/project/NumPy-Notebook-2-4456411e-2ddd-426d-8027-4881080027db/%2Fnotebook.ipynb)\n"
   ]
  },
  {
   "cell_type": "markdown",
   "metadata": {
    "created_in_deepnote_cell": true,
    "deepnote_cell_type": "markdown"
   },
   "source": [
    "<a style='text-decoration:none;line-height:16px;display:flex;color:#5B5B62;padding:10px;justify-content:end;' href='https://deepnote.com?utm_source=created-in-deepnote-cell&projectId=9b9979f2-b708-4292-b466-3d0157564c91' target=\"_blank\">\n",
    "<img alt='Created in deepnote.com' style='display:inline;max-height:16px;margin:0px;margin-right:7.5px;' src='data:image/svg+xml;base64,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' > </img>\n",
    "Created in <span style='font-weight:600;margin-left:4px;'>Deepnote</span></a>"
   ]
  }
 ],
 "metadata": {
  "deepnote_execution_queue": [],
  "deepnote_notebook_id": "07232b5ebafe49b198a9c55c553414f1",
  "kernelspec": {
   "display_name": "Python 3 (ipykernel)",
   "language": "python",
   "name": "python3"
  },
  "language_info": {
   "codemirror_mode": {
    "name": "ipython",
    "version": 3
   },
   "file_extension": ".py",
   "mimetype": "text/x-python",
   "name": "python",
   "nbconvert_exporter": "python",
   "pygments_lexer": "ipython3",
   "version": "3.11.5"
  }
 },
 "nbformat": 4,
 "nbformat_minor": 4
}
