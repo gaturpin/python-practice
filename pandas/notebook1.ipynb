{
 "cells": [
  {
   "cell_type": "markdown",
   "metadata": {
    "cell_id": "1338129341c14b869dca992050808bbc",
    "deepnote_cell_type": "text-cell-h1",
    "formattedRanges": [],
    "is_collapsed": false,
    "tags": []
   },
   "source": [
    "# Pandas Notebook 1"
   ]
  },
  {
   "cell_type": "code",
   "execution_count": 1,
   "metadata": {
    "allow_embed": "code",
    "cell_id": "6e117edd324d4c348b395406cd0531df",
    "deepnote_cell_type": "code",
    "deepnote_to_be_reexecuted": false,
    "execution_millis": 2,
    "execution_start": 1659984470280,
    "source_hash": "c76c7c51",
    "tags": []
   },
   "outputs": [],
   "source": [
    "import pandas as pd\n",
    "import numpy as np"
   ]
  },
  {
   "cell_type": "markdown",
   "metadata": {
    "cell_id": "7d167aa1fdfe47dd8535047d9d860187",
    "deepnote_cell_type": "text-cell-h2",
    "formattedRanges": [],
    "is_collapsed": false,
    "tags": []
   },
   "source": [
    "## Create a Pandas DataFrame"
   ]
  },
  {
   "cell_type": "markdown",
   "metadata": {
    "cell_id": "99f75bf946d04b9bb1daa9e14c2cfea9",
    "deepnote_cell_type": "text-cell-h3",
    "formattedRanges": [],
    "is_collapsed": false,
    "tags": []
   },
   "source": [
    "### 1. Create a DataFrame from a list of lists. Name the columns \"col1\", \"col2\" and \"col3\"."
   ]
  },
  {
   "cell_type": "code",
   "execution_count": 6,
   "metadata": {
    "cell_id": "d9d20c86c46a4496935322d63dc32eea",
    "deepnote_cell_height": 115,
    "deepnote_cell_type": "code",
    "tags": []
   },
   "outputs": [
    {
     "name": "stdout",
     "output_type": "stream",
     "text": [
      "   col1  col2  col3\n",
      "0     1     2     3\n",
      "1     4     5     6\n"
     ]
    }
   ],
   "source": [
    "data_list = [[1,2,3], [4,5,6]]\n",
    "\n",
    "df = pd.DataFrame(data_list, columns = ['col1', 'col2', 'col3'])\n",
    "print(df)"
   ]
  },
  {
   "cell_type": "markdown",
   "metadata": {
    "cell_id": "bb6382eff47e4db492c7376e89092cfa",
    "deepnote_cell_type": "text-cell-h3",
    "formattedRanges": [],
    "is_collapsed": false,
    "tags": []
   },
   "source": [
    "### 2. Create a DataFrame from a list of lists. Name the columns \"col1\", \"col2\" and \"col3\". Change the data type of all columns to \"int8\"."
   ]
  },
  {
   "cell_type": "code",
   "execution_count": 7,
   "metadata": {
    "cell_id": "b9c4f73dd9754c36956618dca091b7e7",
    "deepnote_cell_height": 133,
    "deepnote_cell_type": "code",
    "tags": []
   },
   "outputs": [
    {
     "name": "stdout",
     "output_type": "stream",
     "text": [
      "   col1  col2  col3\n",
      "0     1     2     3\n",
      "1     4     5     6\n",
      "col1    int8\n",
      "col2    int8\n",
      "col3    int8\n",
      "dtype: object\n"
     ]
    }
   ],
   "source": [
    "data_list = [[1,2,3], [4,5,6]]\n",
    "\n",
    "df = pd.DataFrame(data_list, columns = ['col1', 'col2', 'col3'], dtype = 'int8')\n",
    "print(df) \n",
    "print(df.dtypes)"
   ]
  },
  {
   "cell_type": "markdown",
   "metadata": {
    "cell_id": "c374a07a002f41ba94da677f97fb4aae",
    "deepnote_cell_type": "text-cell-h3",
    "formattedRanges": [],
    "is_collapsed": false,
    "tags": []
   },
   "source": [
    "### 3. Create a DataFrame from a dictionary."
   ]
  },
  {
   "cell_type": "code",
   "execution_count": 8,
   "metadata": {
    "cell_id": "9408909e1d8a4ccba4f942c4e413b210",
    "deepnote_cell_height": 115,
    "deepnote_cell_type": "code",
    "tags": []
   },
   "outputs": [
    {
     "name": "stdout",
     "output_type": "stream",
     "text": [
      "   col1  col2\n",
      "0     1     3\n",
      "1     2     4\n"
     ]
    }
   ],
   "source": [
    "data_dict = {'col1': [1, 2], 'col2': [3, 4]}\n",
    "\n",
    "df = pd.DataFrame(data_dict)\n",
    "print(df)"
   ]
  },
  {
   "cell_type": "markdown",
   "metadata": {
    "cell_id": "654760d620f048a6987057cb97c8b25d",
    "deepnote_cell_type": "text-cell-h3",
    "formattedRanges": [],
    "is_collapsed": false,
    "tags": []
   },
   "source": [
    "### 4. Create a DataFrame from a dictionary. Change the data type to \"int8\"."
   ]
  },
  {
   "cell_type": "code",
   "execution_count": 9,
   "metadata": {
    "cell_id": "4025f1e1893643f292fcd7465fe3f3d0",
    "deepnote_cell_height": 133,
    "deepnote_cell_type": "code",
    "tags": []
   },
   "outputs": [
    {
     "name": "stdout",
     "output_type": "stream",
     "text": [
      "   col1  col2\n",
      "0     1     3\n",
      "1     2     4\n",
      "col1    int8\n",
      "col2    int8\n",
      "dtype: object\n"
     ]
    }
   ],
   "source": [
    "data_dict = {'col1': [1, 2], 'col2': [3, 4]}\n",
    "\n",
    "df = pd.DataFrame(data_dict, dtype = 'int8')\n",
    "print(df)\n",
    "print(df.dtypes)"
   ]
  },
  {
   "cell_type": "markdown",
   "metadata": {
    "cell_id": "092e5df73cb54fa29e29cca1ee22c1fc",
    "deepnote_cell_type": "text-cell-h3",
    "formattedRanges": [],
    "is_collapsed": false,
    "tags": []
   },
   "source": [
    "### 5. Create a DataFrame from a numpy array. Name the columns \"col1\", \"col2\" and \"col3\"."
   ]
  },
  {
   "cell_type": "code",
   "execution_count": 11,
   "metadata": {
    "cell_id": "b206b95b1570441bb269308ac467b8fe",
    "deepnote_cell_height": 115,
    "deepnote_cell_type": "code",
    "tags": []
   },
   "outputs": [
    {
     "name": "stdout",
     "output_type": "stream",
     "text": [
      "   col1  col2  col3\n",
      "0     1     2     3\n",
      "1     4     5     6\n"
     ]
    }
   ],
   "source": [
    "data_nparray = np.array([[1,2,3], [4,5,6]])\n",
    "\n",
    "df = pd.DataFrame(data_nparray, columns = ['col1', 'col2', 'col3'])\n",
    "print(df)"
   ]
  },
  {
   "cell_type": "markdown",
   "metadata": {
    "cell_id": "3b4c045831ce4a82b1b6fbf0aa52303b",
    "deepnote_cell_type": "text-cell-h2",
    "formattedRanges": [],
    "is_collapsed": false,
    "tags": []
   },
   "source": [
    "## Input Operations from CSV in Pandas"
   ]
  },
  {
   "cell_type": "markdown",
   "metadata": {
    "cell_id": "a431d7da70984c1dafb9bf475aae646e",
    "deepnote_cell_type": "text-cell-h3",
    "formattedRanges": [],
    "is_collapsed": false,
    "tags": []
   },
   "source": [
    "### 6. Read a CSV File."
   ]
  },
  {
   "cell_type": "code",
   "execution_count": 12,
   "metadata": {
    "cell_id": "2b1e546644db49f6805201d23fb68c27",
    "deepnote_cell_type": "code",
    "deepnote_to_be_reexecuted": false,
    "execution_millis": 1,
    "execution_start": 1659896158632,
    "source_hash": "b623e53d",
    "tags": []
   },
   "outputs": [
    {
     "name": "stdout",
     "output_type": "stream",
     "text": [
      "   col1  col2  col3\n",
      "0     1     2     3\n",
      "1     4     5     6\n",
      "2     7     8     9\n"
     ]
    }
   ],
   "source": [
    "csv_file = \"input_data/file1.csv\"\n",
    "\n",
    "df = pd.read_csv(csv_file)\n",
    "print(df)"
   ]
  },
  {
   "cell_type": "markdown",
   "metadata": {
    "cell_id": "5202bce512394dc3bc0f6ab77b132f07",
    "deepnote_cell_type": "text-cell-h3",
    "formattedRanges": [],
    "is_collapsed": false,
    "tags": []
   },
   "source": [
    "### 7. Read a CSV file with delimiter \"|\"."
   ]
  },
  {
   "cell_type": "code",
   "execution_count": 13,
   "metadata": {
    "cell_id": "cf48876977da4e9ea283d6c7b317069d",
    "deepnote_cell_height": 115,
    "deepnote_cell_type": "code",
    "tags": []
   },
   "outputs": [
    {
     "name": "stdout",
     "output_type": "stream",
     "text": [
      "   col1  col2  col3\n",
      "0     1     2     3\n",
      "1     4     5     6\n",
      "2     7     8     9\n"
     ]
    }
   ],
   "source": [
    "csv_file = \"input_data/file2.csv\"\n",
    "\n",
    "df = pd.read_csv(csv_file, delimiter = '|')\n",
    "print(df)"
   ]
  },
  {
   "cell_type": "markdown",
   "metadata": {
    "cell_id": "cdfb60e5312746fbab210cbf4e12b8aa",
    "deepnote_cell_type": "text-cell-h3",
    "formattedRanges": [],
    "is_collapsed": false,
    "tags": []
   },
   "source": [
    "### 8. Read a CSV file with no header column and use \"col1\", \"col2\" and \"col3\" as column names. The delimiter is \",\"."
   ]
  },
  {
   "cell_type": "code",
   "execution_count": 19,
   "metadata": {
    "cell_id": "3d9109036df64f899c5c2d6d401b51d0",
    "deepnote_cell_height": 115,
    "deepnote_cell_type": "code",
    "tags": []
   },
   "outputs": [
    {
     "name": "stdout",
     "output_type": "stream",
     "text": [
      "   col1  col2  col3\n",
      "0     1     2     3\n",
      "1     4     5     6\n",
      "2     7     8     9\n"
     ]
    }
   ],
   "source": [
    "csv_file = \"input_data/file3.csv\"\n",
    "\n",
    "df = pd.read_csv(csv_file, header = None, names = ['col1', 'col2', 'col3'], delimiter = ',')\n",
    "print(df)"
   ]
  },
  {
   "cell_type": "markdown",
   "metadata": {
    "cell_id": "b1d438c40fd9478e9e147bf3df60509c",
    "deepnote_cell_type": "text-cell-h3",
    "formattedRanges": [],
    "is_collapsed": false,
    "tags": []
   },
   "source": [
    "### 9. There are 3 columns in the file, namely \"col1\", \"col2\", and \"col3\". You have to read only \"col1\" and \"col3\"."
   ]
  },
  {
   "cell_type": "code",
   "execution_count": 21,
   "metadata": {
    "cell_id": "83b2c93e44ef48c98d7712b268a6d684",
    "deepnote_cell_height": 115,
    "deepnote_cell_type": "code",
    "tags": []
   },
   "outputs": [
    {
     "name": "stdout",
     "output_type": "stream",
     "text": [
      "   col1  col3\n",
      "0     1     3\n",
      "1     4     6\n",
      "2     7     9\n"
     ]
    }
   ],
   "source": [
    "csv_file = \"input_data/file1.csv\"\n",
    "\n",
    "df = pd.read_csv(csv_file, usecols = ['col1', 'col3'])\n",
    "print(df)"
   ]
  },
  {
   "cell_type": "markdown",
   "metadata": {
    "cell_id": "6cb59ac4e2e141a4bed8fc6c31ea8a8c",
    "deepnote_cell_type": "text-cell-h3",
    "formattedRanges": [],
    "is_collapsed": false,
    "tags": []
   },
   "source": [
    "### 10. There are 3 columns in the file, namely \"col1\", \"col2\", and \"col3\". You have to read only \"col1\" and \"col3\". Moreover, the delimiter is \"|\"."
   ]
  },
  {
   "cell_type": "code",
   "execution_count": 22,
   "metadata": {
    "cell_id": "407d7fe418ff4b6d9eb46a2a36fd24e5",
    "deepnote_cell_height": 115,
    "deepnote_cell_type": "code",
    "tags": []
   },
   "outputs": [
    {
     "name": "stdout",
     "output_type": "stream",
     "text": [
      "   col1  col3\n",
      "0     1     3\n",
      "1     4     6\n",
      "2     7     9\n"
     ]
    }
   ],
   "source": [
    "csv_file = \"input_data/file2.csv\"\n",
    "\n",
    "df = pd.read_csv(csv_file, usecols = ['col1', 'col3'], delimiter = '|')\n",
    "print(df)"
   ]
  },
  {
   "cell_type": "markdown",
   "metadata": {
    "cell_id": "9b8762016a8d41dc95ee250af2a8c816",
    "deepnote_cell_type": "text-cell-h3",
    "formattedRanges": [],
    "is_collapsed": false,
    "tags": []
   },
   "source": [
    "### 11. The file \"file4.csv\" has junk characters in the first two lines. You have to read the CSV file from the 3rd line."
   ]
  },
  {
   "cell_type": "code",
   "execution_count": 27,
   "metadata": {
    "cell_id": "c10cb69b5627401781ff10af053c9b0b",
    "deepnote_cell_height": 115,
    "deepnote_cell_type": "code",
    "tags": []
   },
   "outputs": [
    {
     "name": "stdout",
     "output_type": "stream",
     "text": [
      "   col1  col2  col3\n",
      "0     1     2     3\n",
      "1     4     5     6\n",
      "2     7     8     9\n"
     ]
    }
   ],
   "source": [
    "csv_file = \"input_data/file4.csv\"\n",
    "\n",
    "df = pd.read_csv(csv_file, skiprows = 2)\n",
    "print(df)"
   ]
  },
  {
   "cell_type": "markdown",
   "metadata": {
    "cell_id": "362a47bc349643e9b678fbf98e1e9340",
    "deepnote_cell_type": "text-cell-h3",
    "formattedRanges": [],
    "is_collapsed": false,
    "tags": []
   },
   "source": [
    "### 12. There are 3 columns in the file, namely \"col1\", \"col2\", and \"col3\". While reading the CSV file, specify the data type of \"col1\" as 'int32'."
   ]
  },
  {
   "cell_type": "code",
   "execution_count": 30,
   "metadata": {
    "cell_id": "aca8c84364c84790ab378b71e4158635",
    "deepnote_cell_height": 115,
    "deepnote_cell_type": "code",
    "tags": []
   },
   "outputs": [
    {
     "name": "stdout",
     "output_type": "stream",
     "text": [
      "   col1  col2  col3\n",
      "0     1     2     3\n",
      "1     4     5     6\n",
      "2     7     8     9\n",
      "col1    int32\n",
      "col2    int64\n",
      "col3    int64\n",
      "dtype: object\n"
     ]
    }
   ],
   "source": [
    "csv_file = \"input_data/file1.csv\"\n",
    "\n",
    "df = pd.read_csv(csv_file, dtype = {'col1': 'int32'})\n",
    "print(df)\n",
    "print(df.dtypes)"
   ]
  },
  {
   "cell_type": "markdown",
   "metadata": {
    "cell_id": "43eb1e8433ed497f88d25da597e4c27c",
    "deepnote_cell_type": "text-cell-h3",
    "formattedRanges": [],
    "is_collapsed": false,
    "tags": []
   },
   "source": [
    "### 13. The first column in the CSV file holds index values of the dataframe. Read it so that the first column goes as the index column of the dataframe."
   ]
  },
  {
   "cell_type": "code",
   "execution_count": 35,
   "metadata": {
    "cell_id": "8b1b92b9de8343909f1ab667355c0691",
    "deepnote_cell_type": "code",
    "deepnote_to_be_reexecuted": false,
    "execution_millis": 14,
    "execution_start": 1659897460042,
    "source_hash": "6f4f6738",
    "tags": []
   },
   "outputs": [
    {
     "name": "stdout",
     "output_type": "stream",
     "text": [
      "   col1  col2  col3\n",
      "0     1     2     3\n",
      "1     4     5     6\n",
      "2     7     8     9\n"
     ]
    }
   ],
   "source": [
    "csv_file = \"input_data/file5.csv\"\n",
    "\n",
    "df = pd.read_csv(csv_file, index_col = 0)\n",
    "print(df)"
   ]
  },
  {
   "cell_type": "markdown",
   "metadata": {
    "cell_id": "3c75eff5c6c040eca70b981a7c4e8c5e",
    "deepnote_cell_type": "text-cell-h3",
    "formattedRanges": [],
    "is_collapsed": false,
    "tags": []
   },
   "source": [
    "### 14. There are 9 data rows in the CSV file. Read only the first 4 of them."
   ]
  },
  {
   "cell_type": "markdown",
   "metadata": {
    "cell_id": "327781b66b324e4594d5f6c10430f63b",
    "deepnote_cell_type": "text-cell-p",
    "formattedRanges": [
     {
      "fromCodePoint": 0,
      "marks": {
       "bold": true
      },
      "toCodePoint": 100
     }
    ],
    "is_collapsed": false,
    "tags": []
   },
   "source": [
    "Note: You should NOT read the whole CSV file and use the head() method to select the first 4 rows. 🚫"
   ]
  },
  {
   "cell_type": "code",
   "execution_count": 37,
   "metadata": {
    "cell_id": "600e3f232ad445688610de3be0b5886b",
    "deepnote_cell_height": 115,
    "deepnote_cell_type": "code",
    "tags": []
   },
   "outputs": [
    {
     "name": "stdout",
     "output_type": "stream",
     "text": [
      "   col1  col2  col3\n",
      "0     1     2     3\n",
      "1     4     5     6\n",
      "2     7     8     9\n",
      "3     1     2     3\n"
     ]
    }
   ],
   "source": [
    "csv_file = \"input_data/file6.csv\"\n",
    "\n",
    "df = pd.read_csv(csv_file, nrows = 4)\n",
    "print(df)"
   ]
  },
  {
   "cell_type": "markdown",
   "metadata": {
    "cell_id": "2849c90faa1b4005a228b277b2492fca",
    "deepnote_cell_type": "text-cell-h3",
    "formattedRanges": [],
    "is_collapsed": false,
    "tags": []
   },
   "source": [
    "### 15. There are some blank lines in the CSV file. While reading the CSV, you should skip these blank lines."
   ]
  },
  {
   "cell_type": "code",
   "execution_count": 40,
   "metadata": {
    "cell_id": "a2b89e0c4ec9438a95d1d54c0704c548",
    "deepnote_cell_height": 115,
    "deepnote_cell_type": "code",
    "tags": []
   },
   "outputs": [
    {
     "name": "stdout",
     "output_type": "stream",
     "text": [
      "   col1  col2  col3\n",
      "0     1     2     3\n",
      "1     4     5     6\n",
      "2     7     8     9\n",
      "3     1     2     3\n",
      "4     4     5     6\n",
      "5     7     8     9\n"
     ]
    }
   ],
   "source": [
    "csv_file = \"input_data/file7.csv\"\n",
    "\n",
    "df = pd.read_csv(csv_file) # skip_blank_lines = True by default so no need to change anything\n",
    "print(df)"
   ]
  },
  {
   "cell_type": "markdown",
   "metadata": {
    "cell_id": "ed33f266214d420ebd97e2fd3dd98ffc",
    "deepnote_cell_type": "text-cell-h2",
    "formattedRanges": [],
    "is_collapsed": false,
    "tags": []
   },
   "source": [
    "## Output Operations to CSV in Pandas"
   ]
  },
  {
   "cell_type": "markdown",
   "metadata": {
    "cell_id": "29eee7500c494adcace375c2429f4180",
    "deepnote_cell_type": "text-cell-h3",
    "formattedRanges": [],
    "is_collapsed": false,
    "tags": []
   },
   "source": [
    "### 16. Given the dataframe \"df\", store it to a CSV File (with the index values)."
   ]
  },
  {
   "cell_type": "code",
   "execution_count": 42,
   "metadata": {
    "cell_id": "6852c1e4df4f4f3cbd6298d64e808bd9",
    "deepnote_cell_type": "code",
    "deepnote_to_be_reexecuted": false,
    "execution_millis": 1,
    "execution_start": 1659898703469,
    "source_hash": "a0acabfa",
    "tags": []
   },
   "outputs": [
    {
     "name": "stdout",
     "output_type": "stream",
     "text": [
      ",col1,col2,col3\n",
      "0,1,2,3\n",
      "1,4,5,6\n"
     ]
    }
   ],
   "source": [
    "df = pd.DataFrame([[1,2,3], [4,5,6]], \n",
    "                  columns = [\"col1\", \"col2\", \"col3\"])\n",
    "\n",
    "csv_file = \"output_data/file1.csv\"\n",
    "\n",
    "## Start your code here\n",
    "df.to_csv(csv_file)\n",
    "## End your code here\n",
    "\n",
    "## Preview the file (DO NOT CHANGE!)\n",
    "!cat \"{csv_file}\""
   ]
  },
  {
   "cell_type": "markdown",
   "metadata": {
    "cell_id": "7efd4fc68d2e4659b5e255637c6f64ad",
    "deepnote_cell_type": "text-cell-h3",
    "formattedRanges": [],
    "is_collapsed": false,
    "tags": []
   },
   "source": [
    "### 17. Given the dataframe \"df\", store it to a CSV File without the index column this time."
   ]
  },
  {
   "cell_type": "code",
   "execution_count": 43,
   "metadata": {
    "cell_id": "fefc86a2af274e8a88700d80fbfc1019",
    "deepnote_cell_height": 241,
    "deepnote_cell_type": "code",
    "tags": []
   },
   "outputs": [
    {
     "name": "stdout",
     "output_type": "stream",
     "text": [
      "col1,col2,col3\n",
      "1,2,3\n",
      "4,5,6\n"
     ]
    }
   ],
   "source": [
    "df = pd.DataFrame([[1,2,3], [4,5,6]], \n",
    "                  columns = [\"col1\", \"col2\", \"col3\"])\n",
    "\n",
    "csv_file = \"output_data/file2.csv\"\n",
    "\n",
    "## Start your code here\n",
    "df.to_csv(csv_file, index = False)\n",
    "## End your code here\n",
    "\n",
    "## Preview the file (DO NOT CHANGE!)\n",
    "!cat \"{csv_file}\""
   ]
  },
  {
   "cell_type": "markdown",
   "metadata": {
    "cell_id": "d27762547a5146e6a69cdb737fc7e561",
    "deepnote_cell_type": "text-cell-h3",
    "formattedRanges": [],
    "is_collapsed": false,
    "tags": []
   },
   "source": [
    "### 18. Given the dataframe \"df\", store it to a CSV File with delimiter as \"|\". (without the index values)"
   ]
  },
  {
   "cell_type": "code",
   "execution_count": 45,
   "metadata": {
    "cell_id": "17d17d83f5b340de808c2f57085202d2",
    "deepnote_cell_height": 241,
    "deepnote_cell_type": "code",
    "tags": []
   },
   "outputs": [
    {
     "name": "stdout",
     "output_type": "stream",
     "text": [
      "col1|col2|col3\n",
      "1|2|3\n",
      "4|5|6\n"
     ]
    }
   ],
   "source": [
    "df = pd.DataFrame([[1,2,3], [4,5,6]], \n",
    "                  columns = [\"col1\", \"col2\", \"col3\"])\n",
    "\n",
    "csv_file = \"output_data/file3.csv\"\n",
    "\n",
    "## Start your code here\n",
    "df.to_csv(csv_file, index = False, sep = '|')\n",
    "## End your code here\n",
    "\n",
    "## Preview the file (DO NOT CHANGE!)\n",
    "!cat \"{csv_file}\""
   ]
  },
  {
   "cell_type": "markdown",
   "metadata": {
    "cell_id": "67f19afbddaf49908460fc8dcae35a1c",
    "deepnote_cell_type": "text-cell-h3",
    "formattedRanges": [],
    "is_collapsed": false,
    "tags": []
   },
   "source": [
    "### 19. Given a dataframe \"df\" with three columns -- \"col1\", \"col2\" and \"col3\". Store only \"col1\" and \"col3\" to a CSV file (without the index values)"
   ]
  },
  {
   "cell_type": "code",
   "execution_count": 46,
   "metadata": {
    "cell_id": "f7b26440d36e424aa726147d4ad30300",
    "deepnote_cell_type": "code",
    "deepnote_to_be_reexecuted": false,
    "execution_millis": 1,
    "execution_start": 1659899383158,
    "source_hash": "e6d00f42",
    "tags": []
   },
   "outputs": [
    {
     "name": "stdout",
     "output_type": "stream",
     "text": [
      "col1,col3\n",
      "1,3\n",
      "4,6\n"
     ]
    }
   ],
   "source": [
    "df = pd.DataFrame([[1,2,3], [4,5,6]], \n",
    "                  columns = [\"col1\", \"col2\", \"col3\"])\n",
    "\n",
    "csv_file = \"output_data/file4.csv\"\n",
    "\n",
    "## Start your code here\n",
    "df.to_csv(csv_file, columns = ['col1', 'col3'], index = False)\n",
    "## End your code here\n",
    "\n",
    "## Preview the file (DO NOT CHANGE!)\n",
    "!cat \"{csv_file}\""
   ]
  },
  {
   "cell_type": "markdown",
   "metadata": {
    "cell_id": "71c1fe56fddc4fcba79a7221bf238de4",
    "deepnote_cell_type": "text-cell-h3",
    "formattedRanges": [],
    "is_collapsed": false,
    "tags": []
   },
   "source": [
    "### 20. Given a dataframe \"df\" with three columns -- \"col1\", \"col2\" and \"col3\". Store the DataFrame to a CSV file without the column row ( and without the index values)."
   ]
  },
  {
   "cell_type": "code",
   "execution_count": 47,
   "metadata": {
    "cell_id": "ffca3ac6c28b4a0c89ce952a1b29528f",
    "deepnote_cell_height": 241,
    "deepnote_cell_type": "code",
    "tags": []
   },
   "outputs": [
    {
     "name": "stdout",
     "output_type": "stream",
     "text": [
      "1,2,3\n",
      "4,5,6\n"
     ]
    }
   ],
   "source": [
    "df = pd.DataFrame([[1,2,3], [4,5,6]], \n",
    "                  columns = [\"col1\", \"col2\", \"col3\"])\n",
    "\n",
    "csv_file = \"output_data/file5.csv\"\n",
    "\n",
    "## Start your code here\n",
    "df.to_csv(csv_file, header = False, index = False)\n",
    "## End your code here\n",
    "\n",
    "## Preview the file (DO NOT CHANGE!)\n",
    "!cat \"{csv_file}\""
   ]
  },
  {
   "cell_type": "markdown",
   "metadata": {
    "cell_id": "a5c33457dd2943bea0f085846dbbf836",
    "deepnote_cell_type": "text-cell-h2",
    "formattedRanges": [],
    "is_collapsed": false,
    "tags": []
   },
   "source": [
    "## Input Operations from other file formats in Pandas"
   ]
  },
  {
   "cell_type": "markdown",
   "metadata": {
    "cell_id": "5a50047f94444f76b8e1caaafc350e8a",
    "deepnote_cell_type": "text-cell-h3",
    "formattedRanges": [],
    "is_collapsed": false,
    "tags": []
   },
   "source": [
    "### 21. Read a DataFrame from a Pickle File."
   ]
  },
  {
   "cell_type": "code",
   "execution_count": 49,
   "metadata": {
    "cell_id": "11737717005449129596c2fe9a8ee42a",
    "deepnote_cell_height": 115,
    "deepnote_cell_type": "code",
    "tags": []
   },
   "outputs": [
    {
     "name": "stdout",
     "output_type": "stream",
     "text": [
      "   col1  col2  col3\n",
      "0     1     2     3\n",
      "1     4     5     6\n",
      "2     7     8     9\n"
     ]
    }
   ],
   "source": [
    "pickle_file = \"input_data/file1.pickle\"\n",
    "\n",
    "df = pd.read_pickle(pickle_file)\n",
    "print(df)"
   ]
  },
  {
   "cell_type": "markdown",
   "metadata": {
    "cell_id": "80a0811012af47779f724d8f220813f6",
    "deepnote_cell_type": "text-cell-h3",
    "formattedRanges": [],
    "is_collapsed": false,
    "tags": []
   },
   "source": [
    "### 22. Read a DataFrame from a Parquet File."
   ]
  },
  {
   "cell_type": "code",
   "execution_count": 2,
   "metadata": {
    "cell_id": "74afece71f4a4bb4bdcfe66be20005d2",
    "deepnote_cell_height": 115,
    "deepnote_cell_type": "code",
    "tags": []
   },
   "outputs": [
    {
     "name": "stdout",
     "output_type": "stream",
     "text": [
      "   col1  col2  col3\n",
      "0     1     2     3\n",
      "1     4     5     6\n",
      "2     7     8     9\n"
     ]
    }
   ],
   "source": [
    "parquet_file = \"input_data/file1.parquet\"\n",
    "\n",
    "df = pd.read_parquet(parquet_file)\n",
    "print(df)"
   ]
  },
  {
   "cell_type": "markdown",
   "metadata": {
    "cell_id": "7a003a80e3c2495d8e5678e94fdcf6bc",
    "deepnote_cell_type": "text-cell-h3",
    "formattedRanges": [],
    "is_collapsed": false,
    "tags": []
   },
   "source": [
    "### 23. Read a DataFrame from a Parquet File. The file has three columns, \"col1\", \"col2\" and \"col3\". Read only \"col1\" and \"col3\"."
   ]
  },
  {
   "cell_type": "code",
   "execution_count": 3,
   "metadata": {
    "cell_id": "9299f044cb504093a2d0f6d3f0045a57",
    "deepnote_cell_height": 115,
    "deepnote_cell_type": "code",
    "tags": []
   },
   "outputs": [
    {
     "name": "stdout",
     "output_type": "stream",
     "text": [
      "   col1  col3\n",
      "0     1     3\n",
      "1     4     6\n",
      "2     7     9\n"
     ]
    }
   ],
   "source": [
    "parquet_file = \"input_data/file1.parquet\"\n",
    "\n",
    "df = pd.read_parquet(parquet_file, columns = ['col1', 'col3'])\n",
    "print(df)"
   ]
  },
  {
   "cell_type": "markdown",
   "metadata": {
    "cell_id": "709ba97d343f461d9b6941fb2a05b1ea",
    "deepnote_cell_type": "text-cell-h3",
    "formattedRanges": [],
    "is_collapsed": false,
    "tags": []
   },
   "source": [
    "### 24. Read a DataFrame from a Feather File."
   ]
  },
  {
   "cell_type": "code",
   "execution_count": 4,
   "metadata": {
    "cell_id": "b1674b4cf01f44608e74c38356b38afa",
    "deepnote_cell_height": 115,
    "deepnote_cell_type": "code",
    "tags": []
   },
   "outputs": [
    {
     "name": "stdout",
     "output_type": "stream",
     "text": [
      "   col1  col2  col3\n",
      "0     1     2     3\n",
      "1     4     5     6\n",
      "2     7     8     9\n"
     ]
    }
   ],
   "source": [
    "feather_file = \"input_data/file1.feather\"\n",
    "\n",
    "df = pd.read_feather(feather_file)\n",
    "print(df)"
   ]
  },
  {
   "cell_type": "markdown",
   "metadata": {
    "cell_id": "cdc07eb2d2e1452c9675b17b2ad33338",
    "deepnote_cell_type": "text-cell-h3",
    "formattedRanges": [],
    "is_collapsed": false,
    "tags": []
   },
   "source": [
    "### 25. Read a DataFrame from a Feather File. The file has three columns, \"col1\", \"col2\" and \"col3\". Read only \"col1\" and \"col3\"."
   ]
  },
  {
   "cell_type": "code",
   "execution_count": 5,
   "metadata": {
    "cell_id": "a33536e6f7ba421dac6aedd0b5888cf9",
    "deepnote_cell_height": 115,
    "deepnote_cell_type": "code",
    "tags": []
   },
   "outputs": [
    {
     "name": "stdout",
     "output_type": "stream",
     "text": [
      "   col1  col3\n",
      "0     1     3\n",
      "1     4     6\n",
      "2     7     9\n"
     ]
    }
   ],
   "source": [
    "feather_file = \"input_data/file1.feather\"\n",
    "\n",
    "df = df = pd.read_feather(feather_file, ['col1', 'col3'])\n",
    "print(df)"
   ]
  },
  {
   "cell_type": "markdown",
   "metadata": {
    "cell_id": "8d333e07712b4449b3354b8f18812974",
    "deepnote_cell_type": "text-cell-h2",
    "formattedRanges": [],
    "is_collapsed": false,
    "tags": []
   },
   "source": [
    "## Output Operations to other file formats in Pandas"
   ]
  },
  {
   "cell_type": "markdown",
   "metadata": {
    "cell_id": "da36b6bb251d410292bd3239556dc0ce",
    "deepnote_cell_type": "text-cell-h3",
    "formattedRanges": [],
    "is_collapsed": false,
    "tags": []
   },
   "source": [
    "### 26. Save the DataFrame to a Pickle File."
   ]
  },
  {
   "cell_type": "code",
   "execution_count": 6,
   "metadata": {
    "cell_id": "db8950dc1a1b4efca79ffbc44dc11e68",
    "deepnote_cell_height": 241,
    "deepnote_cell_type": "code",
    "tags": []
   },
   "outputs": [
    {
     "name": "stdout",
     "output_type": "stream",
     "text": [
      "�\u0005��\u0002\u0000\u0000\u0000\u0000\u0000\u0000�\u0011pandas.core.frame��\tDataFrame���)��}�(�\u0004_mgr��\u001e",
      "pandas.core.internals.managers��\f",
      "BlockManager����\u0016pandas._libs.internals��\u000f_unpickle_block����\u0012numpy.core.numeric��\u000b",
      "_frombuffer���(�0\u0000\u0000\u0000\u0000\u0000\u0000\u0000\u0001\u0000\u0000\u0000\u0000\u0000\u0000\u0000\u0004\u0000\u0000\u0000\u0000\u0000\u0000\u0000\u0002\u0000\u0000\u0000\u0000\u0000\u0000\u0000\u0005\u0000\u0000\u0000\u0000\u0000\u0000\u0000\u0003\u0000\u0000\u0000\u0000\u0000\u0000\u0000\u0006\u0000\u0000\u0000\u0000\u0000\u0000\u0000��\u0005numpy��\u0005dtype����\u0002i8�����R�(K\u0003�\u0001<�NNNJ����J����K\u0000t�bK\u0003K\u0002���\u0001C�t�R�builtins��\u0005slice���K\u0000K\u0003K\u0001��R�K\u0002��R���]�(�\u0018pandas.core.indexes.base��\n",
      "_new_Index���h%�\u0005Index���}�(�\u0004data��\u0015numpy.core.multiarray��\f",
      "_reconstruct���h\u0010�\u0007ndarray���K\u0000��C\u0001b���R�(K\u0001K\u0003��h\u0012�\u0002O8�����R�(K\u0003�\u0001|�NNNJ����J����K?t�b�]�(�\u0004col1��\u0004col2��\u0004col3�et�b�\u0004name�Nu��R�h'�\u0019pandas.core.indexes.range��\n",
      "RangeIndex���}�(h@N�\u0005start�K\u0000�\u0004stop�K\u0002�\u0004step�K\u0001u��R�e��R��\u0004_typ��\tdataframe��\t_metadata�]��\u0005attrs�}��\u0006_flags�}��\u0017allows_duplicate_labels��sub."
     ]
    }
   ],
   "source": [
    "df = pd.DataFrame([[1,2,3], [4,5,6]], \n",
    "                  columns = [\"col1\", \"col2\", \"col3\"])\n",
    "\n",
    "pickle_file = \"output_data/file1.pickle\"\n",
    "\n",
    "## Start your code here\n",
    "df.to_pickle(pickle_file)\n",
    "## End your code here\n",
    "\n",
    "## Preview the file (DO NOT CHANGE!)\n",
    "!cat \"{pickle_file}\""
   ]
  },
  {
   "cell_type": "markdown",
   "metadata": {
    "cell_id": "f40465e87e0b4a8b813ff09fc1c78572",
    "deepnote_cell_type": "text-cell-h3",
    "formattedRanges": [],
    "is_collapsed": false,
    "tags": []
   },
   "source": [
    "### 27. Save the DataFrame to a Parquet File."
   ]
  },
  {
   "cell_type": "code",
   "execution_count": 7,
   "metadata": {
    "cell_id": "a66b50fd24a34df78a22a8186c89bf40",
    "deepnote_cell_height": 241,
    "deepnote_cell_type": "code",
    "tags": []
   },
   "outputs": [
    {
     "name": "stdout",
     "output_type": "stream",
     "text": [
      "�\u0005��\u0002\u0000\u0000\u0000\u0000\u0000\u0000�\u0011pandas.core.frame��\tDataFrame���)��}�(�\u0004_mgr��\u001e",
      "pandas.core.internals.managers��\f",
      "BlockManager����\u0016pandas._libs.internals��\u000f_unpickle_block����\u0012numpy.core.numeric��\u000b",
      "_frombuffer���(�0\u0000\u0000\u0000\u0000\u0000\u0000\u0000\u0001\u0000\u0000\u0000\u0000\u0000\u0000\u0000\u0004\u0000\u0000\u0000\u0000\u0000\u0000\u0000\u0002\u0000\u0000\u0000\u0000\u0000\u0000\u0000\u0005\u0000\u0000\u0000\u0000\u0000\u0000\u0000\u0003\u0000\u0000\u0000\u0000\u0000\u0000\u0000\u0006\u0000\u0000\u0000\u0000\u0000\u0000\u0000��\u0005numpy��\u0005dtype����\u0002i8�����R�(K\u0003�\u0001<�NNNJ����J����K\u0000t�bK\u0003K\u0002���\u0001C�t�R�builtins��\u0005slice���K\u0000K\u0003K\u0001��R�K\u0002��R���]�(�\u0018pandas.core.indexes.base��\n",
      "_new_Index���h%�\u0005Index���}�(�\u0004data��\u0015numpy.core.multiarray��\f",
      "_reconstruct���h\u0010�\u0007ndarray���K\u0000��C\u0001b���R�(K\u0001K\u0003��h\u0012�\u0002O8�����R�(K\u0003�\u0001|�NNNJ����J����K?t�b�]�(�\u0004col1��\u0004col2��\u0004col3�et�b�\u0004name�Nu��R�h'�\u0019pandas.core.indexes.range��\n",
      "RangeIndex���}�(h@N�\u0005start�K\u0000�\u0004stop�K\u0002�\u0004step�K\u0001u��R�e��R��\u0004_typ��\tdataframe��\t_metadata�]��\u0005attrs�}��\u0006_flags�}��\u0017allows_duplicate_labels��sub."
     ]
    }
   ],
   "source": [
    "df = pd.DataFrame([[1,2,3], [4,5,6]], \n",
    "                  columns = [\"col1\", \"col2\", \"col3\"])\n",
    "\n",
    "parquet_file = \"output_data/file1.parquet\"\n",
    "\n",
    "## Start your code here\n",
    "df.to_parquet(parquet_file)\n",
    "## End your code here\n",
    "\n",
    "## Preview the file (DO NOT CHANGE!)\n",
    "!cat \"{pickle_file}\""
   ]
  },
  {
   "cell_type": "markdown",
   "metadata": {
    "cell_id": "757b92f2ceac472e80286592b7b3178d",
    "deepnote_cell_type": "text-cell-h3",
    "formattedRanges": [],
    "is_collapsed": false,
    "tags": []
   },
   "source": [
    "### 28. Save the DataFrame to a Parquet File without the index column"
   ]
  },
  {
   "cell_type": "code",
   "execution_count": 9,
   "metadata": {
    "cell_id": "92b95f5cc9654ee1b27f3114cddd3aaa",
    "deepnote_cell_height": 241,
    "deepnote_cell_type": "code",
    "tags": []
   },
   "outputs": [
    {
     "name": "stdout",
     "output_type": "stream",
     "text": [
      "�\u0005��\u0002\u0000\u0000\u0000\u0000\u0000\u0000�\u0011pandas.core.frame��\tDataFrame���)��}�(�\u0004_mgr��\u001e",
      "pandas.core.internals.managers��\f",
      "BlockManager����\u0016pandas._libs.internals��\u000f_unpickle_block����\u0012numpy.core.numeric��\u000b",
      "_frombuffer���(�0\u0000\u0000\u0000\u0000\u0000\u0000\u0000\u0001\u0000\u0000\u0000\u0000\u0000\u0000\u0000\u0004\u0000\u0000\u0000\u0000\u0000\u0000\u0000\u0002\u0000\u0000\u0000\u0000\u0000\u0000\u0000\u0005\u0000\u0000\u0000\u0000\u0000\u0000\u0000\u0003\u0000\u0000\u0000\u0000\u0000\u0000\u0000\u0006\u0000\u0000\u0000\u0000\u0000\u0000\u0000��\u0005numpy��\u0005dtype����\u0002i8�����R�(K\u0003�\u0001<�NNNJ����J����K\u0000t�bK\u0003K\u0002���\u0001C�t�R�builtins��\u0005slice���K\u0000K\u0003K\u0001��R�K\u0002��R���]�(�\u0018pandas.core.indexes.base��\n",
      "_new_Index���h%�\u0005Index���}�(�\u0004data��\u0015numpy.core.multiarray��\f",
      "_reconstruct���h\u0010�\u0007ndarray���K\u0000��C\u0001b���R�(K\u0001K\u0003��h\u0012�\u0002O8�����R�(K\u0003�\u0001|�NNNJ����J����K?t�b�]�(�\u0004col1��\u0004col2��\u0004col3�et�b�\u0004name�Nu��R�h'�\u0019pandas.core.indexes.range��\n",
      "RangeIndex���}�(h@N�\u0005start�K\u0000�\u0004stop�K\u0002�\u0004step�K\u0001u��R�e��R��\u0004_typ��\tdataframe��\t_metadata�]��\u0005attrs�}��\u0006_flags�}��\u0017allows_duplicate_labels��sub."
     ]
    }
   ],
   "source": [
    "df = pd.DataFrame([[1,2,3], [4,5,6]], \n",
    "                  columns = [\"col1\", \"col2\", \"col3\"])\n",
    "\n",
    "parquet_file = \"output_data/file2.parquet\"\n",
    "\n",
    "## Start your code here\n",
    "df.to_parquet(parquet_file, index = False)\n",
    "## End your code here\n",
    "\n",
    "## Preview the file (DO NOT CHANGE!)\n",
    "!cat \"{pickle_file}\""
   ]
  },
  {
   "cell_type": "markdown",
   "metadata": {
    "cell_id": "cb85b06be3fc44f1be1cc7374338047f",
    "deepnote_cell_type": "text-cell-h3",
    "formattedRanges": [],
    "is_collapsed": false,
    "tags": []
   },
   "source": [
    "### 29. Save the DataFrame to a Feather File."
   ]
  },
  {
   "cell_type": "code",
   "execution_count": 10,
   "metadata": {
    "cell_id": "75a1e91bd58a4970a040ed7f1f8a7127",
    "deepnote_cell_height": 241,
    "deepnote_cell_type": "code",
    "tags": []
   },
   "outputs": [
    {
     "name": "stdout",
     "output_type": "stream",
     "text": [
      "ARROW1\u0000\u0000�����\u0003\u0000\u0000\u0010\u0000\u0000\u0000\u0000\u0000\n",
      "\u0000\u000e\u0000\u0006\u0000\u0005\u0000\n",
      "\u0000\u0000\u0000\u0000\u0001\u0004\u0000\u0010\u0000\u0000\u0000\u0000\u0000\n",
      "\u0000\f",
      "\u0000\u0000\u0000\u0004\u0000\n",
      "\u0000\u0000\u0000�\u0002\u0000\u0000\u0004\u0000\u0000\u0000\u0001\u0000\u0000\u0000\f",
      "\u0000\u0000\u0000\f",
      "\u0000\u0004\u0000\u0000\u0000�\u0002\u0000\u0000\u0004\u0000\u0000\u0000~\u0002\u0000\u0000{\"index_columns\": [{\"kind\": \"range\", \"name\": null, \"start\": 0, \"stop\": 2, \"step\": 1}], \"column_indexes\": [{\"name\": null, \"field_name\": null, \"pandas_type\": \"unicode\", \"numpy_type\": \"object\", \"metadata\": {\"encoding\": \"UTF-8\"}}], \"columns\": [{\"name\": \"col1\", \"field_name\": \"col1\", \"pandas_type\": \"int64\", \"numpy_type\": \"int64\", \"metadata\": null}, {\"name\": \"col2\", \"field_name\": \"col2\", \"pandas_type\": \"int64\", \"numpy_type\": \"int64\", \"metadata\": null}, {\"name\": \"col3\", \"field_name\": \"col3\", \"pandas_type\": \"int64\", \"numpy_type\": \"int64\", \"metadata\": null}], \"creator\": {\"library\": \"pyarrow\", \"version\": \"11.0.0\"}, \"pandas_version\": \"2.2.2\"}\u0000\u0000\u0006\u0000\u0000\u0000pandas\u0000\u0000\u0003\u0000\u0000\u0000|\u0000\u0000\u00008\u0000\u0000\u0000\u0004\u0000\u0000\u0000����\u0000\u0000\u0001\u0002\u0010\u0000\u0000\u0000\u0018\u0000\u0000\u0000\u0004\u0000\u0000\u0000\u0000\u0000\u0000\u0000\u0004\u0000\u0000\u0000col3\u0000\u0000\u0000\u0000����\u0000\u0000\u0000\u0001@\u0000\u0000\u0000����\u0000\u0000\u0001\u0002\u0010\u0000\u0000\u0000\u0018\u0000\u0000\u0000\u0004\u0000\u0000\u0000\u0000\u0000\u0000\u0000\u0004\u0000\u0000\u0000col2\u0000\u0000\u0000\u0000����\u0000\u0000\u0000\u0001@\u0000\u0000\u0000\u0010\u0000\u0014\u0000\u0006\u0000\u0007\u0000\f",
      "\u0000\u0000\u0000\u0010\u0000\u0010\u0000\u0000\u0000\u0000\u0000\u0001\u0002\u0010\u0000\u0000\u0000 \u0000\u0000\u0000\u0004\u0000\u0000\u0000\u0000\u0000\u0000\u0000\u0004\u0000\u0000\u0000col1\u0000\u0000\u0000\u0000\f",
      "\u0000\u0007\u0000\u0000\u0000\u0000\u0000\u0000\u0001@\u0000\u0000\u0000�����\u0000\u0000\u0000\u0014\u0000\u0000\u0000\u0000\u0000\u0000\u0000\f",
      "\u0000\u0018\u0000\u0006\u0000\u0005\u0000\f",
      "\u0000\f",
      "\u0000\u0000\u0000\u0000\u0003\u0004\u0000\u001c",
      "\u0000\u0000\u0000x\u0000\u0000\u0000\u0000\u0000\u0000\u0000\u0000\u0000\u0000\u0000\f",
      "\u0000\u001c",
      "\u0000\u0010\u0000\u0004\u0000\f",
      "\u0000\f",
      "\u0000\u0000\u0000�\u0000\u0000\u0000\u001c",
      "\u0000\u0000\u0000\u0014\u0000\u0000\u0000\u0002\u0000\u0000\u0000\u0000\u0000\u0000\u0000\u0000\u0000\u0000\u0000\u0004\u0000\u0004\u0000\u0004\u0000\u0000\u0000\u0006\u0000\u0000\u0000\u0000\u0000\u0000\u0000\u0000\u0000\u0000\u0000\u0000\u0000\u0000\u0000\u0000\u0000\u0000\u0000\u0000\u0000\u0000\u0000\u0000\u0000\u0000\u0000%\u0000\u0000\u0000\u0000\u0000\u0000\u0000(\u0000\u0000\u0000\u0000\u0000\u0000\u0000\u0000\u0000\u0000\u0000\u0000\u0000\u0000\u0000(\u0000\u0000\u0000\u0000\u0000\u0000\u0000%\u0000\u0000\u0000\u0000\u0000\u0000\u0000P\u0000\u0000\u0000\u0000\u0000\u0000\u0000\u0000\u0000\u0000\u0000\u0000\u0000\u0000\u0000P\u0000\u0000\u0000\u0000\u0000\u0000\u0000%\u0000\u0000\u0000\u0000\u0000\u0000\u0000\u0000\u0000\u0000\u0000\u0003\u0000\u0000\u0000\u0002\u0000\u0000\u0000\u0000\u0000\u0000\u0000\u0000\u0000\u0000\u0000\u0000\u0000\u0000\u0000\u0002\u0000\u0000\u0000\u0000\u0000\u0000\u0000\u0000\u0000\u0000\u0000\u0000\u0000\u0000\u0000\u0002\u0000\u0000\u0000\u0000\u0000\u0000\u0000\u0000\u0000\u0000\u0000\u0000\u0000\u0000\u0000\u0010\u0000\u0000\u0000\u0000\u0000\u0000\u0000\u0004\"M\u0018`@�\u000e\u0000\u0000\u0000\"\u0001\u0000\u0001\u0000�\u0004\u0000\u0000\u0000\u0000\u0000\u0000\u0000\u0000\u0000\u0000\u0000\u0000\u0000\u0000\u0010\u0000\u0000\u0000\u0000\u0000\u0000\u0000\u0004\"M\u0018`@�\u000e\u0000\u0000\u0000\"\u0002\u0000\u0001\u0000�\u0005\u0000\u0000\u0000\u0000\u0000\u0000\u0000\u0000\u0000\u0000\u0000\u0000\u0000\u0000\u0010\u0000\u0000\u0000\u0000\u0000\u0000\u0000\u0004\"M\u0018`@�\u000e\u0000\u0000\u0000\"\u0003\u0000\u0001\u0000�\u0006\u0000\u0000\u0000\u0000\u0000\u0000\u0000\u0000\u0000\u0000\u0000\u0000\u0000\u0000����\u0000\u0000\u0000\u0000\u0010\u0000\u0000\u0000\f",
      "\u0000\u0014\u0000\u0006\u0000\f",
      "\u0000\u0010\u0000\f",
      "\u0000\u0000\u0000\u0000\u0000\u0004\u0000@\u0000\u0000\u0000(\u0000\u0000\u0000\u0004\u0000\u0000\u0000\u0001\u0000\u0000\u0000�\u0003\u0000\u0000\u0000\u0000\u0000\u0000\u0000\u0001\u0000\u0000\u0000\u0000\u0000\u0000x\u0000\u0000\u0000\u0000\u0000\u0000\u0000\u0000\u0000\u0000\u0000\u0000\u0000\u0000\u0000\u0000\u0000\u0000\u0000\u0000\u0000\n",
      "\u0000\f",
      "\u0000\u0000\u0000\u0004\u0000\n",
      "\u0000\u0000\u0000�\u0002\u0000\u0000\u0004\u0000\u0000\u0000\u0001\u0000\u0000\u0000\f",
      "\u0000\u0000\u0000\f",
      "\u0000\u0004\u0000\u0000\u0000�\u0002\u0000\u0000\u0004\u0000\u0000\u0000~\u0002\u0000\u0000{\"index_columns\": [{\"kind\": \"range\", \"name\": null, \"start\": 0, \"stop\": 2, \"step\": 1}], \"column_indexes\": [{\"name\": null, \"field_name\": null, \"pandas_type\": \"unicode\", \"numpy_type\": \"object\", \"metadata\": {\"encoding\": \"UTF-8\"}}], \"columns\": [{\"name\": \"col1\", \"field_name\": \"col1\", \"pandas_type\": \"int64\", \"numpy_type\": \"int64\", \"metadata\": null}, {\"name\": \"col2\", \"field_name\": \"col2\", \"pandas_type\": \"int64\", \"numpy_type\": \"int64\", \"metadata\": null}, {\"name\": \"col3\", \"field_name\": \"col3\", \"pandas_type\": \"int64\", \"numpy_type\": \"int64\", \"metadata\": null}], \"creator\": {\"library\": \"pyarrow\", \"version\": \"11.0.0\"}, \"pandas_version\": \"2.2.2\"}\u0000\u0000\u0006\u0000\u0000\u0000pandas\u0000\u0000\u0003\u0000\u0000\u0000|\u0000\u0000\u00008\u0000\u0000\u0000\u0004\u0000\u0000\u0000����\u0000\u0000\u0001\u0002\u0010\u0000\u0000\u0000\u0018\u0000\u0000\u0000\u0004\u0000\u0000\u0000\u0000\u0000\u0000\u0000\u0004\u0000\u0000\u0000col3\u0000\u0000\u0000\u0000����\u0000\u0000\u0000\u0001@\u0000\u0000\u0000����\u0000\u0000\u0001\u0002\u0010\u0000\u0000\u0000\u0018\u0000\u0000\u0000\u0004\u0000\u0000\u0000\u0000\u0000\u0000\u0000\u0004\u0000\u0000\u0000col2\u0000\u0000\u0000\u0000����\u0000\u0000\u0000\u0001@\u0000\u0000\u0000\u0010\u0000\u0014\u0000\u0006\u0000\u0007\u0000\f",
      "\u0000\u0000\u0000\u0010\u0000\u0010\u0000\u0000\u0000\u0000\u0000\u0001\u0002\u0010\u0000\u0000\u0000 \u0000\u0000\u0000\u0004\u0000\u0000\u0000\u0000\u0000\u0000\u0000\u0004\u0000\u0000\u0000col1\u0000\u0000\u0000\u0000\f",
      "\u0000\u0007\u0000\u0000\u0000\u0000\u0000\u0000\u0001@\u0000\u0000\u0000�\u0003\u0000\u0000ARROW1"
     ]
    }
   ],
   "source": [
    "df = pd.DataFrame([[1,2,3], [4,5,6]], \n",
    "                  columns = [\"col1\", \"col2\", \"col3\"])\n",
    "\n",
    "feather_file = \"output_data/file1.feather\"\n",
    "\n",
    "## Start your code here\n",
    "df.to_feather(feather_file)\n",
    "## End your code here\n",
    "\n",
    "## Preview the file (DO NOT CHANGE!)\n",
    "!cat \"{feather_file}\""
   ]
  },
  {
   "cell_type": "markdown",
   "metadata": {
    "cell_id": "242880a94605400f9eadae28d1d60c39",
    "deepnote_cell_type": "text-cell-h3",
    "formattedRanges": [],
    "is_collapsed": false,
    "tags": []
   },
   "source": [
    "### 30. Save the DataFrame to a Feather File without the index column."
   ]
  },
  {
   "cell_type": "code",
   "execution_count": 13,
   "metadata": {
    "cell_id": "7d2ed1691a204aeb8190942c1b00997e",
    "deepnote_cell_height": 241,
    "deepnote_cell_type": "code",
    "tags": []
   },
   "outputs": [
    {
     "name": "stdout",
     "output_type": "stream",
     "text": [
      "ARROW1\u0000\u0000�����\u0003\u0000\u0000\u0010\u0000\u0000\u0000\u0000\u0000\n",
      "\u0000\u000e\u0000\u0006\u0000\u0005\u0000\n",
      "\u0000\u0000\u0000\u0000\u0001\u0004\u0000\u0010\u0000\u0000\u0000\u0000\u0000\n",
      "\u0000\f",
      "\u0000\u0000\u0000\u0004\u0000\n",
      "\u0000\u0000\u0000�\u0002\u0000\u0000\u0004\u0000\u0000\u0000\u0001\u0000\u0000\u0000\f",
      "\u0000\u0000\u0000\f",
      "\u0000\u0004\u0000\u0000\u0000�\u0002\u0000\u0000\u0004\u0000\u0000\u0000~\u0002\u0000\u0000{\"index_columns\": [{\"kind\": \"range\", \"name\": null, \"start\": 0, \"stop\": 2, \"step\": 1}], \"column_indexes\": [{\"name\": null, \"field_name\": null, \"pandas_type\": \"unicode\", \"numpy_type\": \"object\", \"metadata\": {\"encoding\": \"UTF-8\"}}], \"columns\": [{\"name\": \"col1\", \"field_name\": \"col1\", \"pandas_type\": \"int64\", \"numpy_type\": \"int64\", \"metadata\": null}, {\"name\": \"col2\", \"field_name\": \"col2\", \"pandas_type\": \"int64\", \"numpy_type\": \"int64\", \"metadata\": null}, {\"name\": \"col3\", \"field_name\": \"col3\", \"pandas_type\": \"int64\", \"numpy_type\": \"int64\", \"metadata\": null}], \"creator\": {\"library\": \"pyarrow\", \"version\": \"11.0.0\"}, \"pandas_version\": \"2.2.2\"}\u0000\u0000\u0006\u0000\u0000\u0000pandas\u0000\u0000\u0003\u0000\u0000\u0000|\u0000\u0000\u00008\u0000\u0000\u0000\u0004\u0000\u0000\u0000����\u0000\u0000\u0001\u0002\u0010\u0000\u0000\u0000\u0018\u0000\u0000\u0000\u0004\u0000\u0000\u0000\u0000\u0000\u0000\u0000\u0004\u0000\u0000\u0000col3\u0000\u0000\u0000\u0000����\u0000\u0000\u0000\u0001@\u0000\u0000\u0000����\u0000\u0000\u0001\u0002\u0010\u0000\u0000\u0000\u0018\u0000\u0000\u0000\u0004\u0000\u0000\u0000\u0000\u0000\u0000\u0000\u0004\u0000\u0000\u0000col2\u0000\u0000\u0000\u0000����\u0000\u0000\u0000\u0001@\u0000\u0000\u0000\u0010\u0000\u0014\u0000\u0006\u0000\u0007\u0000\f",
      "\u0000\u0000\u0000\u0010\u0000\u0010\u0000\u0000\u0000\u0000\u0000\u0001\u0002\u0010\u0000\u0000\u0000 \u0000\u0000\u0000\u0004\u0000\u0000\u0000\u0000\u0000\u0000\u0000\u0004\u0000\u0000\u0000col1\u0000\u0000\u0000\u0000\f",
      "\u0000\u0007\u0000\u0000\u0000\u0000\u0000\u0000\u0001@\u0000\u0000\u0000�����\u0000\u0000\u0000\u0014\u0000\u0000\u0000\u0000\u0000\u0000\u0000\f",
      "\u0000\u0018\u0000\u0006\u0000\u0005\u0000\f",
      "\u0000\f",
      "\u0000\u0000\u0000\u0000\u0003\u0004\u0000\u001c",
      "\u0000\u0000\u0000x\u0000\u0000\u0000\u0000\u0000\u0000\u0000\u0000\u0000\u0000\u0000\f",
      "\u0000\u001c",
      "\u0000\u0010\u0000\u0004\u0000\f",
      "\u0000\f",
      "\u0000\u0000\u0000�\u0000\u0000\u0000\u001c",
      "\u0000\u0000\u0000\u0014\u0000\u0000\u0000\u0002\u0000\u0000\u0000\u0000\u0000\u0000\u0000\u0000\u0000\u0000\u0000\u0004\u0000\u0004\u0000\u0004\u0000\u0000\u0000\u0006\u0000\u0000\u0000\u0000\u0000\u0000\u0000\u0000\u0000\u0000\u0000\u0000\u0000\u0000\u0000\u0000\u0000\u0000\u0000\u0000\u0000\u0000\u0000\u0000\u0000\u0000\u0000%\u0000\u0000\u0000\u0000\u0000\u0000\u0000(\u0000\u0000\u0000\u0000\u0000\u0000\u0000\u0000\u0000\u0000\u0000\u0000\u0000\u0000\u0000(\u0000\u0000\u0000\u0000\u0000\u0000\u0000%\u0000\u0000\u0000\u0000\u0000\u0000\u0000P\u0000\u0000\u0000\u0000\u0000\u0000\u0000\u0000\u0000\u0000\u0000\u0000\u0000\u0000\u0000P\u0000\u0000\u0000\u0000\u0000\u0000\u0000%\u0000\u0000\u0000\u0000\u0000\u0000\u0000\u0000\u0000\u0000\u0000\u0003\u0000\u0000\u0000\u0002\u0000\u0000\u0000\u0000\u0000\u0000\u0000\u0000\u0000\u0000\u0000\u0000\u0000\u0000\u0000\u0002\u0000\u0000\u0000\u0000\u0000\u0000\u0000\u0000\u0000\u0000\u0000\u0000\u0000\u0000\u0000\u0002\u0000\u0000\u0000\u0000\u0000\u0000\u0000\u0000\u0000\u0000\u0000\u0000\u0000\u0000\u0000\u0010\u0000\u0000\u0000\u0000\u0000\u0000\u0000\u0004\"M\u0018`@�\u000e\u0000\u0000\u0000\"\u0001\u0000\u0001\u0000�\u0004\u0000\u0000\u0000\u0000\u0000\u0000\u0000\u0000\u0000\u0000\u0000\u0000\u0000\u0000\u0010\u0000\u0000\u0000\u0000\u0000\u0000\u0000\u0004\"M\u0018`@�\u000e\u0000\u0000\u0000\"\u0002\u0000\u0001\u0000�\u0005\u0000\u0000\u0000\u0000\u0000\u0000\u0000\u0000\u0000\u0000\u0000\u0000\u0000\u0000\u0010\u0000\u0000\u0000\u0000\u0000\u0000\u0000\u0004\"M\u0018`@�\u000e\u0000\u0000\u0000\"\u0003\u0000\u0001\u0000�\u0006\u0000\u0000\u0000\u0000\u0000\u0000\u0000\u0000\u0000\u0000\u0000\u0000\u0000\u0000����\u0000\u0000\u0000\u0000\u0010\u0000\u0000\u0000\f",
      "\u0000\u0014\u0000\u0006\u0000\f",
      "\u0000\u0010\u0000\f",
      "\u0000\u0000\u0000\u0000\u0000\u0004\u0000@\u0000\u0000\u0000(\u0000\u0000\u0000\u0004\u0000\u0000\u0000\u0001\u0000\u0000\u0000�\u0003\u0000\u0000\u0000\u0000\u0000\u0000\u0000\u0001\u0000\u0000\u0000\u0000\u0000\u0000x\u0000\u0000\u0000\u0000\u0000\u0000\u0000\u0000\u0000\u0000\u0000\u0000\u0000\u0000\u0000\u0000\u0000\u0000\u0000\u0000\u0000\n",
      "\u0000\f",
      "\u0000\u0000\u0000\u0004\u0000\n",
      "\u0000\u0000\u0000�\u0002\u0000\u0000\u0004\u0000\u0000\u0000\u0001\u0000\u0000\u0000\f",
      "\u0000\u0000\u0000\f",
      "\u0000\u0004\u0000\u0000\u0000�\u0002\u0000\u0000\u0004\u0000\u0000\u0000~\u0002\u0000\u0000{\"index_columns\": [{\"kind\": \"range\", \"name\": null, \"start\": 0, \"stop\": 2, \"step\": 1}], \"column_indexes\": [{\"name\": null, \"field_name\": null, \"pandas_type\": \"unicode\", \"numpy_type\": \"object\", \"metadata\": {\"encoding\": \"UTF-8\"}}], \"columns\": [{\"name\": \"col1\", \"field_name\": \"col1\", \"pandas_type\": \"int64\", \"numpy_type\": \"int64\", \"metadata\": null}, {\"name\": \"col2\", \"field_name\": \"col2\", \"pandas_type\": \"int64\", \"numpy_type\": \"int64\", \"metadata\": null}, {\"name\": \"col3\", \"field_name\": \"col3\", \"pandas_type\": \"int64\", \"numpy_type\": \"int64\", \"metadata\": null}], \"creator\": {\"library\": \"pyarrow\", \"version\": \"11.0.0\"}, \"pandas_version\": \"2.2.2\"}\u0000\u0000\u0006\u0000\u0000\u0000pandas\u0000\u0000\u0003\u0000\u0000\u0000|\u0000\u0000\u00008\u0000\u0000\u0000\u0004\u0000\u0000\u0000����\u0000\u0000\u0001\u0002\u0010\u0000\u0000\u0000\u0018\u0000\u0000\u0000\u0004\u0000\u0000\u0000\u0000\u0000\u0000\u0000\u0004\u0000\u0000\u0000col3\u0000\u0000\u0000\u0000����\u0000\u0000\u0000\u0001@\u0000\u0000\u0000����\u0000\u0000\u0001\u0002\u0010\u0000\u0000\u0000\u0018\u0000\u0000\u0000\u0004\u0000\u0000\u0000\u0000\u0000\u0000\u0000\u0004\u0000\u0000\u0000col2\u0000\u0000\u0000\u0000����\u0000\u0000\u0000\u0001@\u0000\u0000\u0000\u0010\u0000\u0014\u0000\u0006\u0000\u0007\u0000\f",
      "\u0000\u0000\u0000\u0010\u0000\u0010\u0000\u0000\u0000\u0000\u0000\u0001\u0002\u0010\u0000\u0000\u0000 \u0000\u0000\u0000\u0004\u0000\u0000\u0000\u0000\u0000\u0000\u0000\u0004\u0000\u0000\u0000col1\u0000\u0000\u0000\u0000\f",
      "\u0000\u0007\u0000\u0000\u0000\u0000\u0000\u0000\u0001@\u0000\u0000\u0000�\u0003\u0000\u0000ARROW1"
     ]
    }
   ],
   "source": [
    "df = pd.DataFrame([[1,2,3], [4,5,6]], \n",
    "                  columns = [\"col1\", \"col2\", \"col3\"])\n",
    "\n",
    "feather_file = \"output_data/file2.feather\"\n",
    "\n",
    "## Start your code here\n",
    "df = df.reset_index(drop=True)\n",
    "df.to_feather(feather_file)\n",
    "## End your code here\n",
    "\n",
    "## Preview the file (DO NOT CHANGE!)\n",
    "!cat \"{feather_file}\""
   ]
  }
 ],
 "metadata": {
  "deepnote_execution_queue": [],
  "deepnote_notebook_id": "6449493c84734151b11f4b6871f045d2",
  "kernelspec": {
   "display_name": "Python 3 (ipykernel)",
   "language": "python",
   "name": "python3"
  },
  "language_info": {
   "codemirror_mode": {
    "name": "ipython",
    "version": 3
   },
   "file_extension": ".py",
   "mimetype": "text/x-python",
   "name": "python",
   "nbconvert_exporter": "python",
   "pygments_lexer": "ipython3",
   "version": "3.11.5"
  }
 },
 "nbformat": 4,
 "nbformat_minor": 4
}
