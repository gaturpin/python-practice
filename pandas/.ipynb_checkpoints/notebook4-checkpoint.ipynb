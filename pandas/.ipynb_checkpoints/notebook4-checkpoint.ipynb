{
 "cells": [
  {
   "cell_type": "markdown",
   "metadata": {
    "cell_id": "fdb413b026eb4eadaad579a2182c1025",
    "deepnote_cell_type": "text-cell-h1",
    "formattedRanges": [],
    "is_collapsed": false,
    "tags": []
   },
   "source": [
    "# Pandas Notebook 4"
   ]
  },
  {
   "cell_type": "code",
   "execution_count": 1,
   "metadata": {},
   "outputs": [],
   "source": [
    "import pandas as pd"
   ]
  },
  {
   "cell_type": "markdown",
   "metadata": {
    "cell_id": "a400ce27cd1947a4ad14d80992f6e6c6",
    "deepnote_cell_type": "text-cell-h3",
    "formattedRanges": [],
    "is_collapsed": false,
    "tags": []
   },
   "source": [
    "### 151. Sort DataFrame based on another list"
   ]
  },
  {
   "cell_type": "code",
   "execution_count": null,
   "metadata": {
    "allow_embed": "code",
    "cell_id": "13caa3b4f2a948e88177bead0a9c25b5",
    "deepnote_cell_height": 223,
    "deepnote_cell_type": "code",
    "tags": []
   },
   "outputs": [],
   "source": [
    "df = pd.DataFrame([[\"A\", 1], [\"B\", 2],\n",
    "                   [\"C\", 3], [\"D\", 4]], columns=[\"col1\", \"col2\"])\n",
    "\n",
    "sort_list = [\"C\", \"A\", \"D\", \"B\"]\n",
    "\n",
    "## start your code below\n",
    "new_df = ... \n",
    "## end your code here\n",
    "\n",
    "print(new_df)"
   ]
  },
  {
   "cell_type": "markdown",
   "metadata": {
    "cell_id": "61b8af6ccbfd4e248c2f23abb49af040",
    "deepnote_cell_type": "text-cell-h3",
    "formattedRanges": [],
    "is_collapsed": false,
    "tags": []
   },
   "source": [
    "### 152. Insert a column at a specific location in a DataFrame"
   ]
  },
  {
   "cell_type": "code",
   "execution_count": null,
   "metadata": {
    "cell_id": "c204549132f141f5a27f7a26a5dd70e9",
    "deepnote_cell_height": 259,
    "deepnote_cell_type": "code",
    "tags": []
   },
   "outputs": [],
   "source": [
    "df = pd.DataFrame([[\"A\", 1], [\"B\", 2],\n",
    "                   [\"C\", 3], [\"D\", 4]], \n",
    "                  columns=[\"col_A\", \"col_B\"])\n",
    "\n",
    "new_column = [\"P\", \"Q\", \"R\", \"S\"]\n",
    "insert_position = 1 ## between col_A and col_B\n",
    "\n",
    "## start your code below\n",
    "new_df = ... \n",
    "## end your code here\n",
    "\n",
    "print(new_df)"
   ]
  },
  {
   "cell_type": "markdown",
   "metadata": {
    "cell_id": "51ab20c57a0440a9927bb9823a30b01c",
    "deepnote_cell_type": "text-cell-h3",
    "formattedRanges": [],
    "is_collapsed": false,
    "tags": []
   },
   "source": [
    "### 153. Select columns based on the column's Data Type"
   ]
  },
  {
   "cell_type": "code",
   "execution_count": null,
   "metadata": {
    "cell_id": "438533be22ef43e9ad74367f253be745",
    "deepnote_cell_height": 241,
    "deepnote_cell_type": "code",
    "tags": []
   },
   "outputs": [],
   "source": [
    "df = pd.DataFrame([[\"A\", 1, True], [\"B\", 2, False],\n",
    "                   [\"C\", 3, False], [\"D\", 4, True]], \n",
    "                  columns=[\"col_A\", \"col_B\", \"col_C\"])\n",
    "\n",
    "dt_type = \"bool\"\n",
    "\n",
    "## start your code below\n",
    "new_df = ... \n",
    "## end your code here\n",
    "\n",
    "print(new_df)"
   ]
  },
  {
   "cell_type": "markdown",
   "metadata": {
    "cell_id": "ca51bc93ae0946d394a2452df9d2fd08",
    "deepnote_cell_type": "text-cell-h3",
    "formattedRanges": [],
    "is_collapsed": false,
    "tags": []
   },
   "source": [
    "### 154. Count the number of Non-NaN cells for each column"
   ]
  },
  {
   "cell_type": "code",
   "execution_count": null,
   "metadata": {
    "cell_id": "64577e88da21420082c032eb04e5bdd5",
    "deepnote_cell_height": 205,
    "deepnote_cell_type": "code",
    "tags": []
   },
   "outputs": [],
   "source": [
    "df = pd.DataFrame([[\"A\", np.NaN], [np.NaN, 2],\n",
    "                   [\"C\", np.NaN], [\"D\", 4]], \n",
    "                  columns=[\"col_A\", \"col_B\"])\n",
    "\n",
    "## start your code below\n",
    "new_df = ... \n",
    "## end your code here\n",
    "\n",
    "print(new_df)"
   ]
  },
  {
   "cell_type": "markdown",
   "metadata": {
    "cell_id": "1651242235cc4c568e3e1ace7aea8587",
    "deepnote_cell_type": "text-cell-h3",
    "formattedRanges": [],
    "is_collapsed": false,
    "tags": []
   },
   "source": [
    "### 155. Split DataFrame into equal parts"
   ]
  },
  {
   "cell_type": "code",
   "execution_count": null,
   "metadata": {
    "cell_id": "fe13b1f679fa4edea8e567ecb0a452a3",
    "deepnote_cell_height": 241,
    "deepnote_cell_type": "code",
    "tags": []
   },
   "outputs": [],
   "source": [
    "df = pd.DataFrame([[\"A\", 1], [\"B\", 2],\n",
    "                   [\"C\", 3], [\"D\", 4]], \n",
    "                  columns=[\"col_A\", \"col_B\"])\n",
    "\n",
    "parts = 2\n",
    "\n",
    "## start your code below\n",
    "new_df1, new_df2 = ... \n",
    "## end your code here\n",
    "\n",
    "print(new_df1)"
   ]
  },
  {
   "cell_type": "code",
   "execution_count": null,
   "metadata": {
    "cell_id": "87d28d30068b484bb446befd94120439",
    "deepnote_cell_height": 61,
    "deepnote_cell_type": "code",
    "tags": []
   },
   "outputs": [],
   "source": [
    "print(new_df2)"
   ]
  },
  {
   "cell_type": "markdown",
   "metadata": {
    "cell_id": "1f8303b2678c4355aaff04bbf784807f",
    "deepnote_cell_type": "text-cell-h3",
    "formattedRanges": [],
    "is_collapsed": false,
    "tags": []
   },
   "source": [
    "### 156. Reverse DataFrame row-wise"
   ]
  },
  {
   "cell_type": "code",
   "execution_count": null,
   "metadata": {
    "cell_id": "68940c72773343f08b875c909e2f3c5e",
    "deepnote_cell_height": 169,
    "deepnote_cell_type": "code",
    "tags": []
   },
   "outputs": [],
   "source": [
    "df = pd.DataFrame([[\"A\", 1], [\"B\", 2],\n",
    "                   [\"C\", 3], [\"D\", 4]], \n",
    "                  columns=[\"col_A\", \"col_B\"])\n",
    "\n",
    "## start your code below\n",
    "row_reverse = ... \n",
    "## end your code here"
   ]
  },
  {
   "cell_type": "markdown",
   "metadata": {
    "cell_id": "aea268ea5d3a4bb790f62f7cec54dc12",
    "deepnote_cell_type": "text-cell-h3",
    "formattedRanges": [],
    "is_collapsed": false,
    "tags": []
   },
   "source": [
    "### 157. Reverse DataFrame column-wise"
   ]
  },
  {
   "cell_type": "code",
   "execution_count": null,
   "metadata": {
    "cell_id": "b61f646e651c427cbfb5e5677a6f9ee3",
    "deepnote_cell_height": 169,
    "deepnote_cell_type": "code",
    "tags": []
   },
   "outputs": [],
   "source": [
    "df = pd.DataFrame([[\"A\", 1], [\"B\", 2],\n",
    "                   [\"C\", 3], [\"D\", 4]], \n",
    "                  columns=[\"col_A\", \"col_B\"])\n",
    "\n",
    "## start your code below\n",
    "col_reverse = ... \n",
    "## end your code here"
   ]
  },
  {
   "cell_type": "markdown",
   "metadata": {
    "cell_id": "42c11b29b58d46988b3812f40834c59f",
    "deepnote_cell_type": "text-cell-h3",
    "formattedRanges": [],
    "is_collapsed": false,
    "tags": []
   },
   "source": [
    "### 158. Insert a row at an arbitrary position"
   ]
  },
  {
   "cell_type": "code",
   "execution_count": null,
   "metadata": {
    "cell_id": "464f4373d3f84f319d490c4736ee774e",
    "deepnote_cell_height": 223,
    "deepnote_cell_type": "code",
    "tags": []
   },
   "outputs": [],
   "source": [
    "df = pd.DataFrame([[\"A\", 1], [\"B\", 2],\n",
    "                   [\"C\", 3], [\"D\", 4]], \n",
    "                  columns=[\"col_A\", \"col_B\"])\n",
    "\n",
    "insert_pos = 1\n",
    "insert_row = [\"P\", 5]\n",
    "\n",
    "## start your code below\n",
    "new_df = ... \n",
    "## end your code here"
   ]
  },
  {
   "cell_type": "markdown",
   "metadata": {
    "cell_id": "e04660ceafbb4d8cbb88b94b75493e51",
    "deepnote_cell_type": "text-cell-h3",
    "formattedRanges": [],
    "is_collapsed": false,
    "tags": []
   },
   "source": [
    "### 159. Apply function to every cell of DataFrame"
   ]
  },
  {
   "cell_type": "code",
   "execution_count": null,
   "metadata": {
    "cell_id": "25edf95950494c90b909e6c1fd39ba72",
    "deepnote_cell_height": 259,
    "deepnote_cell_type": "code",
    "tags": []
   },
   "outputs": [],
   "source": [
    "df = pd.DataFrame([[1, 5], [2, 6],\n",
    "                   [3, 7], [4, 8]], \n",
    "                  columns=[\"col_A\", \"col_B\"])\n",
    "\n",
    "def func(num):\n",
    "    return num + 1\n",
    "\n",
    "## start your code below\n",
    "new_df = ... \n",
    "## end your code here\n",
    "\n",
    "print(new_df)"
   ]
  },
  {
   "cell_type": "markdown",
   "metadata": {
    "cell_id": "c800a79729604445b843e481c2818b91",
    "deepnote_cell_type": "text-cell-h3",
    "formattedRanges": [],
    "is_collapsed": false,
    "tags": []
   },
   "source": [
    "### 160. The cumulative sum of a column in DataFrame"
   ]
  },
  {
   "cell_type": "code",
   "execution_count": null,
   "metadata": {
    "cell_id": "01d94e7b7bb5478ca36754f8c32a80ee",
    "deepnote_cell_height": 151,
    "deepnote_cell_type": "code",
    "tags": []
   },
   "outputs": [],
   "source": [
    "df = pd.DataFrame([[\"A\", 1], [\"B\", 2],\n",
    "                   [\"C\", 3], [\"D\", 4]], columns=[\"col_A\", \"col_B\"])\n",
    "\n",
    "## start your code below\n",
    "new_df = ... \n",
    "## end your code here"
   ]
  },
  {
   "cell_type": "markdown",
   "metadata": {
    "cell_id": "fac2c9dfd6bb449e9bdfda81f1173f15",
    "deepnote_cell_type": "text-cell-h3",
    "formattedRanges": [],
    "is_collapsed": false,
    "tags": []
   },
   "source": [
    "### 161. Uniquely number individual group in Pandas GroupBy"
   ]
  },
  {
   "cell_type": "code",
   "execution_count": null,
   "metadata": {
    "cell_id": "84d9e8dc29c34a22a702b6a25a0b99f5",
    "deepnote_cell_height": 151,
    "deepnote_cell_type": "code",
    "tags": []
   },
   "outputs": [],
   "source": [
    "df = pd.DataFrame([[\"A\", 1], [\"B\", 2],\n",
    "                   [\"C\", 3], [\"D\", 4]], columns=[\"col_A\", \"col_B\"])\n",
    "\n",
    "## start your code below\n",
    "new_df = ... \n",
    "## end your code here"
   ]
  },
  {
   "cell_type": "markdown",
   "metadata": {
    "cell_id": "f542fcdef80b43b7a3bde7af60e7d5e7",
    "deepnote_cell_type": "text-cell-h3",
    "formattedRanges": [],
    "is_collapsed": false,
    "tags": []
   },
   "source": [
    "### 162. Check if column has NaN values"
   ]
  },
  {
   "cell_type": "code",
   "execution_count": null,
   "metadata": {
    "cell_id": "b493f00eba2f42558fcbaa847f49021a",
    "deepnote_cell_height": 169,
    "deepnote_cell_type": "code",
    "tags": []
   },
   "outputs": [],
   "source": [
    "df = pd.DataFrame([[\"A\", np.NaN], [\"A\", 2], [\"C\", np.NaN], [\"D\", 4]], \n",
    "                  columns=[\"col_A\", \"col_B\"])\n",
    "\n",
    "## start your code below\n",
    "col_A_check = ... \n",
    "col_B_check = ... \n",
    "## end your code here"
   ]
  },
  {
   "cell_type": "code",
   "execution_count": null,
   "metadata": {
    "cell_id": "19e352689ed9472a893ede6efd378197",
    "deepnote_cell_height": 61,
    "deepnote_cell_type": "code",
    "tags": []
   },
   "outputs": [],
   "source": [
    "col_A_check, col_B_check"
   ]
  },
  {
   "cell_type": "markdown",
   "metadata": {
    "cell_id": "e1f00e1648494b1f8916ad4e8505d344",
    "deepnote_cell_type": "text-cell-h3",
    "formattedRanges": [],
    "is_collapsed": false,
    "tags": []
   },
   "source": [
    "### 163. Append a list as a row to a DataFrame"
   ]
  },
  {
   "cell_type": "code",
   "execution_count": null,
   "metadata": {
    "cell_id": "bccf7a30adb8408db92260dc1c20736e",
    "deepnote_cell_height": 241,
    "deepnote_cell_type": "code",
    "tags": []
   },
   "outputs": [],
   "source": [
    "df = pd.DataFrame([[\"A\", 1], [\"B\", 2],\n",
    "                   [\"C\", 3], [\"D\", 4]], \n",
    "                  columns=[\"col_A\", \"col_B\"])\n",
    "\n",
    "new_row = [\"E\", 5]\n",
    "\n",
    "## start your code below\n",
    "new_df = ... \n",
    "## end your code here\n",
    "\n",
    "print(new_df)"
   ]
  },
  {
   "cell_type": "markdown",
   "metadata": {
    "cell_id": "8304ad509db54c438def8e543efda89b",
    "deepnote_cell_type": "text-cell-h3",
    "formattedRanges": [],
    "is_collapsed": false,
    "tags": []
   },
   "source": [
    "### 164. Identify the source of each row in Pandas Merge"
   ]
  },
  {
   "cell_type": "code",
   "execution_count": null,
   "metadata": {
    "cell_id": "46bbb5ea6b9a434bb4ad5c9e25e6c1fa",
    "deepnote_cell_height": 241,
    "deepnote_cell_type": "code",
    "tags": []
   },
   "outputs": [],
   "source": [
    "df1 = pd.DataFrame([[\"A\", 1], [\"B\", 2]], \n",
    "                  columns=[\"col_A\", \"col_B\"])\n",
    "\n",
    "df2 = pd.DataFrame([[\"A\", 3], [\"C\", 4]], \n",
    "                  columns=[\"col_A\", \"col_C\"])\n",
    "\n",
    "## start your code below\n",
    "new_df = ... \n",
    "## end your code here\n",
    "\n",
    "print(new_df)"
   ]
  },
  {
   "cell_type": "markdown",
   "metadata": {
    "cell_id": "d59bb1a6349d4c99a0fd7170122b8b9a",
    "deepnote_cell_type": "text-cell-h3",
    "formattedRanges": [],
    "is_collapsed": false,
    "tags": []
   },
   "source": [
    "### 165. Filter n-largest values from a DataFrame"
   ]
  },
  {
   "cell_type": "code",
   "execution_count": null,
   "metadata": {
    "cell_id": "8b66103eb60443108f7a890020dbebfb",
    "deepnote_cell_height": 205,
    "deepnote_cell_type": "code",
    "tags": []
   },
   "outputs": [],
   "source": [
    "df = pd.DataFrame([[\"A\", 200], [\"B\", 400],\n",
    "                   [\"C\", 100], [\"D\", 300]], \n",
    "                  columns=[\"col_A\", \"col_B\"])\n",
    "\n",
    "k = 2\n",
    "\n",
    "## start your code below\n",
    "largest_k = ... \n",
    "## end your code here"
   ]
  },
  {
   "cell_type": "markdown",
   "metadata": {
    "cell_id": "f24129fd52ef409aa4307d1500e34483",
    "deepnote_cell_type": "text-cell-h3",
    "formattedRanges": [],
    "is_collapsed": false,
    "tags": []
   },
   "source": [
    "### 166. Filter n-smallest values from a DataFrame"
   ]
  },
  {
   "cell_type": "code",
   "execution_count": null,
   "metadata": {
    "cell_id": "3a361403fba04706854534809756e223",
    "deepnote_cell_height": 205,
    "deepnote_cell_type": "code",
    "tags": []
   },
   "outputs": [],
   "source": [
    "df = pd.DataFrame([[\"A\", 200], [\"B\", 400],\n",
    "                   [\"C\", 100], [\"D\", 300]], \n",
    "                  columns=[\"col_A\", \"col_B\"])\n",
    "\n",
    "k = 2\n",
    "\n",
    "## start your code below\n",
    "smallest_k = ... \n",
    "## end your code here"
   ]
  },
  {
   "cell_type": "markdown",
   "metadata": {
    "cell_id": "7f4dd43e187b435d9427ffd40b69a647",
    "deepnote_cell_type": "text-cell-h3",
    "formattedRanges": [],
    "is_collapsed": false,
    "tags": []
   },
   "source": [
    "### 167. Map categorical data to unique integral values"
   ]
  },
  {
   "cell_type": "code",
   "execution_count": null,
   "metadata": {
    "cell_id": "561c907295c64247a503db941010cb6b",
    "deepnote_cell_height": 205,
    "deepnote_cell_type": "code",
    "tags": []
   },
   "outputs": [],
   "source": [
    "df = pd.DataFrame([[\"A\", 1], [\"B\", 2],\n",
    "                   [\"A\", 3], [\"D\", 4]], \n",
    "                  columns=[\"col_A\", \"col_B\"])\n",
    "\n",
    "## start your code below\n",
    "new_df = ... \n",
    "## end your code here\n",
    "\n",
    "print(new_df)"
   ]
  },
  {
   "cell_type": "markdown",
   "metadata": {
    "cell_id": "4d78ce8bb00d45eeb742b7948f9e8044",
    "deepnote_cell_type": "text-cell-h3",
    "formattedRanges": [],
    "is_collapsed": false,
    "tags": []
   },
   "source": [
    "### 168. Add prefix to every column name"
   ]
  },
  {
   "cell_type": "code",
   "execution_count": null,
   "metadata": {
    "cell_id": "b30532454c984cb1a110bb041dc224ff",
    "deepnote_cell_height": 205,
    "deepnote_cell_type": "code",
    "tags": []
   },
   "outputs": [],
   "source": [
    "df = pd.DataFrame([[\"A\", 1], [\"B\", 2],\n",
    "                   [\"C\", 3], [\"D\", 4]], \n",
    "                  columns=[\"col_A\", \"col_B\"])\n",
    "\n",
    "## start your code below\n",
    "new_df = ... \n",
    "## end your code here\n",
    "\n",
    "print(new_df)"
   ]
  },
  {
   "cell_type": "markdown",
   "metadata": {
    "cell_id": "b82b02a0e105420d905d0fd300f6e59b",
    "deepnote_cell_type": "text-cell-h3",
    "formattedRanges": [],
    "is_collapsed": false,
    "tags": []
   },
   "source": [
    "### 169. Delete the rows that have NaN values"
   ]
  },
  {
   "cell_type": "code",
   "execution_count": null,
   "metadata": {
    "cell_id": "444c99f509fd4be79d90c2c257922b70",
    "deepnote_cell_height": 205,
    "deepnote_cell_type": "code",
    "tags": []
   },
   "outputs": [],
   "source": [
    "df = pd.DataFrame([[\"A\", np.NaN], [\"B\", 2],\n",
    "                   [\"C\", np.NaN], [\"D\", 4]], \n",
    "                  columns=[\"col_A\", \"col_B\"])\n",
    "\n",
    "## start your code below\n",
    "new_df = ... \n",
    "## end your code here\n",
    "\n",
    "print(new_df)"
   ]
  },
  {
   "cell_type": "markdown",
   "metadata": {
    "cell_id": "e7f9be7778ba4085839e58ead3219409",
    "deepnote_cell_type": "text-cell-h3",
    "formattedRanges": [],
    "is_collapsed": false,
    "tags": []
   },
   "source": [
    "### 170. Fill NaN values with 1"
   ]
  },
  {
   "cell_type": "code",
   "execution_count": null,
   "metadata": {
    "cell_id": "5aa566a65b3f4c80b588a8cc8ef7be1c",
    "deepnote_cell_height": 205,
    "deepnote_cell_type": "code",
    "tags": []
   },
   "outputs": [],
   "source": [
    "df = pd.DataFrame([[\"A\", np.NaN], [\"B\", 2],\n",
    "                   [\"C\", np.NaN], [\"D\", 4]], \n",
    "                  columns=[\"col_A\", \"col_B\"])\n",
    "\n",
    "## start your code below\n",
    "new_df = ... \n",
    "## end your code here\n",
    "\n",
    "print(new_df)"
   ]
  },
  {
   "cell_type": "markdown",
   "metadata": {
    "cell_id": "31c38311e57349928b7b5c1dae33caa2",
    "deepnote_cell_type": "text-cell-h3",
    "formattedRanges": [],
    "is_collapsed": false,
    "tags": []
   },
   "source": [
    "### 171. Fill NaN values with column mean"
   ]
  },
  {
   "cell_type": "code",
   "execution_count": null,
   "metadata": {
    "cell_id": "595f7a01fb1041378dfb8f17129db778",
    "deepnote_cell_height": 205,
    "deepnote_cell_type": "code",
    "tags": []
   },
   "outputs": [],
   "source": [
    "df = pd.DataFrame([[\"A\", np.NaN], [\"B\", 2],\n",
    "                   [\"C\", np.NaN], [\"D\", 4]], \n",
    "                  columns=[\"col_A\", \"col_B\"])\n",
    "\n",
    "## start your code below\n",
    "new_df = ... \n",
    "## end your code here\n",
    "\n",
    "print(new_df)"
   ]
  },
  {
   "cell_type": "markdown",
   "metadata": {
    "cell_id": "138e2459f7284e06b471a4b3b4d8f00f",
    "deepnote_cell_type": "text-cell-h3",
    "formattedRanges": [],
    "is_collapsed": false,
    "tags": []
   },
   "source": [
    "### 172. Fill NaN values with column mode"
   ]
  },
  {
   "cell_type": "code",
   "execution_count": null,
   "metadata": {
    "cell_id": "19fc1197f2ee48e0938fe718846ccb8f",
    "deepnote_cell_height": 223,
    "deepnote_cell_type": "code",
    "tags": []
   },
   "outputs": [],
   "source": [
    "df = pd.DataFrame([[\"A\", 1], [np.NaN, 2],\n",
    "                   [\"A\", 3], [np.NaN, 4], \n",
    "                   [\"B\", 5], [\"C\", 6]], \n",
    "                  columns=[\"col_A\", \"col_B\"])\n",
    "\n",
    "## start your code below\n",
    "new_df = ... \n",
    "## end your code here\n",
    "\n",
    "print(new_df)"
   ]
  },
  {
   "cell_type": "markdown",
   "metadata": {
    "cell_id": "c1704e17290f4e07bb12abdc69c3f684",
    "deepnote_cell_type": "text-cell-h3",
    "formattedRanges": [],
    "is_collapsed": false,
    "tags": []
   },
   "source": [
    "### 173. Swap two rows of a dataframe"
   ]
  },
  {
   "cell_type": "code",
   "execution_count": null,
   "metadata": {
    "allow_embed": "code",
    "cell_id": "4ae301cec4b14a95bd9ed7d5dffe3980",
    "deepnote_cell_height": 259,
    "deepnote_cell_type": "code",
    "tags": []
   },
   "outputs": [],
   "source": [
    "df = pd.DataFrame([[\"A\", 1], [\"B\", 2],\n",
    "                   [\"C\", 3], [\"D\", 4]], \n",
    "                  columns=[\"col_A\", \"col_B\"])\n",
    "\n",
    "# swap second and last row\n",
    "row_1, row_2 = 1, 3 \n",
    "\n",
    "## start your code below\n",
    "new_df = ... \n",
    "## end your code here\n",
    "\n",
    "print(new_df)"
   ]
  },
  {
   "cell_type": "markdown",
   "metadata": {
    "cell_id": "da0bc98190c74a42acddd69eaad3124c",
    "deepnote_cell_type": "text-cell-h3",
    "formattedRanges": [],
    "is_collapsed": false,
    "tags": []
   },
   "source": [
    "### 174. Create a column \"col4\" that contains the 2nd largest value in each row"
   ]
  },
  {
   "cell_type": "code",
   "execution_count": null,
   "metadata": {
    "cell_id": "0078463848b64ff2b7028ce865a86b99",
    "deepnote_cell_height": 259,
    "deepnote_cell_type": "code",
    "tags": []
   },
   "outputs": [],
   "source": [
    "df = pd.DataFrame([[4, 1, 5], \n",
    "                   [5, 2, 9],\n",
    "                   [2, 9, 3], \n",
    "                   [8, 5, 4]], \n",
    "                  columns=[\"col_A\", \"col_B\", \"col_C\"])\n",
    "\n",
    "\n",
    "## start your code below\n",
    "new_df = ... \n",
    "## end your code here\n",
    "\n",
    "print(new_df)"
   ]
  },
  {
   "cell_type": "markdown",
   "metadata": {
    "cell_id": "a2f18701053d4d4499b7c97aea5e26a1",
    "deepnote_cell_type": "text-cell-h3",
    "formattedRanges": [],
    "is_collapsed": false,
    "tags": []
   },
   "source": [
    "### 175. Replace the values on the main diagonal of the dataframe with 0"
   ]
  },
  {
   "cell_type": "code",
   "execution_count": null,
   "metadata": {
    "cell_id": "f15bcca19bf048dc95da257986b67bed",
    "deepnote_cell_height": 223,
    "deepnote_cell_type": "code",
    "tags": []
   },
   "outputs": [],
   "source": [
    "df = pd.DataFrame([[4, 1, 5, 10], [5, 2, 9, 4],\n",
    "                   [2, 9, 3, 1],  [1, 7, 3,10]], \n",
    "                  columns=[\"col_A\", \"col_B\", \"col_C\", \"col_D\"])\n",
    "\n",
    "\n",
    "## start your code below\n",
    "new_df = ... \n",
    "## end your code here\n",
    "\n",
    "print(new_df)"
   ]
  },
  {
   "cell_type": "markdown",
   "metadata": {
    "cell_id": "900167bd68c74ce2800966e909e72e98",
    "deepnote_cell_type": "text-cell-h3",
    "formattedRanges": [],
    "is_collapsed": false,
    "tags": []
   },
   "source": [
    "### 176. Get the Group \"A\" of the dataframe by first grouping the dataframe and then using the group key. "
   ]
  },
  {
   "cell_type": "code",
   "execution_count": null,
   "metadata": {
    "cell_id": "fbb017e449fa456d9bfa3da702ded5c6",
    "deepnote_cell_height": 223,
    "deepnote_cell_type": "code",
    "tags": []
   },
   "outputs": [],
   "source": [
    "df = pd.DataFrame([[\"A\", 1], [\"B\", 2],\n",
    "                   [\"A\", 3], [\"D\", 4]], \n",
    "                  columns=[\"col_A\", \"col_B\"])\n",
    "\n",
    "\n",
    "## start your code below\n",
    "new_df = ... \n",
    "## end your code here\n",
    "\n",
    "print(new_df)"
   ]
  },
  {
   "cell_type": "markdown",
   "metadata": {
    "cell_id": "1aee0dfda4f4428d8731674311d7076f",
    "deepnote_cell_type": "text-cell-h3",
    "formattedRanges": [],
    "is_collapsed": false,
    "tags": []
   },
   "source": [
    "### 177. Fetch the rows where the value in \"col_C\" does not belong to \"col_B\". "
   ]
  },
  {
   "cell_type": "code",
   "execution_count": null,
   "metadata": {
    "cell_id": "cc6009989a5248279941f606ba7c59cf",
    "deepnote_cell_height": 259,
    "deepnote_cell_type": "code",
    "tags": []
   },
   "outputs": [],
   "source": [
    "df = pd.DataFrame([[4, 1, 5], \n",
    "                   [5, 2, 9],\n",
    "                   [2, 9, 3], \n",
    "                   [8, 5, 4]], \n",
    "                  columns=[\"col_A\", \"col_B\", \"col_C\"])\n",
    "\n",
    "\n",
    "## start your code below\n",
    "new_df = ... \n",
    "## end your code here\n",
    "\n",
    "print(new_df)"
   ]
  },
  {
   "cell_type": "markdown",
   "metadata": {
    "cell_id": "525cc50bc81644ce9aa8a511e005bd7b",
    "deepnote_cell_type": "text-cell-h3",
    "formattedRanges": [],
    "is_collapsed": false,
    "tags": []
   },
   "source": [
    "### 178. Get the rows where the value of \"col_A\" is equal to \"col_B\"."
   ]
  },
  {
   "cell_type": "code",
   "execution_count": null,
   "metadata": {
    "cell_id": "f0da593dc9ea4c9091a6463d4e0c2183",
    "deepnote_cell_height": 259,
    "deepnote_cell_type": "code",
    "tags": []
   },
   "outputs": [],
   "source": [
    "df = pd.DataFrame([[4, 1, 5], \n",
    "                   [5, 5, 9],\n",
    "                   [2, 9, 3], \n",
    "                   [8, 5, 8]], \n",
    "                  columns=[\"col_A\", \"col_B\", \"col_C\"])\n",
    "\n",
    "\n",
    "## start your code below\n",
    "new_df = ... \n",
    "## end your code here\n",
    "\n",
    "print(new_df)"
   ]
  },
  {
   "cell_type": "markdown",
   "metadata": {
    "cell_id": "4b88af9c67654174b1fdf849052f3709",
    "deepnote_cell_type": "text-cell-h3",
    "formattedRanges": [],
    "is_collapsed": false,
    "tags": []
   },
   "source": [
    "### 179. Get the rows where (the value of \"col_A\" is equal to \"col_B\") OR (the value of \"col_A\" is equal to \"col_C\")."
   ]
  },
  {
   "cell_type": "code",
   "execution_count": null,
   "metadata": {
    "cell_id": "7bf0010ac14e45d0a78b137e81eecf9a",
    "deepnote_cell_height": 259,
    "deepnote_cell_type": "code",
    "tags": []
   },
   "outputs": [],
   "source": [
    "df = pd.DataFrame([[4, 1, 5], \n",
    "                   [5, 5, 9],\n",
    "                   [2, 9, 3], \n",
    "                   [8, 5, 8]], \n",
    "                  columns=[\"col_A\", \"col_B\", \"col_C\"])\n",
    "\n",
    "\n",
    "## start your code below\n",
    "new_df = ... \n",
    "## end your code here\n",
    "\n",
    "print(new_df)"
   ]
  },
  {
   "cell_type": "markdown",
   "metadata": {
    "cell_id": "7ffadaa2aee742ffa2b596660ae53b51",
    "deepnote_cell_type": "text-cell-h3",
    "formattedRanges": [],
    "is_collapsed": false,
    "tags": []
   },
   "source": [
    "### 180. Sort the Data on col_A and col_B"
   ]
  },
  {
   "cell_type": "markdown",
   "metadata": {
    "cell_id": "998b6c3e8fd74aa88aa85ec02a4e657b",
    "deepnote_cell_height": 74.78125,
    "deepnote_cell_type": "markdown",
    "tags": []
   },
   "source": [
    "col_A -> Ascending\n",
    "col_B -> Ascending"
   ]
  },
  {
   "cell_type": "code",
   "execution_count": null,
   "metadata": {
    "cell_id": "46190dc751864ef49709eed88699d68c",
    "deepnote_cell_height": 259,
    "deepnote_cell_type": "code",
    "tags": []
   },
   "outputs": [],
   "source": [
    "df = pd.DataFrame([[4, 1, 5], \n",
    "                   [5, 5, 9],\n",
    "                   [2, 9, 3], \n",
    "                   [8, 5, 8]], \n",
    "                  columns=[\"col_A\", \"col_B\", \"col_C\"])\n",
    "\n",
    "\n",
    "## start your code below\n",
    "new_df = ... \n",
    "## end your code here\n",
    "\n",
    "print(new_df)"
   ]
  },
  {
   "cell_type": "markdown",
   "metadata": {
    "cell_id": "92976ed9aef249738b74d27bb54b13f0",
    "deepnote_cell_type": "text-cell-h3",
    "formattedRanges": [],
    "is_collapsed": false,
    "tags": []
   },
   "source": [
    "### 181. Sort the Data on col_A and col_B"
   ]
  },
  {
   "cell_type": "markdown",
   "metadata": {
    "cell_id": "4627eae853ff4e6f823175b2836915bc",
    "deepnote_cell_height": 74.78125,
    "deepnote_cell_type": "markdown",
    "tags": []
   },
   "source": [
    "col_A -> Ascending\n",
    "col_B -> Descending"
   ]
  },
  {
   "cell_type": "code",
   "execution_count": null,
   "metadata": {
    "cell_id": "7ef346d0a641427eab34d4f6954db52f",
    "deepnote_cell_height": 259,
    "deepnote_cell_type": "code",
    "tags": []
   },
   "outputs": [],
   "source": [
    "df = pd.DataFrame([[4, 1, 5], \n",
    "                   [5, 5, 9],\n",
    "                   [2, 9, 3], \n",
    "                   [8, 5, 8]], \n",
    "                  columns=[\"col_A\", \"col_B\", \"col_C\"])\n",
    "\n",
    "\n",
    "## start your code below\n",
    "new_df = ... \n",
    "## end your code here\n",
    "\n",
    "print(new_df)"
   ]
  },
  {
   "cell_type": "markdown",
   "metadata": {
    "cell_id": "d12f9a5036fc45e4a244e766c28ed05d",
    "deepnote_cell_type": "text-cell-h3",
    "formattedRanges": [],
    "is_collapsed": false,
    "tags": []
   },
   "source": [
    "### 182. Get the mean of every column"
   ]
  },
  {
   "cell_type": "code",
   "execution_count": null,
   "metadata": {
    "cell_id": "41bffbb3f67c4822ae1e98370cad2031",
    "deepnote_cell_height": 259,
    "deepnote_cell_type": "code",
    "tags": []
   },
   "outputs": [],
   "source": [
    "df = pd.DataFrame([[4, 1, 5], \n",
    "                   [5, 5, 9],\n",
    "                   [2, 9, 3], \n",
    "                   [8, 5, 8]], \n",
    "                  columns=[\"col_A\", \"col_B\", \"col_C\"])\n",
    "\n",
    "\n",
    "## start your code below\n",
    "mean = ... \n",
    "## end your code here\n",
    "\n",
    "print(mean)"
   ]
  },
  {
   "cell_type": "markdown",
   "metadata": {
    "cell_id": "ca4175a02bb847299f9cca4337a3860d",
    "deepnote_cell_type": "text-cell-h3",
    "formattedRanges": [],
    "is_collapsed": false,
    "tags": []
   },
   "source": [
    "### 182. Get the mean of every row"
   ]
  },
  {
   "cell_type": "code",
   "execution_count": null,
   "metadata": {
    "cell_id": "a2d55889eb674a62a982cbb0c1580ae5",
    "deepnote_cell_height": 259,
    "deepnote_cell_type": "code",
    "tags": []
   },
   "outputs": [],
   "source": [
    "df = pd.DataFrame([[4, 1, 5], \n",
    "                   [5, 5, 9],\n",
    "                   [2, 9, 3], \n",
    "                   [8, 5, 8]], \n",
    "                  columns=[\"col_A\", \"col_B\", \"col_C\"])\n",
    "\n",
    "\n",
    "## start your code below\n",
    "mean = ... \n",
    "## end your code here\n",
    "\n",
    "print(mean)"
   ]
  },
  {
   "cell_type": "markdown",
   "metadata": {
    "cell_id": "31f7eb2d38524c679ddd17bfdb8dab63",
    "deepnote_cell_type": "text-cell-h3",
    "formattedRanges": [],
    "is_collapsed": false,
    "tags": []
   },
   "source": [
    "### 183. Concatentate the two DataFrames row-wise"
   ]
  },
  {
   "cell_type": "code",
   "execution_count": null,
   "metadata": {
    "cell_id": "410d0e6935e7424d95601c0e54f3169e",
    "deepnote_cell_height": 241,
    "deepnote_cell_type": "code",
    "tags": []
   },
   "outputs": [],
   "source": [
    "df1 = pd.DataFrame([[\"A\", 1], [\"B\", 2]], \n",
    "                  columns=[\"col_A\", \"col_B\"])\n",
    "\n",
    "df2 = pd.DataFrame([[\"A\", 3], [\"C\", 4]], \n",
    "                  columns=[\"col_A\", \"col_B\"])\n",
    "\n",
    "## start your code below\n",
    "new_df = ... \n",
    "## end your code here\n",
    "\n",
    "print(new_df)"
   ]
  },
  {
   "cell_type": "markdown",
   "metadata": {
    "cell_id": "804e206768f0467d9f025eddd9871176",
    "deepnote_cell_type": "text-cell-h3",
    "formattedRanges": [],
    "is_collapsed": false,
    "tags": []
   },
   "source": [
    "### 184. Concatentate the two DataFrames column-wise"
   ]
  },
  {
   "cell_type": "code",
   "execution_count": null,
   "metadata": {
    "cell_id": "7726eb2abfdf424c8f074b2afffb46ac",
    "deepnote_cell_height": 241,
    "deepnote_cell_type": "code",
    "tags": []
   },
   "outputs": [],
   "source": [
    "df1 = pd.DataFrame([[\"A\", 1], [\"B\", 2]], \n",
    "                  columns=[\"col_A\", \"col_B\"])\n",
    "\n",
    "df2 = pd.DataFrame([[\"A\", 3], [\"C\", 4]], \n",
    "                  columns=[\"col_C\", \"col_D\"])\n",
    "\n",
    "## start your code below\n",
    "new_df = ... \n",
    "## end your code here\n",
    "\n",
    "print(new_df)"
   ]
  },
  {
   "cell_type": "markdown",
   "metadata": {
    "cell_id": "d5133b1b5aba4267831864daf1495b75",
    "deepnote_cell_type": "text-cell-h3",
    "formattedRanges": [],
    "is_collapsed": false,
    "tags": []
   },
   "source": [
    "### 185. Change the last two values in the last column to [2,4]"
   ]
  },
  {
   "cell_type": "markdown",
   "metadata": {
    "cell_id": "d49b82b96f4641b880907cd5c06bcba3",
    "deepnote_cell_height": 111.171875,
    "deepnote_cell_type": "markdown",
    "tags": []
   },
   "source": [
    "Change 3 -> 2\n",
    "Change 8 -> 4 \n",
    "\n",
    "**Note: You should do this in a single line of code**"
   ]
  },
  {
   "cell_type": "code",
   "execution_count": null,
   "metadata": {
    "cell_id": "75211bb066ef41039980545653387a1b",
    "deepnote_cell_height": 259,
    "deepnote_cell_type": "code",
    "tags": []
   },
   "outputs": [],
   "source": [
    "df = pd.DataFrame([[4, 1, 5], \n",
    "                   [5, 5, 9],\n",
    "                   [2, 9, 3], \n",
    "                   [8, 5, 8]], \n",
    "                  columns=[\"col_A\", \"col_B\", \"col_C\"])\n",
    "\n",
    "\n",
    "## start your code below\n",
    "new_df = ... \n",
    "## end your code here\n",
    "\n",
    "print(new_df)"
   ]
  },
  {
   "cell_type": "markdown",
   "metadata": {
    "cell_id": "45becc08480e42aa98367a96edeb4d3b",
    "deepnote_cell_type": "text-cell-h3",
    "formattedRanges": [],
    "is_collapsed": false,
    "tags": []
   },
   "source": [
    "### 186. Replace all '1' with '2'"
   ]
  },
  {
   "cell_type": "code",
   "execution_count": null,
   "metadata": {
    "cell_id": "566b17162a4c4a19ad8e5a84be84646d",
    "deepnote_cell_height": 259,
    "deepnote_cell_type": "code",
    "tags": []
   },
   "outputs": [],
   "source": [
    "df = pd.DataFrame([[4, 1, 5], \n",
    "                   [5, 5, 1],\n",
    "                   [1, 9, 3], \n",
    "                   [8, 5, 8]], \n",
    "                  columns=[\"col_A\", \"col_B\", \"col_C\"])\n",
    "\n",
    "\n",
    "## start your code below\n",
    "new_df = ... \n",
    "## end your code here\n",
    "\n",
    "print(new_df)"
   ]
  },
  {
   "cell_type": "markdown",
   "metadata": {
    "cell_id": "806194bc48664175a1a5a50d279a78d1",
    "deepnote_cell_type": "text-cell-h3",
    "formattedRanges": [],
    "is_collapsed": false,
    "tags": []
   },
   "source": [
    "### 187. Replace all '1' with '2' and '5' with '6' in a single line of code"
   ]
  },
  {
   "cell_type": "code",
   "execution_count": null,
   "metadata": {
    "cell_id": "9d8a78e6d536451985af0ea6a95af59e",
    "deepnote_cell_height": 259,
    "deepnote_cell_type": "code",
    "tags": []
   },
   "outputs": [],
   "source": [
    "df = pd.DataFrame([[4, 1, 5], \n",
    "                   [5, 5, 1],\n",
    "                   [1, 9, 3], \n",
    "                   [8, 5, 8]], \n",
    "                  columns=[\"col_A\", \"col_B\", \"col_C\"])\n",
    "\n",
    "\n",
    "## start your code below\n",
    "new_df = ... \n",
    "## end your code here\n",
    "\n",
    "print(new_df)"
   ]
  },
  {
   "cell_type": "markdown",
   "metadata": {
    "cell_id": "b510717d75ef4989b0f17b4aeb9a268e",
    "deepnote_cell_type": "text-cell-h3",
    "formattedRanges": [],
    "is_collapsed": false,
    "tags": []
   },
   "source": [
    "### 188. Sample 2 random rows from the DataFrame"
   ]
  },
  {
   "cell_type": "code",
   "execution_count": null,
   "metadata": {
    "cell_id": "28533e9ec3d849fb9aa3594f58fe2bb2",
    "deepnote_cell_height": 259,
    "deepnote_cell_type": "code",
    "tags": []
   },
   "outputs": [],
   "source": [
    "df = pd.DataFrame([[4, 1, 5], \n",
    "                   [5, 5, 1],\n",
    "                   [1, 9, 3], \n",
    "                   [8, 5, 8]], \n",
    "                  columns=[\"col_A\", \"col_B\", \"col_C\"])\n",
    "\n",
    "\n",
    "## start your code below\n",
    "sample_df = ... \n",
    "## end your code here\n",
    "\n",
    "print(sample_df)"
   ]
  },
  {
   "cell_type": "markdown",
   "metadata": {
    "cell_id": "148836154d434e02a1523b84f6026f5e",
    "deepnote_cell_type": "text-cell-h3",
    "formattedRanges": [],
    "is_collapsed": false,
    "tags": []
   },
   "source": [
    "### 189. Convert the DataFrame to a list of lists. Don't include the header row."
   ]
  },
  {
   "cell_type": "code",
   "execution_count": null,
   "metadata": {
    "cell_id": "0a6e6b2188d34903b59ac92c5714cef3",
    "deepnote_cell_height": 259,
    "deepnote_cell_type": "code",
    "tags": []
   },
   "outputs": [],
   "source": [
    "df = pd.DataFrame([[4, 1, 5], \n",
    "                   [5, 5, 1],\n",
    "                   [1, 9, 3], \n",
    "                   [8, 5, 8]], \n",
    "                  columns=[\"col_A\", \"col_B\", \"col_C\"])\n",
    "\n",
    "\n",
    "## start your code below\n",
    "data_list = ... \n",
    "## end your code here\n",
    "\n",
    "print(data_list)"
   ]
  },
  {
   "cell_type": "markdown",
   "metadata": {
    "cell_id": "682e45710fab4c3e9fff2ffd67b813ad",
    "deepnote_cell_type": "text-cell-h3",
    "formattedRanges": [],
    "is_collapsed": false,
    "tags": []
   },
   "source": [
    "### 190. Add three new columns that show the cumulative sum of every column"
   ]
  },
  {
   "cell_type": "code",
   "execution_count": null,
   "metadata": {
    "cell_id": "e1d6eb6f229e4b3bb604130fa633dbf1",
    "deepnote_cell_height": 259,
    "deepnote_cell_type": "code",
    "tags": []
   },
   "outputs": [],
   "source": [
    "df = pd.DataFrame([[4, 1, 5], \n",
    "                   [5, 5, 1],\n",
    "                   [1, 9, 3], \n",
    "                   [8, 5, 8]], \n",
    "                  columns=[\"col_A\", \"col_B\", \"col_C\"])\n",
    "\n",
    "\n",
    "## start your code below\n",
    "data_list = ... \n",
    "## end your code here\n",
    "\n",
    "print(data_list)"
   ]
  },
  {
   "cell_type": "markdown",
   "metadata": {
    "cell_id": "296bc8cb7ee64770bc5c1639928f7fb5",
    "deepnote_cell_type": "text-cell-h3",
    "formattedRanges": [],
    "is_collapsed": false,
    "tags": []
   },
   "source": [
    "### 191. Print the cumulative sum of every row in a new column. "
   ]
  },
  {
   "cell_type": "markdown",
   "metadata": {
    "cell_id": "061522454693462aaa2760da17c091db",
    "deepnote_cell_type": "text-cell-h3",
    "formattedRanges": [],
    "is_collapsed": false,
    "tags": []
   },
   "source": [
    "### In other words, make a column that stores the cumulative sum of the (sum of every row)."
   ]
  },
  {
   "cell_type": "code",
   "execution_count": null,
   "metadata": {
    "cell_id": "ce519a418d4b44fb88169907dc7d6437",
    "deepnote_cell_height": 259,
    "deepnote_cell_type": "code",
    "tags": []
   },
   "outputs": [],
   "source": [
    "df = pd.DataFrame([[4, 1, 5], \n",
    "                   [5, 5, 1],\n",
    "                   [1, 9, 3], \n",
    "                   [8, 5, 8]], \n",
    "                  columns=[\"col_A\", \"col_B\", \"col_C\"])\n",
    "\n",
    "\n",
    "## start your code below\n",
    "new_df = ... \n",
    "## end your code here\n",
    "\n",
    "print(new_df)"
   ]
  },
  {
   "cell_type": "markdown",
   "metadata": {
    "cell_id": "18617514d15f4458b26ffbbf87e12110",
    "deepnote_cell_type": "text-cell-h3",
    "formattedRanges": [],
    "is_collapsed": false,
    "tags": []
   },
   "source": [
    "### 192. Find the frequency of every element in col_A"
   ]
  },
  {
   "cell_type": "code",
   "execution_count": null,
   "metadata": {
    "cell_id": "db622d34053441bca138480e93c3724a",
    "deepnote_cell_height": 259,
    "deepnote_cell_type": "code",
    "tags": []
   },
   "outputs": [],
   "source": [
    "df = pd.DataFrame([[\"A\", 1, 5], \n",
    "                   [\"B\", 5, 1],\n",
    "                   [\"C\", 9, 3], \n",
    "                   [\"A\", 5, 8]], \n",
    "                  columns=[\"col_A\", \"col_B\", \"col_C\"])\n",
    "\n",
    "\n",
    "## start your code below\n",
    "new_df = ... \n",
    "## end your code here\n",
    "\n",
    "print(new_df)"
   ]
  },
  {
   "cell_type": "markdown",
   "metadata": {
    "cell_id": "bb369fe90e134c73b4b8e3637a2b7526",
    "deepnote_cell_type": "text-cell-h3",
    "formattedRanges": [],
    "is_collapsed": false,
    "tags": []
   },
   "source": [
    "### 193. Normalize the frequency of every element in col_A"
   ]
  },
  {
   "cell_type": "code",
   "execution_count": null,
   "metadata": {
    "cell_id": "d2951c01d3874c2881cc80584f6dab16",
    "deepnote_cell_height": 259,
    "deepnote_cell_type": "code",
    "tags": []
   },
   "outputs": [],
   "source": [
    "df = pd.DataFrame([[\"A\", 1, 5], \n",
    "                   [\"B\", 5, 1],\n",
    "                   [\"C\", 9, 3], \n",
    "                   [\"A\", 5, 8]], \n",
    "                  columns=[\"col_A\", \"col_B\", \"col_C\"])\n",
    "\n",
    "\n",
    "## start your code below\n",
    "new_df = ... \n",
    "## end your code here\n",
    "\n",
    "print(new_df)"
   ]
  },
  {
   "cell_type": "markdown",
   "metadata": {
    "cell_id": "6cfe3049e448410f963ba4e135a2bae4",
    "deepnote_cell_type": "text-cell-h3",
    "formattedRanges": [],
    "is_collapsed": false,
    "tags": []
   },
   "source": [
    "### 194. GroupBy col_A, then find the sum of col_B and mean of col_C"
   ]
  },
  {
   "cell_type": "code",
   "execution_count": null,
   "metadata": {
    "cell_id": "81c9324a6b344523872257cebca06004",
    "deepnote_cell_height": 259,
    "deepnote_cell_type": "code",
    "tags": []
   },
   "outputs": [],
   "source": [
    "df = pd.DataFrame([[\"A\", 1, 5], \n",
    "                   [\"B\", 5, 1],\n",
    "                   [\"C\", 9, 3], \n",
    "                   [\"A\", 5, 8]], \n",
    "                  columns=[\"col_A\", \"col_B\", \"col_C\"])\n",
    "\n",
    "\n",
    "## start your code below\n",
    "new_df = ... \n",
    "## end your code here\n",
    "\n",
    "print(new_df)"
   ]
  },
  {
   "cell_type": "markdown",
   "metadata": {
    "cell_id": "9db28034d0564874ab35376bd776aa64",
    "deepnote_cell_type": "text-cell-h3",
    "formattedRanges": [],
    "is_collapsed": false,
    "tags": []
   },
   "source": [
    "### 195. Find the correlation between every pair of column"
   ]
  },
  {
   "cell_type": "code",
   "execution_count": null,
   "metadata": {
    "cell_id": "f7d681fcf1174a989ebb676bbe9bcb0c",
    "deepnote_cell_height": 259,
    "deepnote_cell_type": "code",
    "tags": []
   },
   "outputs": [],
   "source": [
    "df = pd.DataFrame([[4, 1, 5], \n",
    "                   [5, 5, 1],\n",
    "                   [1, 9, 3], \n",
    "                   [8, 5, 8]], \n",
    "                  columns=[\"col_A\", \"col_B\", \"col_C\"])\n",
    "\n",
    "\n",
    "## start your code below\n",
    "new_df = ... \n",
    "## end your code here\n",
    "\n",
    "print(new_df)"
   ]
  },
  {
   "cell_type": "markdown",
   "metadata": {
    "cell_id": "d3b52e7cdf184877a04c1523a333423e",
    "deepnote_cell_type": "text-cell-h3",
    "formattedRanges": [],
    "is_collapsed": false,
    "tags": []
   },
   "source": [
    "### 196. GroupBy col_A, then compute a new column as (10*col_B/col_C)"
   ]
  },
  {
   "cell_type": "code",
   "execution_count": null,
   "metadata": {
    "cell_id": "e3cc3bf5dbe6420eb35ccf21893c3eec",
    "deepnote_cell_height": 259,
    "deepnote_cell_type": "code",
    "tags": []
   },
   "outputs": [],
   "source": [
    "df = pd.DataFrame([[4, 1, 5], \n",
    "                   [5, 5, 1],\n",
    "                   [1, 9, 3], \n",
    "                   [8, 5, 8]], \n",
    "                  columns=[\"col_A\", \"col_B\", \"col_C\"])\n",
    "\n",
    "\n",
    "## start your code below\n",
    "new_df = ... \n",
    "## end your code here\n",
    "\n",
    "print(new_df)"
   ]
  },
  {
   "cell_type": "markdown",
   "metadata": {
    "cell_id": "e549f4c6ee744dfc93f4fd0b5842284b",
    "deepnote_cell_type": "text-cell-h3",
    "formattedRanges": [],
    "is_collapsed": false,
    "tags": []
   },
   "source": [
    "### 197. GroupBy col_A, then compute a new column as (10*col_B/col_C). Project the new column back to the original dataframe"
   ]
  },
  {
   "cell_type": "code",
   "execution_count": null,
   "metadata": {
    "cell_id": "aeaaaec8521047c8be75e06f343df39c",
    "deepnote_cell_height": 259,
    "deepnote_cell_type": "code",
    "tags": []
   },
   "outputs": [],
   "source": [
    "df = pd.DataFrame([[4, 1, 5], \n",
    "                   [5, 5, 1],\n",
    "                   [1, 9, 3], \n",
    "                   [8, 5, 8]], \n",
    "                  columns=[\"col_A\", \"col_B\", \"col_C\"])\n",
    "\n",
    "\n",
    "## start your code below\n",
    "new_df = ... \n",
    "## end your code here\n",
    "\n",
    "print(new_df)"
   ]
  },
  {
   "cell_type": "markdown",
   "metadata": {
    "cell_id": "9cbe5b6d219e492e939b6373c21a0f06",
    "deepnote_cell_type": "text-cell-h3",
    "formattedRanges": [],
    "is_collapsed": false,
    "tags": []
   },
   "source": [
    "### 198. Merge the two dataframes using the join() method on col_A."
   ]
  },
  {
   "cell_type": "code",
   "execution_count": null,
   "metadata": {
    "cell_id": "9a2f404371914d87b7703bec4902342c",
    "deepnote_cell_height": 241,
    "deepnote_cell_type": "code",
    "tags": []
   },
   "outputs": [],
   "source": [
    "df1 = pd.DataFrame([[\"A\", 1], [\"B\", 2]], \n",
    "                  columns=[\"col_A\", \"col_B\"])\n",
    "\n",
    "df2 = pd.DataFrame([[\"A\", 3], [\"C\", 4]], \n",
    "                  columns=[\"col_A\", \"col_C\"])\n",
    "\n",
    "## start your code below\n",
    "new_df = ... \n",
    "## end your code here\n",
    "\n",
    "print(new_df)"
   ]
  },
  {
   "cell_type": "markdown",
   "metadata": {
    "cell_id": "d52f9aa641e34372ab09c58c3b374ca6",
    "deepnote_cell_type": "text-cell-h3",
    "formattedRanges": [],
    "is_collapsed": false,
    "tags": []
   },
   "source": [
    "### 199. Perform the full outer join on the two DataFrames. "
   ]
  },
  {
   "cell_type": "code",
   "execution_count": null,
   "metadata": {
    "cell_id": "ec7c1b54cf394b6da05c4090f17fd31c",
    "deepnote_cell_height": 241,
    "deepnote_cell_type": "code",
    "tags": []
   },
   "outputs": [],
   "source": [
    "df1 = pd.DataFrame([[\"A\", 1], [\"B\", 2]], \n",
    "                  columns=[\"col_A\", \"col_B\"])\n",
    "\n",
    "df2 = pd.DataFrame([[\"A\", 3], [\"C\", 4]], \n",
    "                  columns=[\"col_A\", \"col_C\"])\n",
    "\n",
    "## start your code below\n",
    "new_df = ... \n",
    "## end your code here\n",
    "\n",
    "print(new_df)"
   ]
  },
  {
   "cell_type": "markdown",
   "metadata": {
    "cell_id": "a0c659085a61475b84775941dd3111ba",
    "deepnote_cell_type": "text-cell-h3",
    "formattedRanges": [],
    "is_collapsed": false,
    "tags": []
   },
   "source": [
    "### 200. Convert the DataFrame to a dictionary."
   ]
  },
  {
   "cell_type": "code",
   "execution_count": null,
   "metadata": {
    "cell_id": "7c7e1d36248a47158a5cff1dc61a010e",
    "deepnote_cell_height": 259,
    "deepnote_cell_type": "code",
    "tags": []
   },
   "outputs": [],
   "source": [
    "df = pd.DataFrame([[4, 1, 5], \n",
    "                   [5, 5, 1],\n",
    "                   [1, 9, 3], \n",
    "                   [8, 5, 8]], \n",
    "                  columns=[\"col_A\", \"col_B\", \"col_C\"])\n",
    "\n",
    "\n",
    "## start your code below\n",
    "dict_df = ... \n",
    "## end your code here\n",
    "\n",
    "print(dict_df)"
   ]
  }
 ],
 "metadata": {
  "deepnote_execution_queue": [],
  "deepnote_notebook_id": "134ac20c38ef45e5a4432abd638e6c2e",
  "kernelspec": {
   "display_name": "Python 3 (ipykernel)",
   "language": "python",
   "name": "python3"
  },
  "language_info": {
   "codemirror_mode": {
    "name": "ipython",
    "version": 3
   },
   "file_extension": ".py",
   "mimetype": "text/x-python",
   "name": "python",
   "nbconvert_exporter": "python",
   "pygments_lexer": "ipython3",
   "version": "3.11.5"
  }
 },
 "nbformat": 4,
 "nbformat_minor": 4
}
