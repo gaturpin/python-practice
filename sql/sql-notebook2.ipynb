{
 "cells": [
  {
   "cell_type": "markdown",
   "metadata": {
    "cell_id": "2b820ba8feae4f8cb6c0b314e3a0c6cb",
    "deepnote_cell_height": 125.171875,
    "deepnote_cell_type": "markdown",
    "tags": []
   },
   "source": [
    "Author: Avi Chawla\n",
    "\n",
    "LinkedIn: https://www.linkedin.com/in/avi-chawla/\n",
    "\n",
    "Read my blogs here: https://medium.com/@avi_chawla"
   ]
  },
  {
   "cell_type": "markdown",
   "metadata": {
    "cell_id": "0e3b6485fe614d7db7f3eba3cbb8fa7a",
    "deepnote_cell_type": "text-cell-h2",
    "formattedRanges": [],
    "is_collapsed": false,
    "tags": []
   },
   "source": [
    "## Introduction"
   ]
  },
  {
   "cell_type": "markdown",
   "metadata": {
    "cell_id": "8b26c4cb0a8c454caf9757d21c8e0c7d",
    "deepnote_cell_type": "text-cell-p",
    "formattedRanges": [
     {
      "fromCodePoint": 156,
      "marks": {
       "bold": true
      },
      "toCodePoint": 179
     }
    ],
    "is_collapsed": false,
    "tags": []
   },
   "source": [
    "This notebook has been created for you to practice three of the most common tools used in building any machine learning or data science applications, i.e., Pandas, NumPy, and SQL!"
   ]
  },
  {
   "cell_type": "markdown",
   "metadata": {
    "cell_id": "42025fb3b4a04c079fcab7496eb12af7",
    "deepnote_cell_type": "text-cell-p",
    "formattedRanges": [],
    "is_collapsed": false,
    "tags": []
   },
   "source": [
    "The practice questions provided will serve as a great resource for those who are looking to familiarize themselves with some of the most common functions used in these tools. "
   ]
  },
  {
   "cell_type": "markdown",
   "metadata": {
    "cell_id": "ae642766fe1a4eca9a75ecae9f1de1bc",
    "deepnote_cell_type": "text-cell-p",
    "formattedRanges": [
     {
      "fromCodePoint": 284,
      "marks": {
       "bold": true
      },
      "toCodePoint": 289
     },
     {
      "fromCodePoint": 302,
      "marks": {
       "bold": true
      },
      "toCodePoint": 305
     }
    ],
    "is_collapsed": false,
    "tags": []
   },
   "source": [
    "Appropriate descriptions have been provided for all the questions in this entire exercise which will help you navigate through this exercise easily. If a dataset is to be loaded in the python environment, that has also been provided for you. You can find it on the right panel in the Files section. Do NOT delete any of the files/folders listed there. "
   ]
  },
  {
   "cell_type": "markdown",
   "metadata": {
    "cell_id": "974f3034250b4188b3040fbef903e347",
    "deepnote_cell_type": "text-cell-p",
    "formattedRanges": [],
    "is_collapsed": false,
    "tags": []
   },
   "source": [
    "The whole exercise has been divided into nine separate notebooks. Below are the links to all the other notebooks for you to jump from one notebook to another:"
   ]
  },
  {
   "cell_type": "markdown",
   "metadata": {
    "cell_id": "93df9b538a7d429fb401cd7e6107c1ec",
    "deepnote_cell_height": 403.6875,
    "deepnote_cell_type": "markdown",
    "tags": []
   },
   "source": [
    "- **Pandas**\n",
    "\n",
    "1. Pandas Notebook 1: [Link](https://deepnote.com/workspace/avi-chawla-695b-aee6f4ef-2d50-4fb6-9ef2-20ee1022995a/project/Pandas-Notebook-1-d693ac55-6455-40cf-ae34-867c6a02014e/notebook/6449493c84734151b11f4b6871f045d2#99f75bf946d04b9bb1daa9e14c2cfea9) \n",
    "2. Pandas Notebook 2: [Link](https://deepnote.com/workspace/avi-chawla-695b-aee6f4ef-2d50-4fb6-9ef2-20ee1022995a/project/Pandas-Notebook-employee-dataset-7e3b6755-5d4b-464b-9b75-9c84667ae3bd/notebook/notebook-0de50f3b70834570b13b651dde44c491) \n",
    "\n",
    "3. Pandas Notebook 3: [Link](https://deepnote.com/workspace/avi-chawla-695b-aee6f4ef-2d50-4fb6-9ef2-20ee1022995a/project/Pandas-Notebook-employee-part-2-adc5a3ee-5f61-4725-8e46-ccb07899acfc/notebook/notebook-78e3faf901da4f14881ef24e41c80bf6) \n",
    "\n",
    "4. Pandas Notebook 4: [Link](https://deepnote.com/workspace/avi-chawla-695b-aee6f4ef-2d50-4fb6-9ef2-20ee1022995a/project/Pandas-after-employee-f84e02a1-fb6a-428e-af90-8dd99855749a/notebook/notebook-134ac20c38ef45e5a4432abd638e6c2e) \n",
    "\n",
    "- **NumPy**\n",
    "\n",
    "1. NumPy Notebook 1: [Link](https://deepnote.com/workspace/avi-chawla-695b-aee6f4ef-2d50-4fb6-9ef2-20ee1022995a/project/Numpy-part-1-9b9979f2-b708-4292-b466-3d0157564c91/notebook/notebook-07232b5ebafe49b198a9c55c553414f1) \n",
    "\n",
    "2. NumPy Notebook 2: [Link](https://deepnote.com/workspace/avi-chawla-695b-aee6f4ef-2d50-4fb6-9ef2-20ee1022995a/project/NumPy-Notebook-2-4456411e-2ddd-426d-8027-4881080027db/notebook/notebook-988aba30f33a45a3861adc4f6a6f338c)  \n",
    "\n",
    "3. NumPy Notebook 3: [Link](https://deepnote.com/workspace/avi-chawla-695b-aee6f4ef-2d50-4fb6-9ef2-20ee1022995a/project/NumPy-Notebook-3-e6587114-b580-4249-b599-540de859e603/notebook/notebook-bb52759ea3f542eaaed9958b5df9c34b)\n",
    "\n",
    "- **SQL**\n",
    "\n",
    "1. SQL Notebook 1: [Link](https://deepnote.com/workspace/avi-chawla-695b-aee6f4ef-2d50-4fb6-9ef2-20ee1022995a/project/SQL-Notebook-1-eac9d782-a9b1-4e84-a1f9-af14080a6121/notebook/notebook-697f04297c664d02901db0f85431512e)  \n",
    "\n",
    "2. SQL Notebook 2: [Link](https://deepnote.com/workspace/avi-chawla-695b-aee6f4ef-2d50-4fb6-9ef2-20ee1022995a/project/SQL-Notebook-2-1914b214-be03-44a1-be63-ad99e98be639/notebook/notebook-e549236b988c42a5b53126a7ebb98127) **(This Notebook)**"
   ]
  },
  {
   "cell_type": "markdown",
   "metadata": {
    "cell_id": "9cac2b1e5d33443da0807e5a558e7406",
    "deepnote_cell_type": "text-cell-h2",
    "formattedRanges": [],
    "is_collapsed": false,
    "tags": []
   },
   "source": [
    "## How to use this notebook?"
   ]
  },
  {
   "cell_type": "markdown",
   "metadata": {
    "cell_id": "a5ec55e31fd84b32b6687fa5f7bc63a2",
    "deepnote_cell_type": "text-cell-p",
    "formattedRanges": [
     {
      "fromCodePoint": 41,
      "marks": {
       "bold": true
      },
      "toCodePoint": 50
     }
    ],
    "is_collapsed": false,
    "tags": []
   },
   "source": [
    "At the top right corner, you will find a Duplicate button. This will allow you to create a unique notebook for your own practice and write solutions to the question listed in this notebook.  "
   ]
  },
  {
   "cell_type": "markdown",
   "metadata": {
    "cell_id": "7f161bc6ea734eb7b7ab30c31ada458e",
    "deepnote_cell_height": 74.78125,
    "deepnote_cell_type": "markdown",
    "tags": []
   },
   "source": [
    "If you face any issues or have any feedback, feel free to reach out to me (Avi Chawla) either on Linkedin: https://www.linkedin.com/in/avi-chawla/ or write an email to avi@dsscholar[dot]com. "
   ]
  },
  {
   "cell_type": "markdown",
   "metadata": {
    "cell_id": "c341ef850a7d419f97e0fa507cf686c5",
    "deepnote_cell_type": "text-cell-p",
    "formattedRanges": [],
    "is_collapsed": false,
    "tags": []
   },
   "source": [
    "Let's begin 🚀!"
   ]
  },
  {
   "cell_type": "code",
   "execution_count": 1,
   "metadata": {
    "cell_id": "171559ec3fb748d8858d5b380dd514b7",
    "deepnote_cell_type": "code",
    "deepnote_to_be_reexecuted": false,
    "execution_millis": 9,
    "execution_start": 1660300648831,
    "source_hash": "9b82ee11",
    "tags": []
   },
   "outputs": [],
   "source": [
    "import pandas as pd\n",
    "import pandasql as psql"
   ]
  },
  {
   "cell_type": "code",
   "execution_count": 3,
   "metadata": {
    "cell_id": "3d0951a07740440f8aa5fe6854c2477c",
    "deepnote_cell_type": "code",
    "deepnote_to_be_reexecuted": false,
    "execution_millis": 691,
    "execution_start": 1660300706600,
    "source_hash": "a659335",
    "tags": []
   },
   "outputs": [
    {
     "data": {
      "text/html": [
       "<div>\n",
       "<style scoped>\n",
       "    .dataframe tbody tr th:only-of-type {\n",
       "        vertical-align: middle;\n",
       "    }\n",
       "\n",
       "    .dataframe tbody tr th {\n",
       "        vertical-align: top;\n",
       "    }\n",
       "\n",
       "    .dataframe thead th {\n",
       "        text-align: right;\n",
       "    }\n",
       "</style>\n",
       "<table border=\"1\" class=\"dataframe\">\n",
       "  <thead>\n",
       "    <tr style=\"text-align: right;\">\n",
       "      <th></th>\n",
       "      <th>Name</th>\n",
       "      <th>Company_Name</th>\n",
       "      <th>Employee_Job_Title</th>\n",
       "      <th>Employee_City</th>\n",
       "      <th>Employee_Country</th>\n",
       "      <th>Employee_Salary</th>\n",
       "      <th>Employment_Status</th>\n",
       "      <th>Employee_Rating</th>\n",
       "    </tr>\n",
       "  </thead>\n",
       "  <tbody>\n",
       "    <tr>\n",
       "      <th>0</th>\n",
       "      <td>Spencer Adkins</td>\n",
       "      <td>James and Sons</td>\n",
       "      <td>Equities trader</td>\n",
       "      <td>New Russellton</td>\n",
       "      <td>Palestinian Territory</td>\n",
       "      <td>321520</td>\n",
       "      <td>Full Time</td>\n",
       "      <td>3.9</td>\n",
       "    </tr>\n",
       "    <tr>\n",
       "      <th>1</th>\n",
       "      <td>Julie Morton</td>\n",
       "      <td>Nichols-James</td>\n",
       "      <td>Diplomatic Services operational officer</td>\n",
       "      <td>North Melissafurt</td>\n",
       "      <td>Marshall Islands</td>\n",
       "      <td>589090</td>\n",
       "      <td>Full Time</td>\n",
       "      <td>4.3</td>\n",
       "    </tr>\n",
       "    <tr>\n",
       "      <th>2</th>\n",
       "      <td>Matthew Hall</td>\n",
       "      <td>Scott Inc</td>\n",
       "      <td>Regulatory affairs officer</td>\n",
       "      <td>Wardfort</td>\n",
       "      <td>Anguilla</td>\n",
       "      <td>630890</td>\n",
       "      <td>Full Time</td>\n",
       "      <td>3.1</td>\n",
       "    </tr>\n",
       "    <tr>\n",
       "      <th>3</th>\n",
       "      <td>Brad Scott</td>\n",
       "      <td>Johnston, Fleming and Tanner</td>\n",
       "      <td>Production engineer</td>\n",
       "      <td>West Jamesview</td>\n",
       "      <td>Syrian Arab Republic</td>\n",
       "      <td>116400</td>\n",
       "      <td>Full Time</td>\n",
       "      <td>3.1</td>\n",
       "    </tr>\n",
       "    <tr>\n",
       "      <th>4</th>\n",
       "      <td>Theresa Owens</td>\n",
       "      <td>Baker, Allen and Edwards</td>\n",
       "      <td>Production engineer</td>\n",
       "      <td>Whiteside</td>\n",
       "      <td>Dominica</td>\n",
       "      <td>523499</td>\n",
       "      <td>Full Time</td>\n",
       "      <td>4.8</td>\n",
       "    </tr>\n",
       "  </tbody>\n",
       "</table>\n",
       "</div>"
      ],
      "text/plain": [
       "             Name                  Company_Name  \\\n",
       "0  Spencer Adkins                James and Sons   \n",
       "1    Julie Morton                 Nichols-James   \n",
       "2    Matthew Hall                     Scott Inc   \n",
       "3      Brad Scott  Johnston, Fleming and Tanner   \n",
       "4   Theresa Owens      Baker, Allen and Edwards   \n",
       "\n",
       "                        Employee_Job_Title      Employee_City  \\\n",
       "0                          Equities trader     New Russellton   \n",
       "1  Diplomatic Services operational officer  North Melissafurt   \n",
       "2               Regulatory affairs officer           Wardfort   \n",
       "3                      Production engineer     West Jamesview   \n",
       "4                      Production engineer          Whiteside   \n",
       "\n",
       "        Employee_Country  Employee_Salary Employment_Status  Employee_Rating  \n",
       "0  Palestinian Territory           321520         Full Time              3.9  \n",
       "1       Marshall Islands           589090         Full Time              4.3  \n",
       "2               Anguilla           630890         Full Time              3.1  \n",
       "3   Syrian Arab Republic           116400         Full Time              3.1  \n",
       "4               Dominica           523499         Full Time              4.8  "
      ]
     },
     "execution_count": 3,
     "metadata": {},
     "output_type": "execute_result"
    }
   ],
   "source": [
    "data = pd.read_csv('../employee_dataset.csv')\n",
    "data.head()"
   ]
  },
  {
   "cell_type": "code",
   "execution_count": null,
   "metadata": {},
   "outputs": [],
   "source": [
    "def query(_query, df = df):\n",
    "    return psql.sqldf(_query, locals())"
   ]
  },
  {
   "cell_type": "markdown",
   "metadata": {
    "cell_id": "a4a6d43f6ba74603bbb8a4b9150acef3",
    "deepnote_cell_type": "text-cell-h3",
    "formattedRanges": [],
    "is_collapsed": false,
    "tags": []
   },
   "source": [
    "### Sample Query"
   ]
  },
  {
   "cell_type": "code",
   "execution_count": null,
   "metadata": {
    "cell_id": "7baceae8c3874f6db0ae6297a5ccf34c",
    "deepnote_cell_height": 101,
    "deepnote_cell_type": "sql",
    "deepnote_sql_source": "select * from data; -- select all rows and columns from the data. ",
    "sql_integration_id": "deepnote-dataframe-sql",
    "tags": []
   },
   "outputs": [],
   "source": []
  },
  {
   "cell_type": "markdown",
   "metadata": {
    "cell_id": "15a8a08c89af4d6394cc61d4076e8a8a",
    "deepnote_cell_type": "text-cell-h3",
    "formattedRanges": [],
    "is_collapsed": false,
    "tags": []
   },
   "source": [
    "### 57. Select every row after the 10th row and select all columns. "
   ]
  },
  {
   "cell_type": "code",
   "execution_count": null,
   "metadata": {
    "cell_id": "d158bd7cd6c5476dae29a905642c5949",
    "deepnote_cell_height": 101,
    "deepnote_cell_type": "sql",
    "deepnote_sql_source": "",
    "sql_integration_id": "deepnote-dataframe-sql",
    "tags": []
   },
   "outputs": [],
   "source": []
  },
  {
   "cell_type": "markdown",
   "metadata": {
    "cell_id": "a04df1a26855475da1a0331f931becfa",
    "deepnote_cell_type": "text-cell-h3",
    "formattedRanges": [],
    "is_collapsed": false,
    "tags": []
   },
   "source": [
    "### 58. Select every row up to the 10th row and select all columns. "
   ]
  },
  {
   "cell_type": "code",
   "execution_count": null,
   "metadata": {
    "cell_id": "69ade3397db34e90b0742682074b0dd2",
    "deepnote_cell_height": 101,
    "deepnote_cell_type": "sql",
    "deepnote_sql_source": "",
    "sql_integration_id": "deepnote-dataframe-sql",
    "tags": []
   },
   "outputs": [],
   "source": []
  },
  {
   "cell_type": "markdown",
   "metadata": {
    "cell_id": "2d6fa3b85d1c4fe7ba9ae0041f985c2c",
    "deepnote_cell_type": "text-cell-h3",
    "formattedRanges": [],
    "is_collapsed": false,
    "tags": []
   },
   "source": [
    "### 59. Select rows with employee rating > 4.5. "
   ]
  },
  {
   "cell_type": "code",
   "execution_count": null,
   "metadata": {
    "cell_id": "18e1216a9b48450dafa9c033b4d24442",
    "deepnote_cell_height": 101,
    "deepnote_cell_type": "sql",
    "deepnote_sql_source": "",
    "sql_integration_id": "deepnote-dataframe-sql",
    "tags": []
   },
   "outputs": [],
   "source": []
  },
  {
   "cell_type": "markdown",
   "metadata": {
    "cell_id": "9abae53feb27488b8d70936b82388d4e",
    "deepnote_cell_type": "text-cell-h3",
    "formattedRanges": [],
    "is_collapsed": false,
    "tags": []
   },
   "source": [
    "### 60. Select rows with employee rating > 4.5 and < 4.8. "
   ]
  },
  {
   "cell_type": "code",
   "execution_count": null,
   "metadata": {
    "cell_id": "0627355d7f4149f88841b5ee15f3b382",
    "deepnote_cell_height": 101,
    "deepnote_cell_type": "sql",
    "deepnote_sql_source": "",
    "sql_integration_id": "deepnote-dataframe-sql",
    "tags": []
   },
   "outputs": [],
   "source": []
  },
  {
   "cell_type": "markdown",
   "metadata": {
    "cell_id": "0d2dea380c3b401f96f1f0415e0f4a6d",
    "deepnote_cell_type": "text-cell-h3",
    "formattedRanges": [],
    "is_collapsed": false,
    "tags": []
   },
   "source": [
    "### 61. Print the name of the company with the maximum employees having rating > 4."
   ]
  },
  {
   "cell_type": "code",
   "execution_count": null,
   "metadata": {
    "cell_id": "f15f33a2656b47cab31692f5b38d2c3f",
    "deepnote_cell_height": 101,
    "deepnote_cell_type": "sql",
    "deepnote_sql_source": "",
    "sql_integration_id": "deepnote-dataframe-sql",
    "tags": []
   },
   "outputs": [],
   "source": []
  },
  {
   "cell_type": "markdown",
   "metadata": {
    "cell_id": "fdcafc605cdc429e9a7c73e7390507c1",
    "deepnote_cell_type": "text-cell-h3",
    "formattedRanges": [],
    "is_collapsed": false,
    "tags": []
   },
   "source": [
    "### 62. Print the rating of the employee named 'Julie Morton'."
   ]
  },
  {
   "cell_type": "code",
   "execution_count": null,
   "metadata": {
    "cell_id": "0c89f363e2a6494aa0b6cd4c1e03fe35",
    "deepnote_cell_height": 101,
    "deepnote_cell_type": "sql",
    "deepnote_sql_source": "",
    "sql_integration_id": "deepnote-dataframe-sql",
    "tags": []
   },
   "outputs": [],
   "source": []
  },
  {
   "cell_type": "markdown",
   "metadata": {
    "cell_id": "67a28c21f4334ae1a9e2bbc877c2f7cb",
    "deepnote_cell_type": "text-cell-h3",
    "formattedRanges": [],
    "is_collapsed": false,
    "tags": []
   },
   "source": [
    "### 63. Print the last 3rd entry in the column Employee_City"
   ]
  },
  {
   "cell_type": "code",
   "execution_count": null,
   "metadata": {
    "cell_id": "29f55201f9d542ab80d0018c6110d12b",
    "deepnote_cell_height": 101,
    "deepnote_cell_type": "sql",
    "deepnote_sql_source": "",
    "sql_integration_id": "deepnote-dataframe-sql",
    "tags": []
   },
   "outputs": [],
   "source": []
  },
  {
   "cell_type": "markdown",
   "metadata": {
    "cell_id": "f8665715b04340a98adcdbc3fd2b6eb4",
    "deepnote_cell_type": "text-cell-h3",
    "formattedRanges": [],
    "is_collapsed": false,
    "tags": []
   },
   "source": [
    "### 64. Are the number of employees in 'Scott Inc' company greater than that in 'Andrade LLC'?"
   ]
  },
  {
   "cell_type": "code",
   "execution_count": null,
   "metadata": {
    "cell_id": "60b8ae68be6248d7b124ae1d022113fc",
    "deepnote_cell_height": 101,
    "deepnote_cell_type": "sql",
    "deepnote_sql_source": "",
    "sql_integration_id": "deepnote-dataframe-sql",
    "tags": []
   },
   "outputs": [],
   "source": [
    " "
   ]
  },
  {
   "cell_type": "markdown",
   "metadata": {
    "cell_id": "5d34a15f045246acabf461e3215f107e",
    "deepnote_cell_type": "text-cell-h3",
    "formattedRanges": [],
    "is_collapsed": false,
    "tags": []
   },
   "source": [
    "### 65. Which is the most common first name in the data?"
   ]
  },
  {
   "cell_type": "code",
   "execution_count": null,
   "metadata": {
    "cell_id": "4ec59ae303a74f0597877efef4bc463f",
    "deepnote_cell_height": 101,
    "deepnote_cell_type": "sql",
    "deepnote_sql_source": "",
    "sql_integration_id": "deepnote-dataframe-sql",
    "tags": []
   },
   "outputs": [],
   "source": []
  },
  {
   "cell_type": "markdown",
   "metadata": {
    "cell_id": "7c8098cf91904b188f4bebbcefef1fa6",
    "deepnote_cell_type": "text-cell-h3",
    "formattedRanges": [],
    "is_collapsed": false,
    "tags": []
   },
   "source": [
    "### 66. Which is the least common last name in the data?"
   ]
  },
  {
   "cell_type": "code",
   "execution_count": null,
   "metadata": {
    "cell_id": "0ae9c86714ef4b2fa8bd821b8f7c6871",
    "deepnote_cell_height": 101,
    "deepnote_cell_type": "sql",
    "deepnote_sql_source": "",
    "sql_integration_id": "deepnote-dataframe-sql",
    "tags": []
   },
   "outputs": [],
   "source": []
  },
  {
   "cell_type": "markdown",
   "metadata": {
    "cell_id": "ef320ebda40545d0a854e4c63ab91fba",
    "deepnote_cell_type": "text-cell-h3",
    "formattedRanges": [],
    "is_collapsed": false,
    "tags": []
   },
   "source": [
    "### 67. What is the average name length? "
   ]
  },
  {
   "cell_type": "code",
   "execution_count": null,
   "metadata": {
    "cell_id": "b15535f6b00d40c49fbe6f10a287eefd",
    "deepnote_cell_height": 101,
    "deepnote_cell_type": "sql",
    "deepnote_sql_source": "",
    "sql_integration_id": "deepnote-dataframe-sql",
    "tags": []
   },
   "outputs": [],
   "source": []
  },
  {
   "cell_type": "markdown",
   "metadata": {
    "cell_id": "54d347c38b124ba6b6b1e8c9cefff092",
    "deepnote_cell_type": "text-cell-h3",
    "formattedRanges": [],
    "is_collapsed": false,
    "tags": []
   },
   "source": [
    "### 68. What is the ratio of total full-time employees to Interns?"
   ]
  },
  {
   "cell_type": "code",
   "execution_count": null,
   "metadata": {
    "cell_id": "f5840eb45004490c9e79d1ba300b03f2",
    "deepnote_cell_height": 101,
    "deepnote_cell_type": "sql",
    "deepnote_sql_source": "",
    "sql_integration_id": "deepnote-dataframe-sql",
    "tags": []
   },
   "outputs": [],
   "source": []
  },
  {
   "cell_type": "markdown",
   "metadata": {
    "cell_id": "d16b5f426e824352ad5e9610abb8fb73",
    "deepnote_cell_type": "text-cell-h3",
    "formattedRanges": [],
    "is_collapsed": false,
    "tags": []
   },
   "source": [
    "### 69. Starting from the first record, print every third record in the Data."
   ]
  },
  {
   "cell_type": "code",
   "execution_count": null,
   "metadata": {
    "cell_id": "547173bd12df41a0a5ff067c19a2548c",
    "deepnote_cell_height": 101,
    "deepnote_cell_type": "sql",
    "deepnote_sql_source": "",
    "sql_integration_id": "deepnote-dataframe-sql",
    "tags": []
   },
   "outputs": [],
   "source": []
  },
  {
   "cell_type": "markdown",
   "metadata": {
    "cell_id": "3085612638ec4edba3717318332c27e1",
    "deepnote_cell_type": "text-cell-h3",
    "formattedRanges": [],
    "is_collapsed": false,
    "tags": []
   },
   "source": [
    "### 70. Find the average salary on company-level."
   ]
  },
  {
   "cell_type": "code",
   "execution_count": null,
   "metadata": {
    "cell_id": "459a18ecb88d4574bb3418876bd9566b",
    "deepnote_cell_height": 101,
    "deepnote_cell_type": "sql",
    "deepnote_sql_source": "",
    "sql_integration_id": "deepnote-dataframe-sql",
    "tags": []
   },
   "outputs": [],
   "source": []
  },
  {
   "cell_type": "markdown",
   "metadata": {
    "cell_id": "8ffcc3f310484fa2bd15c764cabe7cb1",
    "deepnote_cell_type": "text-cell-h3",
    "formattedRanges": [],
    "is_collapsed": false,
    "tags": []
   },
   "source": [
    "### 71. Find the average rating on company-level."
   ]
  },
  {
   "cell_type": "code",
   "execution_count": null,
   "metadata": {
    "cell_id": "014e8203f6f14ff88e65dcc8795854ac",
    "deepnote_cell_height": 101,
    "deepnote_cell_type": "sql",
    "deepnote_sql_source": "",
    "sql_integration_id": "deepnote-dataframe-sql",
    "tags": []
   },
   "outputs": [],
   "source": []
  },
  {
   "cell_type": "markdown",
   "metadata": {
    "cell_id": "3ed8d84f688f482c833869269d933e26",
    "deepnote_cell_type": "text-cell-h3",
    "formattedRanges": [],
    "is_collapsed": false,
    "tags": []
   },
   "source": [
    "### 72. Find the average salary and average rating for every company in a single line."
   ]
  },
  {
   "cell_type": "code",
   "execution_count": null,
   "metadata": {
    "cell_id": "072f5639fc9c475e8bf171778a3cee19",
    "deepnote_cell_height": 101,
    "deepnote_cell_type": "sql",
    "deepnote_sql_source": "",
    "sql_integration_id": "deepnote-dataframe-sql",
    "tags": []
   },
   "outputs": [],
   "source": []
  },
  {
   "cell_type": "markdown",
   "metadata": {
    "cell_id": "85de9f9a014143b987268d461d3d9bcf",
    "deepnote_cell_type": "text-cell-h3",
    "formattedRanges": [],
    "is_collapsed": false,
    "tags": []
   },
   "source": [
    "### 73. Find the number of unique Employee_City corresponding to every Company_Name."
   ]
  },
  {
   "cell_type": "code",
   "execution_count": null,
   "metadata": {
    "cell_id": "468b81355259420ab5bde20aa44b922c",
    "deepnote_cell_height": 101,
    "deepnote_cell_type": "sql",
    "deepnote_sql_source": "",
    "sql_integration_id": "deepnote-dataframe-sql",
    "tags": []
   },
   "outputs": [],
   "source": []
  },
  {
   "cell_type": "markdown",
   "metadata": {
    "cell_id": "17b0375c9d5147a88d3f01babb2c20c2",
    "deepnote_cell_type": "text-cell-h3",
    "formattedRanges": [],
    "is_collapsed": false,
    "tags": []
   },
   "source": [
    "### 74. Print the number of full-time and intern employees for every company "
   ]
  },
  {
   "cell_type": "code",
   "execution_count": null,
   "metadata": {
    "cell_id": "d1e7e670e77c49a6870cee0594506a6d",
    "deepnote_cell_height": 101,
    "deepnote_cell_type": "sql",
    "deepnote_sql_source": "",
    "sql_integration_id": "deepnote-dataframe-sql",
    "tags": []
   },
   "outputs": [],
   "source": []
  },
  {
   "cell_type": "markdown",
   "metadata": {
    "cell_id": "c0d6684511b1459d9dcdf6613a4ae776",
    "deepnote_cell_type": "text-cell-h3",
    "formattedRanges": [],
    "is_collapsed": false,
    "tags": []
   },
   "source": [
    "### 75. Print the job title with the most employees. "
   ]
  },
  {
   "cell_type": "code",
   "execution_count": null,
   "metadata": {
    "cell_id": "be6389da533f45ca98dd4d3aaa0f4a9e",
    "deepnote_cell_height": 101,
    "deepnote_cell_type": "sql",
    "deepnote_sql_source": "",
    "sql_integration_id": "deepnote-dataframe-sql",
    "tags": []
   },
   "outputs": [],
   "source": []
  },
  {
   "cell_type": "markdown",
   "metadata": {
    "cell_id": "0fe3bccbaf6a43cfadc8f3ef1523e48c",
    "deepnote_cell_type": "text-cell-h3",
    "formattedRanges": [],
    "is_collapsed": false,
    "tags": []
   },
   "source": [
    "### 76. Print the job title with the most employees corresponding to every company. "
   ]
  },
  {
   "cell_type": "code",
   "execution_count": null,
   "metadata": {
    "cell_id": "f944a9252cc14685831bf0d5ba30162e",
    "deepnote_cell_height": 101,
    "deepnote_cell_type": "sql",
    "deepnote_sql_source": "",
    "sql_integration_id": "deepnote-dataframe-sql",
    "tags": []
   },
   "outputs": [],
   "source": []
  },
  {
   "cell_type": "markdown",
   "metadata": {
    "cell_id": "281fadb96dbd4412bb96155e2c561931",
    "deepnote_cell_type": "text-cell-h3",
    "formattedRanges": [],
    "is_collapsed": false,
    "tags": []
   },
   "source": [
    "### 77. Find the average salary for corresponding to every value of 'Employment_Status'"
   ]
  },
  {
   "cell_type": "code",
   "execution_count": null,
   "metadata": {
    "cell_id": "9fd014cdbdfd42529357c9d8d57271c3",
    "deepnote_cell_height": 101,
    "deepnote_cell_type": "sql",
    "deepnote_sql_source": "",
    "sql_integration_id": "deepnote-dataframe-sql",
    "tags": []
   },
   "outputs": [],
   "source": []
  },
  {
   "cell_type": "markdown",
   "metadata": {
    "cell_id": "9d422cdf92cd4837b6b5b664c62bfe80",
    "deepnote_cell_type": "text-cell-h3",
    "formattedRanges": [],
    "is_collapsed": false,
    "tags": []
   },
   "source": [
    "### 78. Print the row number corresponding to the maximum Employee_Salary"
   ]
  },
  {
   "cell_type": "code",
   "execution_count": null,
   "metadata": {
    "cell_id": "da4b7ceecf1b4744a870413ebc9d3f8e",
    "deepnote_cell_height": 101,
    "deepnote_cell_type": "sql",
    "deepnote_sql_source": "",
    "sql_integration_id": "deepnote-dataframe-sql",
    "tags": []
   },
   "outputs": [],
   "source": []
  },
  {
   "cell_type": "markdown",
   "metadata": {
    "cell_id": "062b175b63c74cacb9a1a8da8f476acb",
    "deepnote_cell_type": "text-cell-h3",
    "formattedRanges": [],
    "is_collapsed": false,
    "tags": []
   },
   "source": [
    "### 79. How many unique firstnames exist in the dataset?"
   ]
  },
  {
   "cell_type": "code",
   "execution_count": null,
   "metadata": {
    "cell_id": "98268b47d4804276aa3dec65f1198d4b",
    "deepnote_cell_height": 101,
    "deepnote_cell_type": "sql",
    "deepnote_sql_source": "",
    "sql_integration_id": "deepnote-dataframe-sql",
    "tags": []
   },
   "outputs": [],
   "source": []
  },
  {
   "cell_type": "markdown",
   "metadata": {
    "cell_id": "97f220d614e745d1a83aa491ffc7a06a",
    "deepnote_cell_type": "text-cell-h3",
    "formattedRanges": [],
    "is_collapsed": false,
    "tags": []
   },
   "source": [
    "### 80. How many unique lastnames exist in the dataset?"
   ]
  },
  {
   "cell_type": "code",
   "execution_count": null,
   "metadata": {
    "cell_id": "d2e5dfee9f3d402ca6a9f130e0179e56",
    "deepnote_cell_height": 101,
    "deepnote_cell_type": "sql",
    "deepnote_sql_source": "",
    "sql_integration_id": "deepnote-dataframe-sql",
    "tags": []
   },
   "outputs": [],
   "source": []
  },
  {
   "cell_type": "markdown",
   "metadata": {
    "cell_id": "0a064c7066664b3b91d94eaf87ddb3df",
    "deepnote_cell_type": "text-cell-h3",
    "formattedRanges": [],
    "is_collapsed": false,
    "tags": []
   },
   "source": [
    "### 81. How many unique firstnames exist in the dataset for every company?"
   ]
  },
  {
   "cell_type": "code",
   "execution_count": null,
   "metadata": {
    "cell_id": "4d276f4e5aaf4c50a82ee938c2e7c249",
    "deepnote_cell_height": 101,
    "deepnote_cell_type": "sql",
    "deepnote_sql_source": "",
    "sql_integration_id": "deepnote-dataframe-sql",
    "tags": []
   },
   "outputs": [],
   "source": []
  },
  {
   "cell_type": "markdown",
   "metadata": {
    "cell_id": "171a40fb4add4c2e8db1215975236e61",
    "deepnote_cell_type": "text-cell-h3",
    "formattedRanges": [],
    "is_collapsed": false,
    "tags": []
   },
   "source": [
    "### 82.  Are there any rows for the employee name 'Michael Edward'?"
   ]
  },
  {
   "cell_type": "code",
   "execution_count": null,
   "metadata": {
    "cell_id": "7b842ab6869b4e9d9ccbf283e17eb989",
    "deepnote_cell_height": 101,
    "deepnote_cell_type": "sql",
    "deepnote_sql_source": "",
    "sql_integration_id": "deepnote-dataframe-sql",
    "tags": []
   },
   "outputs": [],
   "source": []
  },
  {
   "cell_type": "markdown",
   "metadata": {
    "cell_id": "621e0ffadc9243538f290ebdb469bb45",
    "deepnote_cell_type": "text-cell-h3",
    "formattedRanges": [],
    "is_collapsed": false,
    "tags": []
   },
   "source": [
    "### 83. Check if the substring 'Michael Edward' appears in the Name column or not. "
   ]
  },
  {
   "cell_type": "code",
   "execution_count": null,
   "metadata": {
    "cell_id": "cd4084754f9b47d887165845fcef22a8",
    "deepnote_cell_height": 101,
    "deepnote_cell_type": "sql",
    "deepnote_sql_source": "",
    "sql_integration_id": "deepnote-dataframe-sql",
    "tags": []
   },
   "outputs": [],
   "source": []
  },
  {
   "cell_type": "markdown",
   "metadata": {
    "cell_id": "56f1f488dfb64c649109c1976a9084df",
    "deepnote_cell_type": "text-cell-h3",
    "formattedRanges": [],
    "is_collapsed": false,
    "tags": []
   },
   "source": [
    "### 84.  How many unique Job titles start with the substring 'Pr' (case-sensitive matching)"
   ]
  },
  {
   "cell_type": "code",
   "execution_count": null,
   "metadata": {
    "cell_id": "54cfc569b6f64a5ea6c44ea7d08c3ac0",
    "deepnote_cell_height": 101,
    "deepnote_cell_type": "sql",
    "deepnote_sql_source": "",
    "sql_integration_id": "deepnote-dataframe-sql",
    "tags": []
   },
   "outputs": [],
   "source": []
  },
  {
   "cell_type": "markdown",
   "metadata": {
    "cell_id": "b923d7bfb7204426b355b1e3ccb4d5da",
    "deepnote_cell_type": "text-cell-h3",
    "formattedRanges": [],
    "is_collapsed": false,
    "tags": []
   },
   "source": [
    "### 85. How many unique Job titles start with the substring 'Pr' (case-insensitive matching)"
   ]
  },
  {
   "cell_type": "code",
   "execution_count": null,
   "metadata": {
    "cell_id": "d222ed6bf5f940acb997984be269f5b4",
    "deepnote_cell_height": 101,
    "deepnote_cell_type": "sql",
    "deepnote_sql_source": "",
    "sql_integration_id": "deepnote-dataframe-sql",
    "tags": []
   },
   "outputs": [],
   "source": []
  },
  {
   "cell_type": "markdown",
   "metadata": {
    "cell_id": "7d802141743a4a1aa00d2dd3124592df",
    "deepnote_cell_type": "text-cell-h3",
    "formattedRanges": [],
    "is_collapsed": false,
    "tags": []
   },
   "source": [
    "### 86. How many records are there whose Country end with the substring 'urt' (case-insensitive matching)"
   ]
  },
  {
   "cell_type": "code",
   "execution_count": null,
   "metadata": {
    "cell_id": "f3d6449087534e15808ed0315cca8154",
    "deepnote_cell_height": 101,
    "deepnote_cell_type": "sql",
    "deepnote_sql_source": "",
    "sql_integration_id": "deepnote-dataframe-sql",
    "tags": []
   },
   "outputs": [],
   "source": []
  },
  {
   "cell_type": "markdown",
   "metadata": {
    "cell_id": "ac061f28989e4cc78a607788d1f36931",
    "deepnote_cell_type": "text-cell-h3",
    "formattedRanges": [],
    "is_collapsed": false,
    "tags": []
   },
   "source": [
    "### 87. Print the number of records whose company name contains the substring 'LL' (case-insensitive)."
   ]
  },
  {
   "cell_type": "code",
   "execution_count": null,
   "metadata": {
    "cell_id": "f4fe511f56b447989568b567e5424906",
    "deepnote_cell_height": 101,
    "deepnote_cell_type": "sql",
    "deepnote_sql_source": "",
    "sql_integration_id": "deepnote-dataframe-sql",
    "tags": []
   },
   "outputs": [],
   "source": []
  },
  {
   "cell_type": "markdown",
   "metadata": {
    "cell_id": "cbaf9caee8f44da0aafc348e131ae30d",
    "deepnote_cell_type": "text-cell-h3",
    "formattedRanges": [],
    "is_collapsed": false,
    "tags": []
   },
   "source": [
    "### 88. Select the first row corresponding to every company in the data"
   ]
  },
  {
   "cell_type": "code",
   "execution_count": null,
   "metadata": {
    "cell_id": "ff06acffb97442df91151228014132f1",
    "deepnote_cell_height": 101,
    "deepnote_cell_type": "sql",
    "deepnote_sql_source": "",
    "sql_integration_id": "deepnote-dataframe-sql",
    "tags": []
   },
   "outputs": [],
   "source": []
  },
  {
   "cell_type": "markdown",
   "metadata": {
    "cell_id": "0afce6adfb2e4490a935e1313792f546",
    "deepnote_cell_type": "text-cell-h3",
    "formattedRanges": [],
    "is_collapsed": false,
    "tags": []
   },
   "source": [
    "### 89. Select the last row corresponding to every company in the data"
   ]
  },
  {
   "cell_type": "code",
   "execution_count": null,
   "metadata": {
    "cell_id": "5bdac3b2ddaa418c8ef7ef93a95d768c",
    "deepnote_cell_height": 101,
    "deepnote_cell_type": "sql",
    "deepnote_sql_source": "",
    "sql_integration_id": "deepnote-dataframe-sql",
    "tags": []
   },
   "outputs": [],
   "source": []
  },
  {
   "cell_type": "markdown",
   "metadata": {
    "cell_id": "05bd98f1b4ba4112b0a521e65315aae4",
    "deepnote_cell_type": "text-cell-h3",
    "formattedRanges": [],
    "is_collapsed": false,
    "tags": []
   },
   "source": [
    "### 90. Add a new row at the bottom of the data. "
   ]
  },
  {
   "cell_type": "code",
   "execution_count": null,
   "metadata": {
    "cell_id": "3a918495e418483b9c89c3e4e0f877c8",
    "deepnote_cell_height": 142,
    "deepnote_cell_type": "sql",
    "deepnote_sql_source": "-- add this: [\"Chris Anders\", \"Scott Inc\", \"Production engineer\", \"Wardfort\", \"Anguilla\", 343930, \"Full Time\", 3.3]\n\n",
    "sql_integration_id": "deepnote-dataframe-sql",
    "tags": []
   },
   "outputs": [],
   "source": []
  },
  {
   "cell_type": "markdown",
   "metadata": {
    "cell_id": "8db3243319494ea1854df4879b9af2c0",
    "deepnote_cell_type": "text-cell-h3",
    "formattedRanges": [],
    "is_collapsed": false,
    "tags": []
   },
   "source": [
    "### 91. Print the number of rows now."
   ]
  },
  {
   "cell_type": "code",
   "execution_count": null,
   "metadata": {
    "cell_id": "fa3bce5c08ce4ffdb6634e20fb02c389",
    "deepnote_cell_height": 101,
    "deepnote_cell_type": "sql",
    "deepnote_sql_source": "",
    "sql_integration_id": "deepnote-dataframe-sql",
    "tags": []
   },
   "outputs": [],
   "source": []
  },
  {
   "cell_type": "markdown",
   "metadata": {
    "cell_id": "a6abc7c3e661463fa9be03b0b5e29a6e",
    "deepnote_cell_type": "text-cell-h3",
    "formattedRanges": [],
    "is_collapsed": false,
    "tags": []
   },
   "source": [
    "### 92. Add a new column \"Employee_Rating_New\" which should be as follows:"
   ]
  },
  {
   "cell_type": "markdown",
   "metadata": {
    "cell_id": "5090028faa5d4b2c8b84acc832c44c47",
    "deepnote_cell_type": "text-cell-p",
    "formattedRanges": [],
    "is_collapsed": false,
    "tags": []
   },
   "source": [
    "Employee_Rating_New = max(1.5, 2*Employee_Rating - 3)"
   ]
  },
  {
   "cell_type": "code",
   "execution_count": null,
   "metadata": {
    "cell_id": "3850d2a932844fa78e6109e0bcdd8000",
    "deepnote_cell_height": 101,
    "deepnote_cell_type": "sql",
    "deepnote_sql_source": "",
    "sql_integration_id": "deepnote-dataframe-sql",
    "tags": []
   },
   "outputs": [],
   "source": []
  },
  {
   "cell_type": "markdown",
   "metadata": {
    "cell_id": "3d658f41aa4b48379da5ddb21f757099",
    "deepnote_cell_type": "text-cell-h3",
    "formattedRanges": [],
    "is_collapsed": false,
    "tags": []
   },
   "source": [
    "### 93. Convert the 'Name' to upper case and store it back to the same column. "
   ]
  },
  {
   "cell_type": "code",
   "execution_count": null,
   "metadata": {
    "cell_id": "58636faa6b8d4c78bdfb714a9b993c62",
    "deepnote_cell_height": 101,
    "deepnote_cell_type": "sql",
    "deepnote_sql_source": "",
    "sql_integration_id": "deepnote-dataframe-sql",
    "tags": []
   },
   "outputs": [],
   "source": []
  },
  {
   "cell_type": "markdown",
   "metadata": {
    "cell_id": "e8faadbd503f44f49d88079bb4b72081",
    "deepnote_cell_type": "text-cell-h3",
    "formattedRanges": [],
    "is_collapsed": false,
    "tags": []
   },
   "source": [
    "### 94. Add a New column of 'First_name' and compute it from the 'Name' column"
   ]
  },
  {
   "cell_type": "code",
   "execution_count": null,
   "metadata": {
    "cell_id": "c11146746bfd41c9b9de5bf70eb10ecd",
    "deepnote_cell_height": 101,
    "deepnote_cell_type": "sql",
    "deepnote_sql_source": "",
    "sql_integration_id": "deepnote-dataframe-sql",
    "tags": []
   },
   "outputs": [],
   "source": []
  },
  {
   "cell_type": "markdown",
   "metadata": {
    "cell_id": "c3272be6ba7349939f9eb20f14bfe149",
    "deepnote_cell_type": "text-cell-h3",
    "formattedRanges": [],
    "is_collapsed": false,
    "tags": []
   },
   "source": [
    "### 95. Add a New column of 'Last_name' and compute it from the 'Name' column"
   ]
  },
  {
   "cell_type": "code",
   "execution_count": null,
   "metadata": {
    "cell_id": "7268acdbcf1c48e4b784c5e6f3dd776c",
    "deepnote_cell_height": 101,
    "deepnote_cell_type": "sql",
    "deepnote_sql_source": "",
    "sql_integration_id": "deepnote-dataframe-sql",
    "tags": []
   },
   "outputs": [],
   "source": []
  },
  {
   "cell_type": "markdown",
   "metadata": {
    "cell_id": "499febc7cb1c433899c34c7238d047e3",
    "deepnote_cell_type": "text-cell-h3",
    "formattedRanges": [],
    "is_collapsed": false,
    "tags": []
   },
   "source": [
    "### 96. Drop the 'Name' column from the table."
   ]
  },
  {
   "cell_type": "code",
   "execution_count": null,
   "metadata": {
    "cell_id": "8962bcf73fcd48609767cffd70133386",
    "deepnote_cell_height": 101,
    "deepnote_cell_type": "sql",
    "deepnote_sql_source": "",
    "sql_integration_id": "deepnote-dataframe-sql",
    "tags": []
   },
   "outputs": [],
   "source": []
  },
  {
   "cell_type": "markdown",
   "metadata": {
    "cell_id": "57294c9378734793a647af0fcf7f400b",
    "deepnote_cell_type": "text-cell-h3",
    "formattedRanges": [],
    "is_collapsed": false,
    "tags": []
   },
   "source": [
    "### 97. Rename the columns:"
   ]
  },
  {
   "cell_type": "markdown",
   "metadata": {
    "cell_id": "eede2f1c01e349c4a893a154d3726f7d",
    "deepnote_cell_type": "text-cell-p",
    "formattedRanges": [],
    "is_collapsed": false,
    "tags": []
   },
   "source": [
    "1. Employee_Rating -> Rating\n",
    "2. Employee_Country -> Country\n",
    "3. Employee_Salary -> Salary\n",
    "4. Employee_Rating_New -> Rating_New\n",
    "5. Employment_Status -> Employment_type\n",
    "6. Employment_City -> City"
   ]
  },
  {
   "cell_type": "code",
   "execution_count": null,
   "metadata": {
    "cell_id": "21968a111cc34d37873c3f9ccf3c500c",
    "deepnote_cell_height": 101,
    "deepnote_cell_type": "sql",
    "deepnote_sql_source": "",
    "sql_integration_id": "deepnote-dataframe-sql",
    "tags": []
   },
   "outputs": [],
   "source": []
  },
  {
   "cell_type": "markdown",
   "metadata": {
    "cell_id": "abb8e9b8eb64415cb5f3e398625c0bef",
    "deepnote_cell_type": "text-cell-h3",
    "formattedRanges": [],
    "is_collapsed": false,
    "tags": []
   },
   "source": [
    "### 98. Compute a new column as 'Salary_category' as follows:"
   ]
  },
  {
   "cell_type": "markdown",
   "metadata": {
    "cell_id": "75f18866c8284a37ba5a922b76dc57b2",
    "deepnote_cell_height": 120.171875,
    "deepnote_cell_type": "markdown",
    "tags": []
   },
   "source": [
    "1. \"High\" if the salary is >= 600000\n",
    "2. \"Medium\" if the salary is > 300000 and < 600000\n",
    "3. \"Low\" otherwise."
   ]
  },
  {
   "cell_type": "code",
   "execution_count": null,
   "metadata": {
    "cell_id": "d4380ff6d60f41048bd7c8a2e8be6e35",
    "deepnote_cell_height": 101,
    "deepnote_cell_type": "sql",
    "deepnote_sql_source": "",
    "sql_integration_id": "deepnote-dataframe-sql",
    "tags": []
   },
   "outputs": [],
   "source": []
  },
  {
   "cell_type": "markdown",
   "metadata": {
    "cell_id": "0954d3e1c6a647e68be1db7bf9e5e372",
    "deepnote_cell_type": "text-cell-h3",
    "formattedRanges": [],
    "is_collapsed": false,
    "tags": []
   },
   "source": [
    "### 99. Print the count distribution of the 'Salary_category' column."
   ]
  },
  {
   "cell_type": "code",
   "execution_count": null,
   "metadata": {
    "cell_id": "a1988e6fdff041bcbb35a366d448456c",
    "deepnote_cell_height": 101,
    "deepnote_cell_type": "sql",
    "deepnote_sql_source": "",
    "sql_integration_id": "deepnote-dataframe-sql",
    "tags": []
   },
   "outputs": [],
   "source": []
  },
  {
   "cell_type": "markdown",
   "metadata": {
    "cell_id": "a53cfa86d5134e0db85452dd4f8e1f1c",
    "deepnote_cell_type": "text-cell-h3",
    "formattedRanges": [],
    "is_collapsed": false,
    "tags": []
   },
   "source": [
    "### 100. Map every Company_Name to a unique integer value. Name the new column \"Company_ID\".  "
   ]
  },
  {
   "cell_type": "code",
   "execution_count": null,
   "metadata": {
    "cell_id": "6483dcdc3a3e47d4b7df317b72017232",
    "deepnote_cell_height": 101,
    "deepnote_cell_type": "sql",
    "deepnote_sql_source": "",
    "sql_integration_id": "deepnote-dataframe-sql",
    "tags": []
   },
   "outputs": [],
   "source": []
  },
  {
   "cell_type": "markdown",
   "metadata": {
    "cell_id": "68b1249b4f364c7bb3c8f3f0e5bc99df",
    "deepnote_cell_type": "text-cell-h3",
    "formattedRanges": [],
    "is_collapsed": false,
    "tags": []
   },
   "source": [
    "### 101. Generate one-hot lables for the 'Employment_type' column. You don't have to add this as a column to the data."
   ]
  },
  {
   "cell_type": "code",
   "execution_count": null,
   "metadata": {
    "cell_id": "c6c6c38ae1db49009eae187c7a70257c",
    "deepnote_cell_height": 101,
    "deepnote_cell_type": "sql",
    "deepnote_sql_source": "",
    "sql_integration_id": "deepnote-dataframe-sql",
    "tags": []
   },
   "outputs": [],
   "source": []
  },
  {
   "cell_type": "markdown",
   "metadata": {
    "cell_id": "d0f1168a98aa4eb0a288abaf707f09ac",
    "deepnote_cell_type": "text-cell-h3",
    "formattedRanges": [],
    "is_collapsed": false,
    "tags": []
   },
   "source": [
    "### 102. Print the number of rows where 'City' belongs to the following list of cities."
   ]
  },
  {
   "cell_type": "markdown",
   "metadata": {
    "cell_id": "e1a3a29afbef4126aa17b3fda7b00c3c",
    "deepnote_cell_type": "text-cell-p",
    "formattedRanges": [],
    "is_collapsed": false,
    "tags": []
   },
   "source": [
    "[\"New Russellton\", \"Whiteside\", \"Kristaburgh\"]"
   ]
  },
  {
   "cell_type": "code",
   "execution_count": null,
   "metadata": {
    "cell_id": "ca0bad3b862f48f6bc0d5269a95cbdea",
    "deepnote_cell_height": 101,
    "deepnote_cell_type": "sql",
    "deepnote_sql_source": "",
    "sql_integration_id": "deepnote-dataframe-sql",
    "tags": []
   },
   "outputs": [],
   "source": []
  },
  {
   "cell_type": "markdown",
   "metadata": {
    "cell_id": "263a44b0792f44d9b66c458e020a0974",
    "deepnote_cell_type": "text-cell-h3",
    "formattedRanges": [],
    "is_collapsed": false,
    "tags": []
   },
   "source": [
    "### 103. Print the name of the person with the 10th largest salary. "
   ]
  },
  {
   "cell_type": "code",
   "execution_count": null,
   "metadata": {
    "cell_id": "3e3c4e0b7bc441d7bc65aa88234eca3f",
    "deepnote_cell_height": 101,
    "deepnote_cell_type": "sql",
    "deepnote_sql_source": "",
    "sql_integration_id": "deepnote-dataframe-sql",
    "tags": []
   },
   "outputs": [],
   "source": []
  },
  {
   "cell_type": "markdown",
   "metadata": {
    "cell_id": "81b86a16a1af4840ad2f629952adfc7d",
    "deepnote_cell_type": "text-cell-h3",
    "formattedRanges": [],
    "is_collapsed": false,
    "tags": []
   },
   "source": [
    "### 104. Print the standard deviation of the Salary column."
   ]
  },
  {
   "cell_type": "code",
   "execution_count": null,
   "metadata": {
    "cell_id": "d5f0a70208074e8483c4e57576889751",
    "deepnote_cell_height": 101,
    "deepnote_cell_type": "sql",
    "deepnote_sql_source": "",
    "sql_integration_id": "deepnote-dataframe-sql",
    "tags": []
   },
   "outputs": [],
   "source": []
  },
  {
   "cell_type": "markdown",
   "metadata": {
    "cell_id": "2b197dd4f83242a8aca4326ee51ea2d8",
    "deepnote_cell_type": "text-cell-h3",
    "formattedRanges": [],
    "is_collapsed": false,
    "tags": []
   },
   "source": [
    "### 105. Sort the data on Employee salary column"
   ]
  },
  {
   "cell_type": "code",
   "execution_count": null,
   "metadata": {
    "cell_id": "a4c22de2c1a74ee2bf4908965ba53eb0",
    "deepnote_cell_height": 101,
    "deepnote_cell_type": "sql",
    "deepnote_sql_source": "",
    "sql_integration_id": "deepnote-dataframe-sql",
    "tags": []
   },
   "outputs": [],
   "source": []
  },
  {
   "cell_type": "markdown",
   "metadata": {
    "cell_id": "f9479de33a1346319b973997b003f1ab",
    "deepnote_cell_type": "text-cell-h3",
    "formattedRanges": [],
    "is_collapsed": false,
    "tags": []
   },
   "source": [
    "### 106. Find the average salary on company-level only for those companies where the number of employees is greater than 120. "
   ]
  },
  {
   "cell_type": "code",
   "execution_count": null,
   "metadata": {
    "cell_id": "22f730d58e4247c2a6b88d73d1ad5200",
    "deepnote_cell_height": 101,
    "deepnote_cell_type": "sql",
    "deepnote_sql_source": "",
    "sql_integration_id": "deepnote-dataframe-sql",
    "tags": []
   },
   "outputs": [],
   "source": []
  },
  {
   "cell_type": "markdown",
   "metadata": {
    "cell_id": "9dc06e9d4d4f4e9ba7b23e9ea550043e",
    "deepnote_cell_type": "text-cell-h3",
    "formattedRanges": [],
    "is_collapsed": false,
    "tags": []
   },
   "source": [
    "### 107. Given the data below, implement a SQL inner join on col_A:"
   ]
  },
  {
   "cell_type": "code",
   "execution_count": null,
   "metadata": {
    "cell_id": "7c863b6833ff40bf8becc9112188bd26",
    "deepnote_cell_height": 133,
    "deepnote_cell_type": "code",
    "tags": []
   },
   "outputs": [],
   "source": [
    "df1 = pd.DataFrame([[\"A\", 1], [\"B\", 2]], \n",
    "                  columns=[\"col_A\", \"col_B\"])\n",
    "\n",
    "df2 = pd.DataFrame([[\"A\", 3], [\"C\", 4]], \n",
    "                  columns=[\"col_A\", \"col_C\"])"
   ]
  },
  {
   "cell_type": "code",
   "execution_count": null,
   "metadata": {
    "cell_id": "e5b1b2e6060541bdadb3f6b9b4940c02",
    "deepnote_cell_height": 101,
    "deepnote_cell_type": "sql",
    "deepnote_sql_source": "",
    "sql_integration_id": "deepnote-dataframe-sql",
    "tags": []
   },
   "outputs": [],
   "source": []
  },
  {
   "cell_type": "markdown",
   "metadata": {
    "cell_id": "5ae2dd3c4b0d47019ef240a9c63202cf",
    "deepnote_cell_type": "text-cell-h3",
    "formattedRanges": [],
    "is_collapsed": false,
    "tags": []
   },
   "source": [
    "### 108. Perform the full outer join on the two tables."
   ]
  },
  {
   "cell_type": "code",
   "execution_count": null,
   "metadata": {
    "cell_id": "056dba8341b143c598f603720de6aaef",
    "deepnote_cell_height": 133,
    "deepnote_cell_type": "code",
    "tags": []
   },
   "outputs": [],
   "source": [
    "df1 = pd.DataFrame([[\"A\", 1], [\"B\", 2]], \n",
    "                  columns=[\"col_A\", \"col_B\"])\n",
    "\n",
    "df2 = pd.DataFrame([[\"A\", 3], [\"C\", 4]], \n",
    "                  columns=[\"col_A\", \"col_C\"])"
   ]
  },
  {
   "cell_type": "code",
   "execution_count": null,
   "metadata": {
    "cell_id": "40bde99edc5245339937777e2f97149d",
    "deepnote_cell_height": 101,
    "deepnote_cell_type": "sql",
    "deepnote_sql_source": "",
    "sql_integration_id": "deepnote-dataframe-sql",
    "tags": []
   },
   "outputs": [],
   "source": []
  },
  {
   "cell_type": "markdown",
   "metadata": {
    "cell_id": "0a1d022d443341759f8bcaed0c601d12",
    "deepnote_cell_type": "text-cell-h3",
    "formattedRanges": [],
    "is_collapsed": false,
    "tags": []
   },
   "source": [
    "### 109.  Concatentate the two tables row-wise"
   ]
  },
  {
   "cell_type": "code",
   "execution_count": null,
   "metadata": {
    "cell_id": "5358ad9e1d0e4daa8fb70085873dd340",
    "deepnote_cell_height": 133,
    "deepnote_cell_type": "code",
    "tags": []
   },
   "outputs": [],
   "source": [
    "df1 = pd.DataFrame([[\"A\", 1], [\"B\", 2]], \n",
    "                  columns=[\"col_A\", \"col_B\"])\n",
    "\n",
    "df2 = pd.DataFrame([[\"A\", 3], [\"C\", 4]], \n",
    "                  columns=[\"col_A\", \"col_B\"])"
   ]
  },
  {
   "cell_type": "code",
   "execution_count": null,
   "metadata": {
    "cell_id": "1b1a1e6da4124696af3f9cfb7c9dfb6b",
    "deepnote_cell_height": 101,
    "deepnote_cell_type": "sql",
    "deepnote_sql_source": "",
    "sql_integration_id": "deepnote-dataframe-sql",
    "tags": []
   },
   "outputs": [],
   "source": []
  },
  {
   "cell_type": "markdown",
   "metadata": {
    "cell_id": "d65acd20f9114a6a91fb567a1b1d89c4",
    "deepnote_cell_type": "text-cell-h3",
    "formattedRanges": [],
    "is_collapsed": false,
    "tags": []
   },
   "source": [
    "### 110. Get the mean of every column"
   ]
  },
  {
   "cell_type": "code",
   "execution_count": null,
   "metadata": {
    "cell_id": "a03472307ed446b19eea172c89beb822",
    "deepnote_cell_height": 133,
    "deepnote_cell_type": "code",
    "tags": []
   },
   "outputs": [],
   "source": [
    "df = pd.DataFrame([[4, 1, 5], \n",
    "                   [5, 5, 9],\n",
    "                   [2, 9, 3], \n",
    "                   [8, 5, 8]], \n",
    "                  columns=[\"col_A\", \"col_B\", \"col_C\"])"
   ]
  },
  {
   "cell_type": "code",
   "execution_count": null,
   "metadata": {
    "cell_id": "bfe7bec5ec54476b93c41bb56826b89a",
    "deepnote_cell_height": 101,
    "deepnote_cell_type": "sql",
    "deepnote_sql_source": "",
    "sql_integration_id": "deepnote-dataframe-sql",
    "tags": []
   },
   "outputs": [],
   "source": []
  },
  {
   "cell_type": "markdown",
   "metadata": {
    "cell_id": "6b97743d92d84a06ade9baa10773da0d",
    "deepnote_cell_type": "text-cell-h3",
    "formattedRanges": [],
    "is_collapsed": false,
    "tags": []
   },
   "source": [
    "### 111. Sort the Data on col_A and col_B"
   ]
  },
  {
   "cell_type": "markdown",
   "metadata": {
    "cell_id": "258ae87c40ad4d39aaaa540d869d7640",
    "deepnote_cell_height": 74.78125,
    "deepnote_cell_type": "markdown",
    "tags": []
   },
   "source": [
    "col_A -> Ascending\n",
    "col_B -> Ascending"
   ]
  },
  {
   "cell_type": "code",
   "execution_count": null,
   "metadata": {
    "cell_id": "dba8b877181845e69c7961a1c9ad0156",
    "deepnote_cell_height": 133,
    "deepnote_cell_type": "code",
    "tags": []
   },
   "outputs": [],
   "source": [
    "df = pd.DataFrame([[4, 1, 5], \n",
    "                   [5, 5, 9],\n",
    "                   [2, 9, 3], \n",
    "                   [8, 5, 8]], \n",
    "                  columns=[\"col_A\", \"col_B\", \"col_C\"])"
   ]
  },
  {
   "cell_type": "code",
   "execution_count": null,
   "metadata": {
    "cell_id": "63ab8ae404894cb9b80eb26b58e7d043",
    "deepnote_cell_height": 101,
    "deepnote_cell_type": "sql",
    "deepnote_sql_source": "",
    "sql_integration_id": "deepnote-dataframe-sql",
    "tags": []
   },
   "outputs": [],
   "source": []
  },
  {
   "cell_type": "markdown",
   "metadata": {
    "cell_id": "f1b39b5ad70940cba306910f73636ebd",
    "deepnote_cell_type": "text-cell-h3",
    "formattedRanges": [],
    "is_collapsed": false,
    "tags": []
   },
   "source": [
    "### 112. Get the rows where (the value of \"col_A\" is equal to \"col_B\") OR (the value of \"col_A\" is equal to \"col_C\")."
   ]
  },
  {
   "cell_type": "code",
   "execution_count": null,
   "metadata": {
    "cell_id": "dd1142f03df64cd4999243ca110c3cf7",
    "deepnote_cell_height": 133,
    "deepnote_cell_type": "code",
    "tags": []
   },
   "outputs": [],
   "source": [
    "df = pd.DataFrame([[4, 1, 5], \n",
    "                   [5, 5, 9],\n",
    "                   [2, 9, 3], \n",
    "                   [8, 5, 8]], \n",
    "                  columns=[\"col_A\", \"col_B\", \"col_C\"])"
   ]
  },
  {
   "cell_type": "code",
   "execution_count": null,
   "metadata": {
    "cell_id": "80d1118a3df54d50bfcc4549c19e447a",
    "deepnote_cell_height": 101,
    "deepnote_cell_type": "sql",
    "deepnote_sql_source": "",
    "sql_integration_id": "deepnote-dataframe-sql",
    "tags": []
   },
   "outputs": [],
   "source": []
  },
  {
   "cell_type": "markdown",
   "metadata": {
    "cell_id": "b0da950e5cc148af8cb1086d1649c90a",
    "deepnote_cell_type": "text-cell-h3",
    "formattedRanges": [],
    "is_collapsed": false,
    "tags": []
   },
   "source": [
    "### 113. Get the rows where the value of \"col_A\" is equal to \"col_B\"."
   ]
  },
  {
   "cell_type": "code",
   "execution_count": null,
   "metadata": {
    "cell_id": "0b19df8081a1495a8703a5df48e905fa",
    "deepnote_cell_height": 133,
    "deepnote_cell_type": "code",
    "tags": []
   },
   "outputs": [],
   "source": [
    "df = pd.DataFrame([[4, 1, 5], \n",
    "                   [5, 5, 9],\n",
    "                   [2, 9, 3], \n",
    "                   [8, 5, 8]], \n",
    "                  columns=[\"col_A\", \"col_B\", \"col_C\"])"
   ]
  },
  {
   "cell_type": "code",
   "execution_count": null,
   "metadata": {
    "cell_id": "0640b10465e44067beb12ea127af2930",
    "deepnote_cell_height": 101,
    "deepnote_cell_type": "sql",
    "deepnote_sql_source": "",
    "sql_integration_id": "deepnote-dataframe-sql",
    "tags": []
   },
   "outputs": [],
   "source": []
  },
  {
   "cell_type": "markdown",
   "metadata": {
    "cell_id": "2bd394efe58d48a1bbeef27b53704f49",
    "deepnote_cell_type": "text-cell-h3",
    "formattedRanges": [],
    "is_collapsed": false,
    "tags": []
   },
   "source": [
    "### 114-123: As your next exercise, frame 10 questions on your own and solve them. "
   ]
  },
  {
   "cell_type": "code",
   "execution_count": null,
   "metadata": {
    "cell_id": "82f6200ea5634000ab7be747e7bd1e50",
    "deepnote_cell_height": 101,
    "deepnote_cell_type": "sql",
    "deepnote_sql_source": "",
    "sql_integration_id": "deepnote-dataframe-sql",
    "tags": []
   },
   "outputs": [],
   "source": []
  },
  {
   "cell_type": "markdown",
   "metadata": {
    "cell_id": "3e2559e369c441438039d6b683f75a2a",
    "deepnote_cell_type": "text-cell-h3",
    "formattedRanges": [],
    "is_collapsed": false,
    "tags": []
   },
   "source": [
    "### "
   ]
  },
  {
   "cell_type": "markdown",
   "metadata": {
    "created_in_deepnote_cell": true,
    "deepnote_cell_type": "markdown"
   },
   "source": [
    "<a style='text-decoration:none;line-height:16px;display:flex;color:#5B5B62;padding:10px;justify-content:end;' href='https://deepnote.com?utm_source=created-in-deepnote-cell&projectId=1914b214-be03-44a1-be63-ad99e98be639' target=\"_blank\">\n",
    "<img alt='Created in deepnote.com' style='display:inline;max-height:16px;margin:0px;margin-right:7.5px;' src='data:image/svg+xml;base64,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' > </img>\n",
    "Created in <span style='font-weight:600;margin-left:4px;'>Deepnote</span></a>"
   ]
  }
 ],
 "metadata": {
  "deepnote_execution_queue": [],
  "deepnote_notebook_id": "e549236b988c42a5b53126a7ebb98127",
  "kernelspec": {
   "display_name": "Python 3 (ipykernel)",
   "language": "python",
   "name": "python3"
  },
  "language_info": {
   "codemirror_mode": {
    "name": "ipython",
    "version": 3
   },
   "file_extension": ".py",
   "mimetype": "text/x-python",
   "name": "python",
   "nbconvert_exporter": "python",
   "pygments_lexer": "ipython3",
   "version": "3.11.5"
  }
 },
 "nbformat": 4,
 "nbformat_minor": 4
}
