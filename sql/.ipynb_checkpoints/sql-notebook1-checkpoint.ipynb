{
 "cells": [
  {
   "cell_type": "code",
   "execution_count": 2,
   "metadata": {
    "cell_id": "db29435ff52f4298a7a095eafe8c5b58",
    "deepnote_cell_type": "code",
    "deepnote_to_be_reexecuted": false,
    "execution_millis": 1,
    "execution_start": 1660307026763,
    "source_hash": "9b82ee11",
    "tags": []
   },
   "outputs": [],
   "source": [
    "import pandas as pd\n",
    "import pandasql as psql"
   ]
  },
  {
   "cell_type": "code",
   "execution_count": 3,
   "metadata": {
    "cell_id": "189f665e588247f29737643dfe4979f6",
    "deepnote_cell_type": "code",
    "deepnote_to_be_reexecuted": false,
    "execution_millis": 707,
    "execution_start": 1660307026765,
    "source_hash": "6a3a08b4",
    "tags": []
   },
   "outputs": [
    {
     "data": {
      "text/html": [
       "<div>\n",
       "<style scoped>\n",
       "    .dataframe tbody tr th:only-of-type {\n",
       "        vertical-align: middle;\n",
       "    }\n",
       "\n",
       "    .dataframe tbody tr th {\n",
       "        vertical-align: top;\n",
       "    }\n",
       "\n",
       "    .dataframe thead th {\n",
       "        text-align: right;\n",
       "    }\n",
       "</style>\n",
       "<table border=\"1\" class=\"dataframe\">\n",
       "  <thead>\n",
       "    <tr style=\"text-align: right;\">\n",
       "      <th></th>\n",
       "      <th>Name</th>\n",
       "      <th>Company_Name</th>\n",
       "      <th>Employee_Job_Title</th>\n",
       "      <th>Employee_City</th>\n",
       "      <th>Employee_Country</th>\n",
       "      <th>Employee_Salary</th>\n",
       "      <th>Employment_Status</th>\n",
       "      <th>Employee_Rating</th>\n",
       "    </tr>\n",
       "  </thead>\n",
       "  <tbody>\n",
       "    <tr>\n",
       "      <th>0</th>\n",
       "      <td>Spencer Adkins</td>\n",
       "      <td>James and Sons</td>\n",
       "      <td>Equities trader</td>\n",
       "      <td>New Russellton</td>\n",
       "      <td>Palestinian Territory</td>\n",
       "      <td>321520</td>\n",
       "      <td>Full Time</td>\n",
       "      <td>3.9</td>\n",
       "    </tr>\n",
       "    <tr>\n",
       "      <th>1</th>\n",
       "      <td>Julie Morton</td>\n",
       "      <td>Nichols-James</td>\n",
       "      <td>Diplomatic Services operational officer</td>\n",
       "      <td>North Melissafurt</td>\n",
       "      <td>Marshall Islands</td>\n",
       "      <td>589090</td>\n",
       "      <td>Full Time</td>\n",
       "      <td>4.3</td>\n",
       "    </tr>\n",
       "    <tr>\n",
       "      <th>2</th>\n",
       "      <td>Matthew Hall</td>\n",
       "      <td>Scott Inc</td>\n",
       "      <td>Regulatory affairs officer</td>\n",
       "      <td>Wardfort</td>\n",
       "      <td>Anguilla</td>\n",
       "      <td>630890</td>\n",
       "      <td>Full Time</td>\n",
       "      <td>3.1</td>\n",
       "    </tr>\n",
       "    <tr>\n",
       "      <th>3</th>\n",
       "      <td>Brad Scott</td>\n",
       "      <td>Johnston, Fleming and Tanner</td>\n",
       "      <td>Production engineer</td>\n",
       "      <td>West Jamesview</td>\n",
       "      <td>Syrian Arab Republic</td>\n",
       "      <td>116400</td>\n",
       "      <td>Full Time</td>\n",
       "      <td>3.1</td>\n",
       "    </tr>\n",
       "    <tr>\n",
       "      <th>4</th>\n",
       "      <td>Theresa Owens</td>\n",
       "      <td>Baker, Allen and Edwards</td>\n",
       "      <td>Production engineer</td>\n",
       "      <td>Whiteside</td>\n",
       "      <td>Dominica</td>\n",
       "      <td>523499</td>\n",
       "      <td>Full Time</td>\n",
       "      <td>4.8</td>\n",
       "    </tr>\n",
       "  </tbody>\n",
       "</table>\n",
       "</div>"
      ],
      "text/plain": [
       "             Name                  Company_Name  \\\n",
       "0  Spencer Adkins                James and Sons   \n",
       "1    Julie Morton                 Nichols-James   \n",
       "2    Matthew Hall                     Scott Inc   \n",
       "3      Brad Scott  Johnston, Fleming and Tanner   \n",
       "4   Theresa Owens      Baker, Allen and Edwards   \n",
       "\n",
       "                        Employee_Job_Title      Employee_City  \\\n",
       "0                          Equities trader     New Russellton   \n",
       "1  Diplomatic Services operational officer  North Melissafurt   \n",
       "2               Regulatory affairs officer           Wardfort   \n",
       "3                      Production engineer     West Jamesview   \n",
       "4                      Production engineer          Whiteside   \n",
       "\n",
       "        Employee_Country  Employee_Salary Employment_Status  Employee_Rating  \n",
       "0  Palestinian Territory           321520         Full Time              3.9  \n",
       "1       Marshall Islands           589090         Full Time              4.3  \n",
       "2               Anguilla           630890         Full Time              3.1  \n",
       "3   Syrian Arab Republic           116400         Full Time              3.1  \n",
       "4               Dominica           523499         Full Time              4.8  "
      ]
     },
     "execution_count": 3,
     "metadata": {},
     "output_type": "execute_result"
    }
   ],
   "source": [
    "data = pd.read_csv(\"../employee_dataset.csv\")\n",
    "data.head()"
   ]
  },
  {
   "cell_type": "code",
   "execution_count": 4,
   "metadata": {},
   "outputs": [],
   "source": [
    "def query(_query, data = data):\n",
    "    return psql.sqldf(_query, locals())"
   ]
  },
  {
   "cell_type": "markdown",
   "metadata": {
    "cell_id": "2915c4f423e24e47a820afe0309e5190",
    "deepnote_cell_type": "text-cell-h3",
    "formattedRanges": [],
    "is_collapsed": false,
    "tags": []
   },
   "source": [
    "### Sample Query"
   ]
  },
  {
   "cell_type": "code",
   "execution_count": 69,
   "metadata": {
    "cell_id": "ec9fc0c36c16470cbecad90ab7651d6e",
    "deepnote_cell_height": 101,
    "deepnote_cell_type": "sql",
    "deepnote_sql_source": "select * from data; -- select all rows and columns from the data. ",
    "sql_integration_id": "deepnote-dataframe-sql",
    "tags": []
   },
   "outputs": [
    {
     "data": {
      "text/html": [
       "<div>\n",
       "<style scoped>\n",
       "    .dataframe tbody tr th:only-of-type {\n",
       "        vertical-align: middle;\n",
       "    }\n",
       "\n",
       "    .dataframe tbody tr th {\n",
       "        vertical-align: top;\n",
       "    }\n",
       "\n",
       "    .dataframe thead th {\n",
       "        text-align: right;\n",
       "    }\n",
       "</style>\n",
       "<table border=\"1\" class=\"dataframe\">\n",
       "  <thead>\n",
       "    <tr style=\"text-align: right;\">\n",
       "      <th></th>\n",
       "      <th>Name</th>\n",
       "      <th>Company_Name</th>\n",
       "      <th>Employee_Job_Title</th>\n",
       "      <th>Employee_City</th>\n",
       "      <th>Employee_Country</th>\n",
       "      <th>Employee_Salary</th>\n",
       "      <th>Employment_Status</th>\n",
       "      <th>Employee_Rating</th>\n",
       "    </tr>\n",
       "  </thead>\n",
       "  <tbody>\n",
       "    <tr>\n",
       "      <th>0</th>\n",
       "      <td>Spencer Adkins</td>\n",
       "      <td>James and Sons</td>\n",
       "      <td>Equities trader</td>\n",
       "      <td>New Russellton</td>\n",
       "      <td>Palestinian Territory</td>\n",
       "      <td>321520</td>\n",
       "      <td>Full Time</td>\n",
       "      <td>3.9</td>\n",
       "    </tr>\n",
       "    <tr>\n",
       "      <th>1</th>\n",
       "      <td>Julie Morton</td>\n",
       "      <td>Nichols-James</td>\n",
       "      <td>Diplomatic Services operational officer</td>\n",
       "      <td>North Melissafurt</td>\n",
       "      <td>Marshall Islands</td>\n",
       "      <td>589090</td>\n",
       "      <td>Full Time</td>\n",
       "      <td>4.3</td>\n",
       "    </tr>\n",
       "    <tr>\n",
       "      <th>2</th>\n",
       "      <td>Matthew Hall</td>\n",
       "      <td>Scott Inc</td>\n",
       "      <td>Regulatory affairs officer</td>\n",
       "      <td>Wardfort</td>\n",
       "      <td>Anguilla</td>\n",
       "      <td>630890</td>\n",
       "      <td>Full Time</td>\n",
       "      <td>3.1</td>\n",
       "    </tr>\n",
       "    <tr>\n",
       "      <th>3</th>\n",
       "      <td>Brad Scott</td>\n",
       "      <td>Johnston, Fleming and Tanner</td>\n",
       "      <td>Production engineer</td>\n",
       "      <td>West Jamesview</td>\n",
       "      <td>Syrian Arab Republic</td>\n",
       "      <td>116400</td>\n",
       "      <td>Full Time</td>\n",
       "      <td>3.1</td>\n",
       "    </tr>\n",
       "    <tr>\n",
       "      <th>4</th>\n",
       "      <td>Theresa Owens</td>\n",
       "      <td>Baker, Allen and Edwards</td>\n",
       "      <td>Production engineer</td>\n",
       "      <td>Whiteside</td>\n",
       "      <td>Dominica</td>\n",
       "      <td>523499</td>\n",
       "      <td>Full Time</td>\n",
       "      <td>4.8</td>\n",
       "    </tr>\n",
       "    <tr>\n",
       "      <th>...</th>\n",
       "      <td>...</td>\n",
       "      <td>...</td>\n",
       "      <td>...</td>\n",
       "      <td>...</td>\n",
       "      <td>...</td>\n",
       "      <td>...</td>\n",
       "      <td>...</td>\n",
       "      <td>...</td>\n",
       "    </tr>\n",
       "    <tr>\n",
       "      <th>299995</th>\n",
       "      <td>Nancy Neal</td>\n",
       "      <td>Bullock-Carrillo</td>\n",
       "      <td>Optometrist</td>\n",
       "      <td>North Melissafurt</td>\n",
       "      <td>Samoa</td>\n",
       "      <td>99670</td>\n",
       "      <td>Intern</td>\n",
       "      <td>3.3</td>\n",
       "    </tr>\n",
       "    <tr>\n",
       "      <th>299996</th>\n",
       "      <td>Michele Butler</td>\n",
       "      <td>Johnston, Fleming and Tanner</td>\n",
       "      <td>Administrator</td>\n",
       "      <td>Aliciafort</td>\n",
       "      <td>Cuba</td>\n",
       "      <td>949580</td>\n",
       "      <td>Intern</td>\n",
       "      <td>2.6</td>\n",
       "    </tr>\n",
       "    <tr>\n",
       "      <th>299997</th>\n",
       "      <td>Lynn Wilson</td>\n",
       "      <td>Nichols-James</td>\n",
       "      <td>Administrator</td>\n",
       "      <td>New Cindychester</td>\n",
       "      <td>Bolivia</td>\n",
       "      <td>802830</td>\n",
       "      <td>Full Time</td>\n",
       "      <td>0.6</td>\n",
       "    </tr>\n",
       "    <tr>\n",
       "      <th>299998</th>\n",
       "      <td>Lindsey Keith</td>\n",
       "      <td>Nichols-James</td>\n",
       "      <td>Make</td>\n",
       "      <td>Whitakerbury</td>\n",
       "      <td>Western Sahara</td>\n",
       "      <td>257240</td>\n",
       "      <td>Full Time</td>\n",
       "      <td>2.4</td>\n",
       "    </tr>\n",
       "    <tr>\n",
       "      <th>299999</th>\n",
       "      <td>Karen Delgado</td>\n",
       "      <td>James and Sons</td>\n",
       "      <td>Actuary</td>\n",
       "      <td>New Russellton</td>\n",
       "      <td>United Kingdom</td>\n",
       "      <td>575770</td>\n",
       "      <td>Intern</td>\n",
       "      <td>3.3</td>\n",
       "    </tr>\n",
       "  </tbody>\n",
       "</table>\n",
       "<p>300000 rows × 8 columns</p>\n",
       "</div>"
      ],
      "text/plain": [
       "                  Name                  Company_Name  \\\n",
       "0       Spencer Adkins                James and Sons   \n",
       "1         Julie Morton                 Nichols-James   \n",
       "2         Matthew Hall                     Scott Inc   \n",
       "3           Brad Scott  Johnston, Fleming and Tanner   \n",
       "4        Theresa Owens      Baker, Allen and Edwards   \n",
       "...                ...                           ...   \n",
       "299995      Nancy Neal              Bullock-Carrillo   \n",
       "299996  Michele Butler  Johnston, Fleming and Tanner   \n",
       "299997     Lynn Wilson                 Nichols-James   \n",
       "299998   Lindsey Keith                 Nichols-James   \n",
       "299999   Karen Delgado                James and Sons   \n",
       "\n",
       "                             Employee_Job_Title      Employee_City  \\\n",
       "0                               Equities trader     New Russellton   \n",
       "1       Diplomatic Services operational officer  North Melissafurt   \n",
       "2                    Regulatory affairs officer           Wardfort   \n",
       "3                           Production engineer     West Jamesview   \n",
       "4                           Production engineer          Whiteside   \n",
       "...                                         ...                ...   \n",
       "299995                              Optometrist  North Melissafurt   \n",
       "299996                            Administrator         Aliciafort   \n",
       "299997                            Administrator   New Cindychester   \n",
       "299998                                     Make       Whitakerbury   \n",
       "299999                                  Actuary     New Russellton   \n",
       "\n",
       "             Employee_Country  Employee_Salary Employment_Status  \\\n",
       "0       Palestinian Territory           321520         Full Time   \n",
       "1            Marshall Islands           589090         Full Time   \n",
       "2                    Anguilla           630890         Full Time   \n",
       "3        Syrian Arab Republic           116400         Full Time   \n",
       "4                    Dominica           523499         Full Time   \n",
       "...                       ...              ...               ...   \n",
       "299995                  Samoa            99670            Intern   \n",
       "299996                   Cuba           949580            Intern   \n",
       "299997                Bolivia           802830         Full Time   \n",
       "299998         Western Sahara           257240         Full Time   \n",
       "299999         United Kingdom           575770            Intern   \n",
       "\n",
       "        Employee_Rating  \n",
       "0                   3.9  \n",
       "1                   4.3  \n",
       "2                   3.1  \n",
       "3                   3.1  \n",
       "4                   4.8  \n",
       "...                 ...  \n",
       "299995              3.3  \n",
       "299996              2.6  \n",
       "299997              0.6  \n",
       "299998              2.4  \n",
       "299999              3.3  \n",
       "\n",
       "[300000 rows x 8 columns]"
      ]
     },
     "execution_count": 69,
     "metadata": {},
     "output_type": "execute_result"
    }
   ],
   "source": [
    "query('SELECT * from data')"
   ]
  },
  {
   "cell_type": "markdown",
   "metadata": {
    "cell_id": "a4b2f91b50b446adae0a6b986fec3b18",
    "deepnote_cell_type": "text-cell-h3",
    "formattedRanges": [],
    "is_collapsed": false,
    "tags": []
   },
   "source": [
    "### 1. Print the first five rows"
   ]
  },
  {
   "cell_type": "code",
   "execution_count": 70,
   "metadata": {
    "cell_id": "6c39784092dc498da435ec050d16525e",
    "deepnote_cell_type": "sql",
    "deepnote_sql_source": "",
    "deepnote_to_be_reexecuted": false,
    "execution_millis": 317,
    "execution_start": 1660307027476,
    "source_hash": "9e213752",
    "sql_integration_id": "deepnote-dataframe-sql",
    "tags": []
   },
   "outputs": [
    {
     "data": {
      "text/html": [
       "<div>\n",
       "<style scoped>\n",
       "    .dataframe tbody tr th:only-of-type {\n",
       "        vertical-align: middle;\n",
       "    }\n",
       "\n",
       "    .dataframe tbody tr th {\n",
       "        vertical-align: top;\n",
       "    }\n",
       "\n",
       "    .dataframe thead th {\n",
       "        text-align: right;\n",
       "    }\n",
       "</style>\n",
       "<table border=\"1\" class=\"dataframe\">\n",
       "  <thead>\n",
       "    <tr style=\"text-align: right;\">\n",
       "      <th></th>\n",
       "      <th>Name</th>\n",
       "      <th>Company_Name</th>\n",
       "      <th>Employee_Job_Title</th>\n",
       "      <th>Employee_City</th>\n",
       "      <th>Employee_Country</th>\n",
       "      <th>Employee_Salary</th>\n",
       "      <th>Employment_Status</th>\n",
       "      <th>Employee_Rating</th>\n",
       "    </tr>\n",
       "  </thead>\n",
       "  <tbody>\n",
       "    <tr>\n",
       "      <th>0</th>\n",
       "      <td>Spencer Adkins</td>\n",
       "      <td>James and Sons</td>\n",
       "      <td>Equities trader</td>\n",
       "      <td>New Russellton</td>\n",
       "      <td>Palestinian Territory</td>\n",
       "      <td>321520</td>\n",
       "      <td>Full Time</td>\n",
       "      <td>3.9</td>\n",
       "    </tr>\n",
       "    <tr>\n",
       "      <th>1</th>\n",
       "      <td>Julie Morton</td>\n",
       "      <td>Nichols-James</td>\n",
       "      <td>Diplomatic Services operational officer</td>\n",
       "      <td>North Melissafurt</td>\n",
       "      <td>Marshall Islands</td>\n",
       "      <td>589090</td>\n",
       "      <td>Full Time</td>\n",
       "      <td>4.3</td>\n",
       "    </tr>\n",
       "    <tr>\n",
       "      <th>2</th>\n",
       "      <td>Matthew Hall</td>\n",
       "      <td>Scott Inc</td>\n",
       "      <td>Regulatory affairs officer</td>\n",
       "      <td>Wardfort</td>\n",
       "      <td>Anguilla</td>\n",
       "      <td>630890</td>\n",
       "      <td>Full Time</td>\n",
       "      <td>3.1</td>\n",
       "    </tr>\n",
       "    <tr>\n",
       "      <th>3</th>\n",
       "      <td>Brad Scott</td>\n",
       "      <td>Johnston, Fleming and Tanner</td>\n",
       "      <td>Production engineer</td>\n",
       "      <td>West Jamesview</td>\n",
       "      <td>Syrian Arab Republic</td>\n",
       "      <td>116400</td>\n",
       "      <td>Full Time</td>\n",
       "      <td>3.1</td>\n",
       "    </tr>\n",
       "    <tr>\n",
       "      <th>4</th>\n",
       "      <td>Theresa Owens</td>\n",
       "      <td>Baker, Allen and Edwards</td>\n",
       "      <td>Production engineer</td>\n",
       "      <td>Whiteside</td>\n",
       "      <td>Dominica</td>\n",
       "      <td>523499</td>\n",
       "      <td>Full Time</td>\n",
       "      <td>4.8</td>\n",
       "    </tr>\n",
       "  </tbody>\n",
       "</table>\n",
       "</div>"
      ],
      "text/plain": [
       "             Name                  Company_Name  \\\n",
       "0  Spencer Adkins                James and Sons   \n",
       "1    Julie Morton                 Nichols-James   \n",
       "2    Matthew Hall                     Scott Inc   \n",
       "3      Brad Scott  Johnston, Fleming and Tanner   \n",
       "4   Theresa Owens      Baker, Allen and Edwards   \n",
       "\n",
       "                        Employee_Job_Title      Employee_City  \\\n",
       "0                          Equities trader     New Russellton   \n",
       "1  Diplomatic Services operational officer  North Melissafurt   \n",
       "2               Regulatory affairs officer           Wardfort   \n",
       "3                      Production engineer     West Jamesview   \n",
       "4                      Production engineer          Whiteside   \n",
       "\n",
       "        Employee_Country  Employee_Salary Employment_Status  Employee_Rating  \n",
       "0  Palestinian Territory           321520         Full Time              3.9  \n",
       "1       Marshall Islands           589090         Full Time              4.3  \n",
       "2               Anguilla           630890         Full Time              3.1  \n",
       "3   Syrian Arab Republic           116400         Full Time              3.1  \n",
       "4               Dominica           523499         Full Time              4.8  "
      ]
     },
     "execution_count": 70,
     "metadata": {},
     "output_type": "execute_result"
    }
   ],
   "source": [
    "query('SELECT * from data LIMIT 5')"
   ]
  },
  {
   "cell_type": "markdown",
   "metadata": {
    "cell_id": "4fe96f86e8c342b4a632a45962ba541f",
    "deepnote_cell_type": "text-cell-h3",
    "formattedRanges": [],
    "is_collapsed": false,
    "tags": []
   },
   "source": [
    "### 2. Print the number of rows"
   ]
  },
  {
   "cell_type": "code",
   "execution_count": 71,
   "metadata": {
    "cell_id": "6900c5a9f7c64d449b7af38287c62c5e",
    "deepnote_cell_type": "sql",
    "deepnote_sql_source": "",
    "deepnote_to_be_reexecuted": false,
    "execution_millis": 5,
    "execution_start": 1660307027799,
    "source_hash": "9e213752",
    "sql_integration_id": "deepnote-dataframe-sql",
    "tags": []
   },
   "outputs": [
    {
     "data": {
      "text/html": [
       "<div>\n",
       "<style scoped>\n",
       "    .dataframe tbody tr th:only-of-type {\n",
       "        vertical-align: middle;\n",
       "    }\n",
       "\n",
       "    .dataframe tbody tr th {\n",
       "        vertical-align: top;\n",
       "    }\n",
       "\n",
       "    .dataframe thead th {\n",
       "        text-align: right;\n",
       "    }\n",
       "</style>\n",
       "<table border=\"1\" class=\"dataframe\">\n",
       "  <thead>\n",
       "    <tr style=\"text-align: right;\">\n",
       "      <th></th>\n",
       "      <th>COUNT(*)</th>\n",
       "    </tr>\n",
       "  </thead>\n",
       "  <tbody>\n",
       "    <tr>\n",
       "      <th>0</th>\n",
       "      <td>300000</td>\n",
       "    </tr>\n",
       "  </tbody>\n",
       "</table>\n",
       "</div>"
      ],
      "text/plain": [
       "   COUNT(*)\n",
       "0    300000"
      ]
     },
     "execution_count": 71,
     "metadata": {},
     "output_type": "execute_result"
    }
   ],
   "source": [
    "query('SELECT COUNT(*) FROM data')"
   ]
  },
  {
   "cell_type": "markdown",
   "metadata": {
    "cell_id": "7d4fc4b682e34b1da9df914fcb7d3ea3",
    "deepnote_cell_type": "text-cell-h3",
    "formattedRanges": [],
    "is_collapsed": false,
    "tags": []
   },
   "source": [
    "### 3. Print the first five rows of the Company_Name and Employment_Status Column"
   ]
  },
  {
   "cell_type": "code",
   "execution_count": 72,
   "metadata": {
    "cell_id": "a3d019393a864201b182de0c0dbf086b",
    "deepnote_cell_type": "sql",
    "deepnote_sql_source": "",
    "deepnote_to_be_reexecuted": false,
    "execution_millis": 8,
    "execution_start": 1660307027806,
    "source_hash": "9e213752",
    "sql_integration_id": "deepnote-dataframe-sql",
    "tags": []
   },
   "outputs": [
    {
     "data": {
      "text/html": [
       "<div>\n",
       "<style scoped>\n",
       "    .dataframe tbody tr th:only-of-type {\n",
       "        vertical-align: middle;\n",
       "    }\n",
       "\n",
       "    .dataframe tbody tr th {\n",
       "        vertical-align: top;\n",
       "    }\n",
       "\n",
       "    .dataframe thead th {\n",
       "        text-align: right;\n",
       "    }\n",
       "</style>\n",
       "<table border=\"1\" class=\"dataframe\">\n",
       "  <thead>\n",
       "    <tr style=\"text-align: right;\">\n",
       "      <th></th>\n",
       "      <th>Company_Name</th>\n",
       "      <th>Employment_Status</th>\n",
       "    </tr>\n",
       "  </thead>\n",
       "  <tbody>\n",
       "    <tr>\n",
       "      <th>0</th>\n",
       "      <td>James and Sons</td>\n",
       "      <td>Full Time</td>\n",
       "    </tr>\n",
       "    <tr>\n",
       "      <th>1</th>\n",
       "      <td>Nichols-James</td>\n",
       "      <td>Full Time</td>\n",
       "    </tr>\n",
       "    <tr>\n",
       "      <th>2</th>\n",
       "      <td>Scott Inc</td>\n",
       "      <td>Full Time</td>\n",
       "    </tr>\n",
       "    <tr>\n",
       "      <th>3</th>\n",
       "      <td>Johnston, Fleming and Tanner</td>\n",
       "      <td>Full Time</td>\n",
       "    </tr>\n",
       "    <tr>\n",
       "      <th>4</th>\n",
       "      <td>Baker, Allen and Edwards</td>\n",
       "      <td>Full Time</td>\n",
       "    </tr>\n",
       "  </tbody>\n",
       "</table>\n",
       "</div>"
      ],
      "text/plain": [
       "                   Company_Name Employment_Status\n",
       "0                James and Sons         Full Time\n",
       "1                 Nichols-James         Full Time\n",
       "2                     Scott Inc         Full Time\n",
       "3  Johnston, Fleming and Tanner         Full Time\n",
       "4      Baker, Allen and Edwards         Full Time"
      ]
     },
     "execution_count": 72,
     "metadata": {},
     "output_type": "execute_result"
    }
   ],
   "source": [
    "query('SELECT Company_Name, Employment_Status FROM data LIMIT 5')"
   ]
  },
  {
   "cell_type": "markdown",
   "metadata": {
    "cell_id": "c7ed965cbc224f46a419abf6ef597250",
    "deepnote_cell_type": "text-cell-h3",
    "formattedRanges": [],
    "is_collapsed": false,
    "tags": []
   },
   "source": [
    "### 4. Print the first five rows where the Employee_Rating > 4.5"
   ]
  },
  {
   "cell_type": "code",
   "execution_count": 73,
   "metadata": {
    "cell_id": "7b9f2b3af4d84f7ba75835d6a6bed351",
    "deepnote_cell_type": "sql",
    "deepnote_sql_source": "",
    "deepnote_to_be_reexecuted": false,
    "execution_millis": 34,
    "execution_start": 1660307027815,
    "source_hash": "9e213752",
    "sql_integration_id": "deepnote-dataframe-sql",
    "tags": []
   },
   "outputs": [
    {
     "data": {
      "text/html": [
       "<div>\n",
       "<style scoped>\n",
       "    .dataframe tbody tr th:only-of-type {\n",
       "        vertical-align: middle;\n",
       "    }\n",
       "\n",
       "    .dataframe tbody tr th {\n",
       "        vertical-align: top;\n",
       "    }\n",
       "\n",
       "    .dataframe thead th {\n",
       "        text-align: right;\n",
       "    }\n",
       "</style>\n",
       "<table border=\"1\" class=\"dataframe\">\n",
       "  <thead>\n",
       "    <tr style=\"text-align: right;\">\n",
       "      <th></th>\n",
       "      <th>Name</th>\n",
       "      <th>Company_Name</th>\n",
       "      <th>Employee_Job_Title</th>\n",
       "      <th>Employee_City</th>\n",
       "      <th>Employee_Country</th>\n",
       "      <th>Employee_Salary</th>\n",
       "      <th>Employment_Status</th>\n",
       "      <th>Employee_Rating</th>\n",
       "    </tr>\n",
       "  </thead>\n",
       "  <tbody>\n",
       "    <tr>\n",
       "      <th>0</th>\n",
       "      <td>Theresa Owens</td>\n",
       "      <td>Baker, Allen and Edwards</td>\n",
       "      <td>Production engineer</td>\n",
       "      <td>Whiteside</td>\n",
       "      <td>Dominica</td>\n",
       "      <td>523499</td>\n",
       "      <td>Full Time</td>\n",
       "      <td>4.8</td>\n",
       "    </tr>\n",
       "    <tr>\n",
       "      <th>1</th>\n",
       "      <td>Victoria Sutton</td>\n",
       "      <td>White, Mcclain and Cobb</td>\n",
       "      <td>Naval architect</td>\n",
       "      <td>Whiteside</td>\n",
       "      <td>Poland</td>\n",
       "      <td>656260</td>\n",
       "      <td>Full Time</td>\n",
       "      <td>4.9</td>\n",
       "    </tr>\n",
       "    <tr>\n",
       "      <th>2</th>\n",
       "      <td>David Duran</td>\n",
       "      <td>Nichols-James</td>\n",
       "      <td>Investment banker, corporate</td>\n",
       "      <td>New Russellton</td>\n",
       "      <td>Georgia</td>\n",
       "      <td>910210</td>\n",
       "      <td>Full Time</td>\n",
       "      <td>4.9</td>\n",
       "    </tr>\n",
       "    <tr>\n",
       "      <th>3</th>\n",
       "      <td>Julie Cook</td>\n",
       "      <td>Matthews Inc</td>\n",
       "      <td>Equities trader</td>\n",
       "      <td>New Russellton</td>\n",
       "      <td>Puerto Rico</td>\n",
       "      <td>328860</td>\n",
       "      <td>Full Time</td>\n",
       "      <td>4.8</td>\n",
       "    </tr>\n",
       "    <tr>\n",
       "      <th>4</th>\n",
       "      <td>Gerald Santiago</td>\n",
       "      <td>Thomas-Spencer</td>\n",
       "      <td>Garment/textile technologist</td>\n",
       "      <td>Kristaburgh</td>\n",
       "      <td>El Salvador</td>\n",
       "      <td>873320</td>\n",
       "      <td>Full Time</td>\n",
       "      <td>4.7</td>\n",
       "    </tr>\n",
       "  </tbody>\n",
       "</table>\n",
       "</div>"
      ],
      "text/plain": [
       "              Name              Company_Name            Employee_Job_Title  \\\n",
       "0    Theresa Owens  Baker, Allen and Edwards           Production engineer   \n",
       "1  Victoria Sutton   White, Mcclain and Cobb               Naval architect   \n",
       "2      David Duran             Nichols-James  Investment banker, corporate   \n",
       "3       Julie Cook              Matthews Inc               Equities trader   \n",
       "4  Gerald Santiago            Thomas-Spencer  Garment/textile technologist   \n",
       "\n",
       "    Employee_City Employee_Country  Employee_Salary Employment_Status  \\\n",
       "0       Whiteside         Dominica           523499         Full Time   \n",
       "1       Whiteside           Poland           656260         Full Time   \n",
       "2  New Russellton          Georgia           910210         Full Time   \n",
       "3  New Russellton      Puerto Rico           328860         Full Time   \n",
       "4     Kristaburgh      El Salvador           873320         Full Time   \n",
       "\n",
       "   Employee_Rating  \n",
       "0              4.8  \n",
       "1              4.9  \n",
       "2              4.9  \n",
       "3              4.8  \n",
       "4              4.7  "
      ]
     },
     "execution_count": 73,
     "metadata": {},
     "output_type": "execute_result"
    }
   ],
   "source": [
    "query('SELECT * FROM data WHERE Employee_rating > 4.5 LIMIT 5')"
   ]
  },
  {
   "cell_type": "markdown",
   "metadata": {
    "cell_id": "f3194d2aa5e6486199415d3d6e20d15a",
    "deepnote_cell_type": "text-cell-h3",
    "formattedRanges": [],
    "is_collapsed": false,
    "tags": []
   },
   "source": [
    "### 5. Print the number of rows having Employee_Salary > 600000"
   ]
  },
  {
   "cell_type": "code",
   "execution_count": 74,
   "metadata": {
    "cell_id": "30b13f6ed8b84cbb9a62aa12d0b0864d",
    "deepnote_cell_type": "sql",
    "deepnote_sql_source": "",
    "deepnote_to_be_reexecuted": false,
    "execution_millis": 1,
    "execution_start": 1660307027849,
    "source_hash": "9e213752",
    "sql_integration_id": "deepnote-dataframe-sql",
    "tags": []
   },
   "outputs": [
    {
     "data": {
      "text/html": [
       "<div>\n",
       "<style scoped>\n",
       "    .dataframe tbody tr th:only-of-type {\n",
       "        vertical-align: middle;\n",
       "    }\n",
       "\n",
       "    .dataframe tbody tr th {\n",
       "        vertical-align: top;\n",
       "    }\n",
       "\n",
       "    .dataframe thead th {\n",
       "        text-align: right;\n",
       "    }\n",
       "</style>\n",
       "<table border=\"1\" class=\"dataframe\">\n",
       "  <thead>\n",
       "    <tr style=\"text-align: right;\">\n",
       "      <th></th>\n",
       "      <th>COUNT(*)</th>\n",
       "    </tr>\n",
       "  </thead>\n",
       "  <tbody>\n",
       "    <tr>\n",
       "      <th>0</th>\n",
       "      <td>120013</td>\n",
       "    </tr>\n",
       "  </tbody>\n",
       "</table>\n",
       "</div>"
      ],
      "text/plain": [
       "   COUNT(*)\n",
       "0    120013"
      ]
     },
     "execution_count": 74,
     "metadata": {},
     "output_type": "execute_result"
    }
   ],
   "source": [
    "query('SELECT COUNT(*) FROM data WHERE Employee_Salary > 600000')"
   ]
  },
  {
   "cell_type": "markdown",
   "metadata": {
    "cell_id": "82aeacb73033440093240008750277f9",
    "deepnote_cell_type": "text-cell-h3",
    "formattedRanges": [],
    "is_collapsed": false,
    "tags": []
   },
   "source": [
    "### 6. Print the number of rows with Employee_Salary > 600000 and Employee_Rating > 4.5"
   ]
  },
  {
   "cell_type": "code",
   "execution_count": 75,
   "metadata": {
    "cell_id": "fe6422ffea2b4bceb460ebfbd85d86ed",
    "deepnote_cell_type": "sql",
    "deepnote_sql_source": "",
    "deepnote_to_be_reexecuted": false,
    "execution_millis": 0,
    "execution_start": 1660307027850,
    "source_hash": "9e213752",
    "sql_integration_id": "deepnote-dataframe-sql",
    "tags": []
   },
   "outputs": [
    {
     "data": {
      "text/html": [
       "<div>\n",
       "<style scoped>\n",
       "    .dataframe tbody tr th:only-of-type {\n",
       "        vertical-align: middle;\n",
       "    }\n",
       "\n",
       "    .dataframe tbody tr th {\n",
       "        vertical-align: top;\n",
       "    }\n",
       "\n",
       "    .dataframe thead th {\n",
       "        text-align: right;\n",
       "    }\n",
       "</style>\n",
       "<table border=\"1\" class=\"dataframe\">\n",
       "  <thead>\n",
       "    <tr style=\"text-align: right;\">\n",
       "      <th></th>\n",
       "      <th>COUNT(*)</th>\n",
       "    </tr>\n",
       "  </thead>\n",
       "  <tbody>\n",
       "    <tr>\n",
       "      <th>0</th>\n",
       "      <td>10766</td>\n",
       "    </tr>\n",
       "  </tbody>\n",
       "</table>\n",
       "</div>"
      ],
      "text/plain": [
       "   COUNT(*)\n",
       "0     10766"
      ]
     },
     "execution_count": 75,
     "metadata": {},
     "output_type": "execute_result"
    }
   ],
   "source": [
    "query('SELECT COUNT(*) FROM data WHERE Employee_Salary > 600000 AND Employee_Rating > 4.5')"
   ]
  },
  {
   "cell_type": "markdown",
   "metadata": {
    "cell_id": "f69ca997b64f4dadbc5e18639f029a06",
    "deepnote_cell_type": "text-cell-h3",
    "formattedRanges": [],
    "is_collapsed": false,
    "tags": []
   },
   "source": [
    "### 7. Print the first five rows with Employee_Salary > 600000 and Employee_Rating > 4.5"
   ]
  },
  {
   "cell_type": "code",
   "execution_count": 76,
   "metadata": {
    "cell_id": "eb4533decb074ab197cea749b5035915",
    "deepnote_cell_type": "sql",
    "deepnote_sql_source": "",
    "deepnote_to_be_reexecuted": false,
    "execution_millis": 0,
    "execution_start": 1660307027850,
    "source_hash": "9e213752",
    "sql_integration_id": "deepnote-dataframe-sql",
    "tags": []
   },
   "outputs": [
    {
     "data": {
      "text/html": [
       "<div>\n",
       "<style scoped>\n",
       "    .dataframe tbody tr th:only-of-type {\n",
       "        vertical-align: middle;\n",
       "    }\n",
       "\n",
       "    .dataframe tbody tr th {\n",
       "        vertical-align: top;\n",
       "    }\n",
       "\n",
       "    .dataframe thead th {\n",
       "        text-align: right;\n",
       "    }\n",
       "</style>\n",
       "<table border=\"1\" class=\"dataframe\">\n",
       "  <thead>\n",
       "    <tr style=\"text-align: right;\">\n",
       "      <th></th>\n",
       "      <th>Name</th>\n",
       "      <th>Company_Name</th>\n",
       "      <th>Employee_Job_Title</th>\n",
       "      <th>Employee_City</th>\n",
       "      <th>Employee_Country</th>\n",
       "      <th>Employee_Salary</th>\n",
       "      <th>Employment_Status</th>\n",
       "      <th>Employee_Rating</th>\n",
       "    </tr>\n",
       "  </thead>\n",
       "  <tbody>\n",
       "    <tr>\n",
       "      <th>0</th>\n",
       "      <td>Victoria Sutton</td>\n",
       "      <td>White, Mcclain and Cobb</td>\n",
       "      <td>Naval architect</td>\n",
       "      <td>Whiteside</td>\n",
       "      <td>Poland</td>\n",
       "      <td>656260</td>\n",
       "      <td>Full Time</td>\n",
       "      <td>4.9</td>\n",
       "    </tr>\n",
       "    <tr>\n",
       "      <th>1</th>\n",
       "      <td>David Duran</td>\n",
       "      <td>Nichols-James</td>\n",
       "      <td>Investment banker, corporate</td>\n",
       "      <td>New Russellton</td>\n",
       "      <td>Georgia</td>\n",
       "      <td>910210</td>\n",
       "      <td>Full Time</td>\n",
       "      <td>4.9</td>\n",
       "    </tr>\n",
       "    <tr>\n",
       "      <th>2</th>\n",
       "      <td>Gerald Santiago</td>\n",
       "      <td>Thomas-Spencer</td>\n",
       "      <td>Garment/textile technologist</td>\n",
       "      <td>Kristaburgh</td>\n",
       "      <td>El Salvador</td>\n",
       "      <td>873320</td>\n",
       "      <td>Full Time</td>\n",
       "      <td>4.7</td>\n",
       "    </tr>\n",
       "    <tr>\n",
       "      <th>3</th>\n",
       "      <td>Jonathan Armstrong</td>\n",
       "      <td>Scott Inc</td>\n",
       "      <td>Trading standards officer</td>\n",
       "      <td>Aliciafort</td>\n",
       "      <td>San Marino</td>\n",
       "      <td>902300</td>\n",
       "      <td>Full Time</td>\n",
       "      <td>4.8</td>\n",
       "    </tr>\n",
       "    <tr>\n",
       "      <th>4</th>\n",
       "      <td>Lori Smith</td>\n",
       "      <td>Thomas-Spencer</td>\n",
       "      <td>Optometrist</td>\n",
       "      <td>New Cindychester</td>\n",
       "      <td>Venezuela</td>\n",
       "      <td>687310</td>\n",
       "      <td>Full Time</td>\n",
       "      <td>4.8</td>\n",
       "    </tr>\n",
       "  </tbody>\n",
       "</table>\n",
       "</div>"
      ],
      "text/plain": [
       "                 Name             Company_Name            Employee_Job_Title  \\\n",
       "0     Victoria Sutton  White, Mcclain and Cobb               Naval architect   \n",
       "1         David Duran            Nichols-James  Investment banker, corporate   \n",
       "2     Gerald Santiago           Thomas-Spencer  Garment/textile technologist   \n",
       "3  Jonathan Armstrong                Scott Inc     Trading standards officer   \n",
       "4          Lori Smith           Thomas-Spencer                   Optometrist   \n",
       "\n",
       "      Employee_City Employee_Country  Employee_Salary Employment_Status  \\\n",
       "0         Whiteside           Poland           656260         Full Time   \n",
       "1    New Russellton          Georgia           910210         Full Time   \n",
       "2       Kristaburgh      El Salvador           873320         Full Time   \n",
       "3        Aliciafort       San Marino           902300         Full Time   \n",
       "4  New Cindychester        Venezuela           687310         Full Time   \n",
       "\n",
       "   Employee_Rating  \n",
       "0              4.9  \n",
       "1              4.9  \n",
       "2              4.7  \n",
       "3              4.8  \n",
       "4              4.8  "
      ]
     },
     "execution_count": 76,
     "metadata": {},
     "output_type": "execute_result"
    }
   ],
   "source": [
    "query('SELECT * FROM data WHERE Employee_Salary > 600000 AND Employee_Rating > 4.5 LIMIT 5')"
   ]
  },
  {
   "cell_type": "markdown",
   "metadata": {
    "cell_id": "b89372e673bd40ad927d0e650f3dad11",
    "deepnote_cell_type": "text-cell-h3",
    "formattedRanges": [],
    "is_collapsed": false,
    "tags": []
   },
   "source": [
    "### 8. Print all the distinct companies in the dataset "
   ]
  },
  {
   "cell_type": "code",
   "execution_count": 77,
   "metadata": {
    "cell_id": "e3ab7e0487ba4d579870a28f47c005a3",
    "deepnote_cell_type": "sql",
    "deepnote_sql_source": "",
    "deepnote_to_be_reexecuted": false,
    "execution_start": 1660307027853,
    "source_hash": "9e213752",
    "sql_integration_id": "deepnote-dataframe-sql",
    "tags": []
   },
   "outputs": [
    {
     "data": {
      "text/html": [
       "<div>\n",
       "<style scoped>\n",
       "    .dataframe tbody tr th:only-of-type {\n",
       "        vertical-align: middle;\n",
       "    }\n",
       "\n",
       "    .dataframe tbody tr th {\n",
       "        vertical-align: top;\n",
       "    }\n",
       "\n",
       "    .dataframe thead th {\n",
       "        text-align: right;\n",
       "    }\n",
       "</style>\n",
       "<table border=\"1\" class=\"dataframe\">\n",
       "  <thead>\n",
       "    <tr style=\"text-align: right;\">\n",
       "      <th></th>\n",
       "      <th>Company_Name</th>\n",
       "    </tr>\n",
       "  </thead>\n",
       "  <tbody>\n",
       "    <tr>\n",
       "      <th>0</th>\n",
       "      <td>James and Sons</td>\n",
       "    </tr>\n",
       "    <tr>\n",
       "      <th>1</th>\n",
       "      <td>Nichols-James</td>\n",
       "    </tr>\n",
       "    <tr>\n",
       "      <th>2</th>\n",
       "      <td>Scott Inc</td>\n",
       "    </tr>\n",
       "    <tr>\n",
       "      <th>3</th>\n",
       "      <td>Johnston, Fleming and Tanner</td>\n",
       "    </tr>\n",
       "    <tr>\n",
       "      <th>4</th>\n",
       "      <td>Baker, Allen and Edwards</td>\n",
       "    </tr>\n",
       "    <tr>\n",
       "      <th>5</th>\n",
       "      <td>Andrade LLC</td>\n",
       "    </tr>\n",
       "    <tr>\n",
       "      <th>6</th>\n",
       "      <td>Matthews Inc</td>\n",
       "    </tr>\n",
       "    <tr>\n",
       "      <th>7</th>\n",
       "      <td>Taylor-Ramos</td>\n",
       "    </tr>\n",
       "    <tr>\n",
       "      <th>8</th>\n",
       "      <td>Campos, Reynolds and Mccormick</td>\n",
       "    </tr>\n",
       "    <tr>\n",
       "      <th>9</th>\n",
       "      <td>White, Mcclain and Cobb</td>\n",
       "    </tr>\n",
       "    <tr>\n",
       "      <th>10</th>\n",
       "      <td>Thomas-Spencer</td>\n",
       "    </tr>\n",
       "    <tr>\n",
       "      <th>11</th>\n",
       "      <td>Bullock-Carrillo</td>\n",
       "    </tr>\n",
       "    <tr>\n",
       "      <th>12</th>\n",
       "      <td>Marshall-Holloway</td>\n",
       "    </tr>\n",
       "    <tr>\n",
       "      <th>13</th>\n",
       "      <td>Wallace, Smith and Shepard</td>\n",
       "    </tr>\n",
       "    <tr>\n",
       "      <th>14</th>\n",
       "      <td>Nelson-Li</td>\n",
       "    </tr>\n",
       "  </tbody>\n",
       "</table>\n",
       "</div>"
      ],
      "text/plain": [
       "                      Company_Name\n",
       "0                   James and Sons\n",
       "1                    Nichols-James\n",
       "2                        Scott Inc\n",
       "3     Johnston, Fleming and Tanner\n",
       "4         Baker, Allen and Edwards\n",
       "5                      Andrade LLC\n",
       "6                     Matthews Inc\n",
       "7                     Taylor-Ramos\n",
       "8   Campos, Reynolds and Mccormick\n",
       "9          White, Mcclain and Cobb\n",
       "10                  Thomas-Spencer\n",
       "11                Bullock-Carrillo\n",
       "12               Marshall-Holloway\n",
       "13      Wallace, Smith and Shepard\n",
       "14                       Nelson-Li"
      ]
     },
     "execution_count": 77,
     "metadata": {},
     "output_type": "execute_result"
    }
   ],
   "source": [
    "query('SELECT DISTINCT Company_Name FROM data')"
   ]
  },
  {
   "cell_type": "markdown",
   "metadata": {
    "cell_id": "ae4699567ec9424b95ec5088fb69ad94",
    "deepnote_cell_type": "text-cell-h3",
    "formattedRanges": [],
    "is_collapsed": false,
    "tags": []
   },
   "source": [
    "### 9. Print the number of distinct companies in the dataset "
   ]
  },
  {
   "cell_type": "code",
   "execution_count": 78,
   "metadata": {
    "cell_id": "a2370e6795f3461a9d0e0da19d3c44b9",
    "deepnote_cell_type": "sql",
    "deepnote_sql_source": "",
    "deepnote_to_be_reexecuted": false,
    "execution_start": 1660307027889,
    "source_hash": "9e213752",
    "sql_integration_id": "deepnote-dataframe-sql",
    "tags": []
   },
   "outputs": [
    {
     "data": {
      "text/html": [
       "<div>\n",
       "<style scoped>\n",
       "    .dataframe tbody tr th:only-of-type {\n",
       "        vertical-align: middle;\n",
       "    }\n",
       "\n",
       "    .dataframe tbody tr th {\n",
       "        vertical-align: top;\n",
       "    }\n",
       "\n",
       "    .dataframe thead th {\n",
       "        text-align: right;\n",
       "    }\n",
       "</style>\n",
       "<table border=\"1\" class=\"dataframe\">\n",
       "  <thead>\n",
       "    <tr style=\"text-align: right;\">\n",
       "      <th></th>\n",
       "      <th>COUNT(DISTINCT Company_Name)</th>\n",
       "    </tr>\n",
       "  </thead>\n",
       "  <tbody>\n",
       "    <tr>\n",
       "      <th>0</th>\n",
       "      <td>15</td>\n",
       "    </tr>\n",
       "  </tbody>\n",
       "</table>\n",
       "</div>"
      ],
      "text/plain": [
       "   COUNT(DISTINCT Company_Name)\n",
       "0                            15"
      ]
     },
     "execution_count": 78,
     "metadata": {},
     "output_type": "execute_result"
    }
   ],
   "source": [
    "query('SELECT COUNT(DISTINCT Company_Name) FROM data')"
   ]
  },
  {
   "cell_type": "markdown",
   "metadata": {
    "cell_id": "430a5591c906487aa69617798e7a7996",
    "deepnote_cell_type": "text-cell-h3",
    "formattedRanges": [],
    "is_collapsed": false,
    "tags": []
   },
   "source": [
    "### 10. Print all the distinct companies, city pairs in the dataset "
   ]
  },
  {
   "cell_type": "code",
   "execution_count": 79,
   "metadata": {
    "cell_id": "9ea82a79908a4e398bb6686b950740bd",
    "deepnote_cell_type": "sql",
    "deepnote_sql_source": "",
    "deepnote_to_be_reexecuted": false,
    "execution_millis": 0,
    "execution_start": 1660307027889,
    "source_hash": "9e213752",
    "sql_integration_id": "deepnote-dataframe-sql",
    "tags": []
   },
   "outputs": [
    {
     "data": {
      "text/html": [
       "<div>\n",
       "<style scoped>\n",
       "    .dataframe tbody tr th:only-of-type {\n",
       "        vertical-align: middle;\n",
       "    }\n",
       "\n",
       "    .dataframe tbody tr th {\n",
       "        vertical-align: top;\n",
       "    }\n",
       "\n",
       "    .dataframe thead th {\n",
       "        text-align: right;\n",
       "    }\n",
       "</style>\n",
       "<table border=\"1\" class=\"dataframe\">\n",
       "  <thead>\n",
       "    <tr style=\"text-align: right;\">\n",
       "      <th></th>\n",
       "      <th>Company_Name</th>\n",
       "      <th>Employee_City</th>\n",
       "    </tr>\n",
       "  </thead>\n",
       "  <tbody>\n",
       "    <tr>\n",
       "      <th>0</th>\n",
       "      <td>James and Sons</td>\n",
       "      <td>New Russellton</td>\n",
       "    </tr>\n",
       "    <tr>\n",
       "      <th>1</th>\n",
       "      <td>Nichols-James</td>\n",
       "      <td>North Melissafurt</td>\n",
       "    </tr>\n",
       "    <tr>\n",
       "      <th>2</th>\n",
       "      <td>Scott Inc</td>\n",
       "      <td>Wardfort</td>\n",
       "    </tr>\n",
       "    <tr>\n",
       "      <th>3</th>\n",
       "      <td>Johnston, Fleming and Tanner</td>\n",
       "      <td>West Jamesview</td>\n",
       "    </tr>\n",
       "    <tr>\n",
       "      <th>4</th>\n",
       "      <td>Baker, Allen and Edwards</td>\n",
       "      <td>Whiteside</td>\n",
       "    </tr>\n",
       "    <tr>\n",
       "      <th>...</th>\n",
       "      <td>...</td>\n",
       "      <td>...</td>\n",
       "    </tr>\n",
       "    <tr>\n",
       "      <th>145</th>\n",
       "      <td>White, Mcclain and Cobb</td>\n",
       "      <td>Ricardomouth</td>\n",
       "    </tr>\n",
       "    <tr>\n",
       "      <th>146</th>\n",
       "      <td>Nichols-James</td>\n",
       "      <td>Whiteside</td>\n",
       "    </tr>\n",
       "    <tr>\n",
       "      <th>147</th>\n",
       "      <td>Johnston, Fleming and Tanner</td>\n",
       "      <td>New Russellton</td>\n",
       "    </tr>\n",
       "    <tr>\n",
       "      <th>148</th>\n",
       "      <td>Scott Inc</td>\n",
       "      <td>New Russellton</td>\n",
       "    </tr>\n",
       "    <tr>\n",
       "      <th>149</th>\n",
       "      <td>James and Sons</td>\n",
       "      <td>Whitakerbury</td>\n",
       "    </tr>\n",
       "  </tbody>\n",
       "</table>\n",
       "<p>150 rows × 2 columns</p>\n",
       "</div>"
      ],
      "text/plain": [
       "                     Company_Name      Employee_City\n",
       "0                  James and Sons     New Russellton\n",
       "1                   Nichols-James  North Melissafurt\n",
       "2                       Scott Inc           Wardfort\n",
       "3    Johnston, Fleming and Tanner     West Jamesview\n",
       "4        Baker, Allen and Edwards          Whiteside\n",
       "..                            ...                ...\n",
       "145       White, Mcclain and Cobb       Ricardomouth\n",
       "146                 Nichols-James          Whiteside\n",
       "147  Johnston, Fleming and Tanner     New Russellton\n",
       "148                     Scott Inc     New Russellton\n",
       "149                James and Sons       Whitakerbury\n",
       "\n",
       "[150 rows x 2 columns]"
      ]
     },
     "execution_count": 79,
     "metadata": {},
     "output_type": "execute_result"
    }
   ],
   "source": [
    "query('SELECT DISTINCT Company_Name, Employee_City FROM data')"
   ]
  },
  {
   "cell_type": "markdown",
   "metadata": {
    "cell_id": "d07efdd456fb4117b80d8a038440cf4f",
    "deepnote_cell_type": "text-cell-h3",
    "formattedRanges": [],
    "is_collapsed": false,
    "tags": []
   },
   "source": [
    "### 11. Print the number of distinct companies, city pairs in the dataset "
   ]
  },
  {
   "cell_type": "code",
   "execution_count": 80,
   "metadata": {
    "cell_id": "3a31bd816c834dc2a8d5c33e5130c991",
    "deepnote_cell_type": "sql",
    "deepnote_sql_source": "",
    "deepnote_to_be_reexecuted": false,
    "execution_start": 1660307027890,
    "source_hash": "9e213752",
    "sql_integration_id": "deepnote-dataframe-sql",
    "tags": []
   },
   "outputs": [
    {
     "data": {
      "text/html": [
       "<div>\n",
       "<style scoped>\n",
       "    .dataframe tbody tr th:only-of-type {\n",
       "        vertical-align: middle;\n",
       "    }\n",
       "\n",
       "    .dataframe tbody tr th {\n",
       "        vertical-align: top;\n",
       "    }\n",
       "\n",
       "    .dataframe thead th {\n",
       "        text-align: right;\n",
       "    }\n",
       "</style>\n",
       "<table border=\"1\" class=\"dataframe\">\n",
       "  <thead>\n",
       "    <tr style=\"text-align: right;\">\n",
       "      <th></th>\n",
       "      <th>COUNT(*)</th>\n",
       "    </tr>\n",
       "  </thead>\n",
       "  <tbody>\n",
       "    <tr>\n",
       "      <th>0</th>\n",
       "      <td>150</td>\n",
       "    </tr>\n",
       "  </tbody>\n",
       "</table>\n",
       "</div>"
      ],
      "text/plain": [
       "   COUNT(*)\n",
       "0       150"
      ]
     },
     "execution_count": 80,
     "metadata": {},
     "output_type": "execute_result"
    }
   ],
   "source": [
    "query('SELECT COUNT(*) FROM (SELECT DISTINCT Company_Name, Employee_City FROM data)')"
   ]
  },
  {
   "cell_type": "markdown",
   "metadata": {
    "cell_id": "77a094109672475299ac0c0b791b10fa",
    "deepnote_cell_type": "text-cell-h3",
    "formattedRanges": [],
    "is_collapsed": false,
    "tags": []
   },
   "source": [
    "### 12. Print the number of Full time employees in the dataset. "
   ]
  },
  {
   "cell_type": "code",
   "execution_count": 81,
   "metadata": {
    "cell_id": "5badf9aa96e04fe49e092c1c01fc00a2",
    "deepnote_cell_type": "sql",
    "deepnote_sql_source": "",
    "deepnote_to_be_reexecuted": false,
    "execution_start": 1660307027891,
    "source_hash": "9e213752",
    "sql_integration_id": "deepnote-dataframe-sql",
    "tags": []
   },
   "outputs": [
    {
     "data": {
      "text/html": [
       "<div>\n",
       "<style scoped>\n",
       "    .dataframe tbody tr th:only-of-type {\n",
       "        vertical-align: middle;\n",
       "    }\n",
       "\n",
       "    .dataframe tbody tr th {\n",
       "        vertical-align: top;\n",
       "    }\n",
       "\n",
       "    .dataframe thead th {\n",
       "        text-align: right;\n",
       "    }\n",
       "</style>\n",
       "<table border=\"1\" class=\"dataframe\">\n",
       "  <thead>\n",
       "    <tr style=\"text-align: right;\">\n",
       "      <th></th>\n",
       "      <th>Name</th>\n",
       "      <th>Company_Name</th>\n",
       "      <th>Employee_Job_Title</th>\n",
       "      <th>Employee_City</th>\n",
       "      <th>Employee_Country</th>\n",
       "      <th>Employee_Salary</th>\n",
       "      <th>Employment_Status</th>\n",
       "      <th>Employee_Rating</th>\n",
       "    </tr>\n",
       "  </thead>\n",
       "  <tbody>\n",
       "    <tr>\n",
       "      <th>0</th>\n",
       "      <td>Spencer Adkins</td>\n",
       "      <td>James and Sons</td>\n",
       "      <td>Equities trader</td>\n",
       "      <td>New Russellton</td>\n",
       "      <td>Palestinian Territory</td>\n",
       "      <td>321520</td>\n",
       "      <td>Full Time</td>\n",
       "      <td>3.9</td>\n",
       "    </tr>\n",
       "    <tr>\n",
       "      <th>1</th>\n",
       "      <td>Julie Morton</td>\n",
       "      <td>Nichols-James</td>\n",
       "      <td>Diplomatic Services operational officer</td>\n",
       "      <td>North Melissafurt</td>\n",
       "      <td>Marshall Islands</td>\n",
       "      <td>589090</td>\n",
       "      <td>Full Time</td>\n",
       "      <td>4.3</td>\n",
       "    </tr>\n",
       "    <tr>\n",
       "      <th>2</th>\n",
       "      <td>Matthew Hall</td>\n",
       "      <td>Scott Inc</td>\n",
       "      <td>Regulatory affairs officer</td>\n",
       "      <td>Wardfort</td>\n",
       "      <td>Anguilla</td>\n",
       "      <td>630890</td>\n",
       "      <td>Full Time</td>\n",
       "      <td>3.1</td>\n",
       "    </tr>\n",
       "    <tr>\n",
       "      <th>3</th>\n",
       "      <td>Brad Scott</td>\n",
       "      <td>Johnston, Fleming and Tanner</td>\n",
       "      <td>Production engineer</td>\n",
       "      <td>West Jamesview</td>\n",
       "      <td>Syrian Arab Republic</td>\n",
       "      <td>116400</td>\n",
       "      <td>Full Time</td>\n",
       "      <td>3.1</td>\n",
       "    </tr>\n",
       "    <tr>\n",
       "      <th>4</th>\n",
       "      <td>Theresa Owens</td>\n",
       "      <td>Baker, Allen and Edwards</td>\n",
       "      <td>Production engineer</td>\n",
       "      <td>Whiteside</td>\n",
       "      <td>Dominica</td>\n",
       "      <td>523499</td>\n",
       "      <td>Full Time</td>\n",
       "      <td>4.8</td>\n",
       "    </tr>\n",
       "    <tr>\n",
       "      <th>...</th>\n",
       "      <td>...</td>\n",
       "      <td>...</td>\n",
       "      <td>...</td>\n",
       "      <td>...</td>\n",
       "      <td>...</td>\n",
       "      <td>...</td>\n",
       "      <td>...</td>\n",
       "      <td>...</td>\n",
       "    </tr>\n",
       "    <tr>\n",
       "      <th>240005</th>\n",
       "      <td>William Rodriguez</td>\n",
       "      <td>Scott Inc</td>\n",
       "      <td>Ergonomist</td>\n",
       "      <td>Whiteside</td>\n",
       "      <td>New Zealand</td>\n",
       "      <td>214400</td>\n",
       "      <td>Full Time</td>\n",
       "      <td>1.5</td>\n",
       "    </tr>\n",
       "    <tr>\n",
       "      <th>240006</th>\n",
       "      <td>Steven Thornton</td>\n",
       "      <td>Baker, Allen and Edwards</td>\n",
       "      <td>Patent examiner</td>\n",
       "      <td>Aliciafort</td>\n",
       "      <td>Benin</td>\n",
       "      <td>60240</td>\n",
       "      <td>Full Time</td>\n",
       "      <td>4.3</td>\n",
       "    </tr>\n",
       "    <tr>\n",
       "      <th>240007</th>\n",
       "      <td>Kelly Bennett</td>\n",
       "      <td>White, Mcclain and Cobb</td>\n",
       "      <td>Radiographer, therapeutic</td>\n",
       "      <td>Wardfort</td>\n",
       "      <td>Fiji</td>\n",
       "      <td>182270</td>\n",
       "      <td>Full Time</td>\n",
       "      <td>3.6</td>\n",
       "    </tr>\n",
       "    <tr>\n",
       "      <th>240008</th>\n",
       "      <td>Lynn Wilson</td>\n",
       "      <td>Nichols-James</td>\n",
       "      <td>Administrator</td>\n",
       "      <td>New Cindychester</td>\n",
       "      <td>Bolivia</td>\n",
       "      <td>802830</td>\n",
       "      <td>Full Time</td>\n",
       "      <td>0.6</td>\n",
       "    </tr>\n",
       "    <tr>\n",
       "      <th>240009</th>\n",
       "      <td>Lindsey Keith</td>\n",
       "      <td>Nichols-James</td>\n",
       "      <td>Make</td>\n",
       "      <td>Whitakerbury</td>\n",
       "      <td>Western Sahara</td>\n",
       "      <td>257240</td>\n",
       "      <td>Full Time</td>\n",
       "      <td>2.4</td>\n",
       "    </tr>\n",
       "  </tbody>\n",
       "</table>\n",
       "<p>240010 rows × 8 columns</p>\n",
       "</div>"
      ],
      "text/plain": [
       "                     Name                  Company_Name  \\\n",
       "0          Spencer Adkins                James and Sons   \n",
       "1            Julie Morton                 Nichols-James   \n",
       "2            Matthew Hall                     Scott Inc   \n",
       "3              Brad Scott  Johnston, Fleming and Tanner   \n",
       "4           Theresa Owens      Baker, Allen and Edwards   \n",
       "...                   ...                           ...   \n",
       "240005  William Rodriguez                     Scott Inc   \n",
       "240006    Steven Thornton      Baker, Allen and Edwards   \n",
       "240007      Kelly Bennett       White, Mcclain and Cobb   \n",
       "240008        Lynn Wilson                 Nichols-James   \n",
       "240009      Lindsey Keith                 Nichols-James   \n",
       "\n",
       "                             Employee_Job_Title      Employee_City  \\\n",
       "0                               Equities trader     New Russellton   \n",
       "1       Diplomatic Services operational officer  North Melissafurt   \n",
       "2                    Regulatory affairs officer           Wardfort   \n",
       "3                           Production engineer     West Jamesview   \n",
       "4                           Production engineer          Whiteside   \n",
       "...                                         ...                ...   \n",
       "240005                               Ergonomist          Whiteside   \n",
       "240006                          Patent examiner         Aliciafort   \n",
       "240007                Radiographer, therapeutic           Wardfort   \n",
       "240008                            Administrator   New Cindychester   \n",
       "240009                                     Make       Whitakerbury   \n",
       "\n",
       "             Employee_Country  Employee_Salary Employment_Status  \\\n",
       "0       Palestinian Territory           321520         Full Time   \n",
       "1            Marshall Islands           589090         Full Time   \n",
       "2                    Anguilla           630890         Full Time   \n",
       "3        Syrian Arab Republic           116400         Full Time   \n",
       "4                    Dominica           523499         Full Time   \n",
       "...                       ...              ...               ...   \n",
       "240005            New Zealand           214400         Full Time   \n",
       "240006                  Benin            60240         Full Time   \n",
       "240007                   Fiji           182270         Full Time   \n",
       "240008                Bolivia           802830         Full Time   \n",
       "240009         Western Sahara           257240         Full Time   \n",
       "\n",
       "        Employee_Rating  \n",
       "0                   3.9  \n",
       "1                   4.3  \n",
       "2                   3.1  \n",
       "3                   3.1  \n",
       "4                   4.8  \n",
       "...                 ...  \n",
       "240005              1.5  \n",
       "240006              4.3  \n",
       "240007              3.6  \n",
       "240008              0.6  \n",
       "240009              2.4  \n",
       "\n",
       "[240010 rows x 8 columns]"
      ]
     },
     "execution_count": 81,
     "metadata": {},
     "output_type": "execute_result"
    }
   ],
   "source": [
    "query('SELECT * FROM data WHERE Employment_Status = \"Full Time\"')"
   ]
  },
  {
   "cell_type": "markdown",
   "metadata": {
    "cell_id": "eb47a6360962495d9a49aa8323db6d9b",
    "deepnote_cell_type": "text-cell-h3",
    "formattedRanges": [],
    "is_collapsed": false,
    "tags": []
   },
   "source": [
    "### 13. Print the number of employees with job title either 'Production engineer' or 'New Russellton'. "
   ]
  },
  {
   "cell_type": "code",
   "execution_count": 82,
   "metadata": {
    "cell_id": "637817cb2d5241afb600f31a53d1392d",
    "deepnote_cell_type": "sql",
    "deepnote_sql_source": "",
    "deepnote_to_be_reexecuted": false,
    "execution_start": 1660307027919,
    "source_hash": "9e213752",
    "sql_integration_id": "deepnote-dataframe-sql",
    "tags": []
   },
   "outputs": [
    {
     "data": {
      "text/html": [
       "<div>\n",
       "<style scoped>\n",
       "    .dataframe tbody tr th:only-of-type {\n",
       "        vertical-align: middle;\n",
       "    }\n",
       "\n",
       "    .dataframe tbody tr th {\n",
       "        vertical-align: top;\n",
       "    }\n",
       "\n",
       "    .dataframe thead th {\n",
       "        text-align: right;\n",
       "    }\n",
       "</style>\n",
       "<table border=\"1\" class=\"dataframe\">\n",
       "  <thead>\n",
       "    <tr style=\"text-align: right;\">\n",
       "      <th></th>\n",
       "      <th>COUNT(*)</th>\n",
       "    </tr>\n",
       "  </thead>\n",
       "  <tbody>\n",
       "    <tr>\n",
       "      <th>0</th>\n",
       "      <td>15003</td>\n",
       "    </tr>\n",
       "  </tbody>\n",
       "</table>\n",
       "</div>"
      ],
      "text/plain": [
       "   COUNT(*)\n",
       "0     15003"
      ]
     },
     "execution_count": 82,
     "metadata": {},
     "output_type": "execute_result"
    }
   ],
   "source": [
    "query('SELECT COUNT(*) FROM data WHERE Employee_Job_Title = \"Production engineer\" Or \"New Russellton\"')"
   ]
  },
  {
   "cell_type": "markdown",
   "metadata": {
    "cell_id": "84d3701315bf43a9b35ebac9d42d6ee8",
    "deepnote_cell_type": "text-cell-h3",
    "formattedRanges": [],
    "is_collapsed": false,
    "tags": []
   },
   "source": [
    "### 14. Print the number of employees with job title either 'Production engineer' and company name 'Scott Inc'"
   ]
  },
  {
   "cell_type": "code",
   "execution_count": 83,
   "metadata": {
    "cell_id": "87174db7110b4df280c4ab38e8fb9cd6",
    "deepnote_cell_type": "sql",
    "deepnote_sql_source": "",
    "deepnote_to_be_reexecuted": false,
    "execution_start": 1660307027920,
    "source_hash": "9e213752",
    "sql_integration_id": "deepnote-dataframe-sql",
    "tags": []
   },
   "outputs": [
    {
     "data": {
      "text/html": [
       "<div>\n",
       "<style scoped>\n",
       "    .dataframe tbody tr th:only-of-type {\n",
       "        vertical-align: middle;\n",
       "    }\n",
       "\n",
       "    .dataframe tbody tr th {\n",
       "        vertical-align: top;\n",
       "    }\n",
       "\n",
       "    .dataframe thead th {\n",
       "        text-align: right;\n",
       "    }\n",
       "</style>\n",
       "<table border=\"1\" class=\"dataframe\">\n",
       "  <thead>\n",
       "    <tr style=\"text-align: right;\">\n",
       "      <th></th>\n",
       "      <th>COUNT(*)</th>\n",
       "    </tr>\n",
       "  </thead>\n",
       "  <tbody>\n",
       "    <tr>\n",
       "      <th>0</th>\n",
       "      <td>1036</td>\n",
       "    </tr>\n",
       "  </tbody>\n",
       "</table>\n",
       "</div>"
      ],
      "text/plain": [
       "   COUNT(*)\n",
       "0      1036"
      ]
     },
     "execution_count": 83,
     "metadata": {},
     "output_type": "execute_result"
    }
   ],
   "source": [
    "query('SELECT COUNT(*) FROM data WHERE Employee_Job_Title = \"Production engineer\" AND Company_Name = \"Scott Inc\"')"
   ]
  },
  {
   "cell_type": "markdown",
   "metadata": {
    "cell_id": "6b133f42dcfb4188a37f5d9f3304a398",
    "deepnote_cell_type": "text-cell-h3",
    "formattedRanges": [],
    "is_collapsed": false,
    "tags": []
   },
   "source": [
    "### 15. Print the number of employees with job title either 'Production engineer' or 'New Russellton' and company name either 'Scott Inc' or 'Baker, Allen and Edwards'. "
   ]
  },
  {
   "cell_type": "code",
   "execution_count": 84,
   "metadata": {
    "cell_id": "78733d29d6464aecb2e65367fe6ca8a8",
    "deepnote_cell_type": "sql",
    "deepnote_sql_source": "",
    "deepnote_to_be_reexecuted": false,
    "execution_start": 1660307027920,
    "source_hash": "9e213752",
    "sql_integration_id": "deepnote-dataframe-sql",
    "tags": []
   },
   "outputs": [
    {
     "data": {
      "text/html": [
       "<div>\n",
       "<style scoped>\n",
       "    .dataframe tbody tr th:only-of-type {\n",
       "        vertical-align: middle;\n",
       "    }\n",
       "\n",
       "    .dataframe tbody tr th {\n",
       "        vertical-align: top;\n",
       "    }\n",
       "\n",
       "    .dataframe thead th {\n",
       "        text-align: right;\n",
       "    }\n",
       "</style>\n",
       "<table border=\"1\" class=\"dataframe\">\n",
       "  <thead>\n",
       "    <tr style=\"text-align: right;\">\n",
       "      <th></th>\n",
       "      <th>COUNT(*)</th>\n",
       "    </tr>\n",
       "  </thead>\n",
       "  <tbody>\n",
       "    <tr>\n",
       "      <th>0</th>\n",
       "      <td>1036</td>\n",
       "    </tr>\n",
       "  </tbody>\n",
       "</table>\n",
       "</div>"
      ],
      "text/plain": [
       "   COUNT(*)\n",
       "0      1036"
      ]
     },
     "execution_count": 84,
     "metadata": {},
     "output_type": "execute_result"
    }
   ],
   "source": [
    "query('SELECT COUNT(*) FROM data WHERE (Employee_Job_Title = \"Production engineer\" OR \"New Russellton\") AND (Company_Name = \"Scott Inc\" OR \"Baker, Allen and Edwards\")')"
   ]
  },
  {
   "cell_type": "markdown",
   "metadata": {
    "cell_id": "f4d3a46b4e2f4207bb112892615493a1",
    "deepnote_cell_type": "text-cell-h3",
    "formattedRanges": [],
    "is_collapsed": false,
    "tags": []
   },
   "source": [
    "### 16. Print the number of distinct cities with employees having job title either 'Production engineer' or 'New Russellton' and company name either 'Scott Inc' or 'Baker, Allen and Edwards'. "
   ]
  },
  {
   "cell_type": "code",
   "execution_count": 86,
   "metadata": {
    "cell_id": "9dd564b4e2a2456c81c1aa24362f7bc3",
    "deepnote_cell_type": "sql",
    "deepnote_sql_source": "",
    "deepnote_to_be_reexecuted": false,
    "execution_start": 1660307027921,
    "source_hash": "9e213752",
    "sql_integration_id": "deepnote-dataframe-sql",
    "tags": []
   },
   "outputs": [
    {
     "data": {
      "text/html": [
       "<div>\n",
       "<style scoped>\n",
       "    .dataframe tbody tr th:only-of-type {\n",
       "        vertical-align: middle;\n",
       "    }\n",
       "\n",
       "    .dataframe tbody tr th {\n",
       "        vertical-align: top;\n",
       "    }\n",
       "\n",
       "    .dataframe thead th {\n",
       "        text-align: right;\n",
       "    }\n",
       "</style>\n",
       "<table border=\"1\" class=\"dataframe\">\n",
       "  <thead>\n",
       "    <tr style=\"text-align: right;\">\n",
       "      <th></th>\n",
       "      <th>COUNT(DISTINCT Employee_city)</th>\n",
       "    </tr>\n",
       "  </thead>\n",
       "  <tbody>\n",
       "    <tr>\n",
       "      <th>0</th>\n",
       "      <td>10</td>\n",
       "    </tr>\n",
       "  </tbody>\n",
       "</table>\n",
       "</div>"
      ],
      "text/plain": [
       "   COUNT(DISTINCT Employee_city)\n",
       "0                             10"
      ]
     },
     "execution_count": 86,
     "metadata": {},
     "output_type": "execute_result"
    }
   ],
   "source": [
    "query('SELECT COUNT(DISTINCT Employee_city) FROM data WHERE (Employee_Job_Title = \"Production engineer\" OR \"New Russellton\") AND (Company_Name = \"Scott Inc\" OR \"Baker, Allen and Edwards\")')"
   ]
  },
  {
   "cell_type": "markdown",
   "metadata": {
    "cell_id": "61d8f5b4e6054f65b817ae4dc6c80c96",
    "deepnote_cell_type": "text-cell-h3",
    "formattedRanges": [],
    "is_collapsed": false,
    "tags": []
   },
   "source": [
    "### 17. Print the number of Intern employees in the dataset. "
   ]
  },
  {
   "cell_type": "code",
   "execution_count": 87,
   "metadata": {
    "cell_id": "96f233a316f24b7c86c49477f8cddf50",
    "deepnote_cell_type": "sql",
    "deepnote_sql_source": "",
    "deepnote_to_be_reexecuted": false,
    "execution_millis": 8,
    "execution_start": 1660307027930,
    "source_hash": "9e213752",
    "sql_integration_id": "deepnote-dataframe-sql",
    "tags": []
   },
   "outputs": [
    {
     "data": {
      "text/html": [
       "<div>\n",
       "<style scoped>\n",
       "    .dataframe tbody tr th:only-of-type {\n",
       "        vertical-align: middle;\n",
       "    }\n",
       "\n",
       "    .dataframe tbody tr th {\n",
       "        vertical-align: top;\n",
       "    }\n",
       "\n",
       "    .dataframe thead th {\n",
       "        text-align: right;\n",
       "    }\n",
       "</style>\n",
       "<table border=\"1\" class=\"dataframe\">\n",
       "  <thead>\n",
       "    <tr style=\"text-align: right;\">\n",
       "      <th></th>\n",
       "      <th>COUNT(*)</th>\n",
       "    </tr>\n",
       "  </thead>\n",
       "  <tbody>\n",
       "    <tr>\n",
       "      <th>0</th>\n",
       "      <td>59990</td>\n",
       "    </tr>\n",
       "  </tbody>\n",
       "</table>\n",
       "</div>"
      ],
      "text/plain": [
       "   COUNT(*)\n",
       "0     59990"
      ]
     },
     "execution_count": 87,
     "metadata": {},
     "output_type": "execute_result"
    }
   ],
   "source": [
    "query('SELECT COUNT(*) FROM data WHERE Employment_Status = \"Intern\"')"
   ]
  },
  {
   "cell_type": "markdown",
   "metadata": {
    "cell_id": "12e315c493da4f50be451a45b2fccba1",
    "deepnote_cell_type": "text-cell-h3",
    "formattedRanges": [],
    "is_collapsed": false,
    "tags": []
   },
   "source": [
    "### 18. Print the number of employees with first name 'Matthew'. "
   ]
  },
  {
   "cell_type": "code",
   "execution_count": 93,
   "metadata": {
    "cell_id": "35410fbc35b04317a2d6ea663175ce1c",
    "deepnote_cell_type": "sql",
    "deepnote_sql_source": "",
    "deepnote_to_be_reexecuted": false,
    "execution_millis": 4,
    "execution_start": 1660307027942,
    "source_hash": "9e213752",
    "sql_integration_id": "deepnote-dataframe-sql",
    "tags": []
   },
   "outputs": [
    {
     "data": {
      "text/html": [
       "<div>\n",
       "<style scoped>\n",
       "    .dataframe tbody tr th:only-of-type {\n",
       "        vertical-align: middle;\n",
       "    }\n",
       "\n",
       "    .dataframe tbody tr th {\n",
       "        vertical-align: top;\n",
       "    }\n",
       "\n",
       "    .dataframe thead th {\n",
       "        text-align: right;\n",
       "    }\n",
       "</style>\n",
       "<table border=\"1\" class=\"dataframe\">\n",
       "  <thead>\n",
       "    <tr style=\"text-align: right;\">\n",
       "      <th></th>\n",
       "      <th>COUNT(*)</th>\n",
       "    </tr>\n",
       "  </thead>\n",
       "  <tbody>\n",
       "    <tr>\n",
       "      <th>0</th>\n",
       "      <td>3063</td>\n",
       "    </tr>\n",
       "  </tbody>\n",
       "</table>\n",
       "</div>"
      ],
      "text/plain": [
       "   COUNT(*)\n",
       "0      3063"
      ]
     },
     "execution_count": 93,
     "metadata": {},
     "output_type": "execute_result"
    }
   ],
   "source": [
    "query('SELECT COUNT(*) FROM data WHERE SUBSTR(Name, 1, INSTR(Name, \" \") -1 ) = \"Matthew\"')"
   ]
  },
  {
   "cell_type": "markdown",
   "metadata": {
    "cell_id": "0eddaccbb68246809e7add086b76c35e",
    "deepnote_cell_type": "text-cell-h3",
    "formattedRanges": [],
    "is_collapsed": false,
    "tags": []
   },
   "source": [
    "### 19. Print the first five rows corresponding to the employees with highest salary"
   ]
  },
  {
   "cell_type": "code",
   "execution_count": 7,
   "metadata": {
    "cell_id": "841f62d7be5e4d68b6df8d3f401e3f5d",
    "deepnote_cell_type": "sql",
    "deepnote_sql_source": "",
    "deepnote_to_be_reexecuted": false,
    "execution_millis": 3,
    "execution_start": 1660307027950,
    "source_hash": "9e213752",
    "sql_integration_id": "deepnote-dataframe-sql",
    "tags": []
   },
   "outputs": [
    {
     "data": {
      "text/html": [
       "<div>\n",
       "<style scoped>\n",
       "    .dataframe tbody tr th:only-of-type {\n",
       "        vertical-align: middle;\n",
       "    }\n",
       "\n",
       "    .dataframe tbody tr th {\n",
       "        vertical-align: top;\n",
       "    }\n",
       "\n",
       "    .dataframe thead th {\n",
       "        text-align: right;\n",
       "    }\n",
       "</style>\n",
       "<table border=\"1\" class=\"dataframe\">\n",
       "  <thead>\n",
       "    <tr style=\"text-align: right;\">\n",
       "      <th></th>\n",
       "      <th>Name</th>\n",
       "      <th>Company_Name</th>\n",
       "      <th>Employee_Job_Title</th>\n",
       "      <th>Employee_City</th>\n",
       "      <th>Employee_Country</th>\n",
       "      <th>Employee_Salary</th>\n",
       "      <th>Employment_Status</th>\n",
       "      <th>Employee_Rating</th>\n",
       "    </tr>\n",
       "  </thead>\n",
       "  <tbody>\n",
       "    <tr>\n",
       "      <th>0</th>\n",
       "      <td>Anna Lawson</td>\n",
       "      <td>Taylor-Ramos</td>\n",
       "      <td>Production engineer</td>\n",
       "      <td>Kristaburgh</td>\n",
       "      <td>Lesotho</td>\n",
       "      <td>999990</td>\n",
       "      <td>Full Time</td>\n",
       "      <td>4.0</td>\n",
       "    </tr>\n",
       "    <tr>\n",
       "      <th>1</th>\n",
       "      <td>Logan Jackson</td>\n",
       "      <td>White, Mcclain and Cobb</td>\n",
       "      <td>Ergonomist</td>\n",
       "      <td>Wardfort</td>\n",
       "      <td>Saint Helena</td>\n",
       "      <td>999980</td>\n",
       "      <td>Full Time</td>\n",
       "      <td>2.0</td>\n",
       "    </tr>\n",
       "    <tr>\n",
       "      <th>2</th>\n",
       "      <td>Richard Kennedy</td>\n",
       "      <td>Thomas-Spencer</td>\n",
       "      <td>Energy manager</td>\n",
       "      <td>Aliciafort</td>\n",
       "      <td>Cook Islands</td>\n",
       "      <td>999980</td>\n",
       "      <td>Full Time</td>\n",
       "      <td>2.4</td>\n",
       "    </tr>\n",
       "    <tr>\n",
       "      <th>3</th>\n",
       "      <td>Jason Jenkins</td>\n",
       "      <td>Taylor-Ramos</td>\n",
       "      <td>Sales promotion account executive</td>\n",
       "      <td>Aliciafort</td>\n",
       "      <td>Pakistan</td>\n",
       "      <td>999980</td>\n",
       "      <td>Full Time</td>\n",
       "      <td>2.6</td>\n",
       "    </tr>\n",
       "    <tr>\n",
       "      <th>4</th>\n",
       "      <td>Dennis Sexton</td>\n",
       "      <td>Campos, Reynolds and Mccormick</td>\n",
       "      <td>Diplomatic Services operational officer</td>\n",
       "      <td>Kristaburgh</td>\n",
       "      <td>United Kingdom</td>\n",
       "      <td>999970</td>\n",
       "      <td>Full Time</td>\n",
       "      <td>0.9</td>\n",
       "    </tr>\n",
       "  </tbody>\n",
       "</table>\n",
       "</div>"
      ],
      "text/plain": [
       "              Name                    Company_Name  \\\n",
       "0      Anna Lawson                    Taylor-Ramos   \n",
       "1    Logan Jackson         White, Mcclain and Cobb   \n",
       "2  Richard Kennedy                  Thomas-Spencer   \n",
       "3    Jason Jenkins                    Taylor-Ramos   \n",
       "4    Dennis Sexton  Campos, Reynolds and Mccormick   \n",
       "\n",
       "                        Employee_Job_Title Employee_City Employee_Country  \\\n",
       "0                      Production engineer   Kristaburgh          Lesotho   \n",
       "1                               Ergonomist      Wardfort     Saint Helena   \n",
       "2                           Energy manager    Aliciafort     Cook Islands   \n",
       "3        Sales promotion account executive    Aliciafort         Pakistan   \n",
       "4  Diplomatic Services operational officer   Kristaburgh   United Kingdom   \n",
       "\n",
       "   Employee_Salary Employment_Status  Employee_Rating  \n",
       "0           999990         Full Time              4.0  \n",
       "1           999980         Full Time              2.0  \n",
       "2           999980         Full Time              2.4  \n",
       "3           999980         Full Time              2.6  \n",
       "4           999970         Full Time              0.9  "
      ]
     },
     "execution_count": 7,
     "metadata": {},
     "output_type": "execute_result"
    }
   ],
   "source": [
    "query('SELECT * FROM data ORDER BY Employee_Salary DESC LIMIT 5')"
   ]
  },
  {
   "cell_type": "markdown",
   "metadata": {
    "cell_id": "72ab2fce8c28469980c02922fd9fc000",
    "deepnote_cell_type": "text-cell-h3",
    "formattedRanges": [],
    "is_collapsed": false,
    "tags": []
   },
   "source": [
    "### 20. Print the first five rows corresponding to the employees with the highest salary in 'James and Sons' company"
   ]
  },
  {
   "cell_type": "code",
   "execution_count": 10,
   "metadata": {
    "cell_id": "4ac437026f1d4e70b27710814dcb38a8",
    "deepnote_cell_type": "sql",
    "deepnote_sql_source": "",
    "deepnote_to_be_reexecuted": false,
    "execution_millis": 1,
    "execution_start": 1660307028007,
    "source_hash": "9e213752",
    "sql_integration_id": "deepnote-dataframe-sql",
    "tags": []
   },
   "outputs": [
    {
     "data": {
      "text/html": [
       "<div>\n",
       "<style scoped>\n",
       "    .dataframe tbody tr th:only-of-type {\n",
       "        vertical-align: middle;\n",
       "    }\n",
       "\n",
       "    .dataframe tbody tr th {\n",
       "        vertical-align: top;\n",
       "    }\n",
       "\n",
       "    .dataframe thead th {\n",
       "        text-align: right;\n",
       "    }\n",
       "</style>\n",
       "<table border=\"1\" class=\"dataframe\">\n",
       "  <thead>\n",
       "    <tr style=\"text-align: right;\">\n",
       "      <th></th>\n",
       "      <th>Name</th>\n",
       "      <th>Company_Name</th>\n",
       "      <th>Employee_Job_Title</th>\n",
       "      <th>Employee_City</th>\n",
       "      <th>Employee_Country</th>\n",
       "      <th>Employee_Salary</th>\n",
       "      <th>Employment_Status</th>\n",
       "      <th>Employee_Rating</th>\n",
       "    </tr>\n",
       "  </thead>\n",
       "  <tbody>\n",
       "    <tr>\n",
       "      <th>0</th>\n",
       "      <td>Jared Rice</td>\n",
       "      <td>James and Sons</td>\n",
       "      <td>Naval architect</td>\n",
       "      <td>New Russellton</td>\n",
       "      <td>Saint Barthelemy</td>\n",
       "      <td>999960</td>\n",
       "      <td>Full Time</td>\n",
       "      <td>2.6</td>\n",
       "    </tr>\n",
       "    <tr>\n",
       "      <th>1</th>\n",
       "      <td>Jamie Parks</td>\n",
       "      <td>James and Sons</td>\n",
       "      <td>Trading standards officer</td>\n",
       "      <td>Ricardomouth</td>\n",
       "      <td>Botswana</td>\n",
       "      <td>999860</td>\n",
       "      <td>Full Time</td>\n",
       "      <td>4.8</td>\n",
       "    </tr>\n",
       "    <tr>\n",
       "      <th>2</th>\n",
       "      <td>Shannon Harrison</td>\n",
       "      <td>James and Sons</td>\n",
       "      <td>Optometrist</td>\n",
       "      <td>Aliciafort</td>\n",
       "      <td>Austria</td>\n",
       "      <td>999830</td>\n",
       "      <td>Full Time</td>\n",
       "      <td>0.9</td>\n",
       "    </tr>\n",
       "    <tr>\n",
       "      <th>3</th>\n",
       "      <td>Angela Baker</td>\n",
       "      <td>James and Sons</td>\n",
       "      <td>Radiographer, therapeutic</td>\n",
       "      <td>New Cindychester</td>\n",
       "      <td>Uruguay</td>\n",
       "      <td>999790</td>\n",
       "      <td>Intern</td>\n",
       "      <td>3.6</td>\n",
       "    </tr>\n",
       "    <tr>\n",
       "      <th>4</th>\n",
       "      <td>Jessica Nixon</td>\n",
       "      <td>James and Sons</td>\n",
       "      <td>Ergonomist</td>\n",
       "      <td>New Russellton</td>\n",
       "      <td>Korea</td>\n",
       "      <td>999770</td>\n",
       "      <td>Intern</td>\n",
       "      <td>2.7</td>\n",
       "    </tr>\n",
       "  </tbody>\n",
       "</table>\n",
       "</div>"
      ],
      "text/plain": [
       "               Name    Company_Name         Employee_Job_Title  \\\n",
       "0        Jared Rice  James and Sons            Naval architect   \n",
       "1       Jamie Parks  James and Sons  Trading standards officer   \n",
       "2  Shannon Harrison  James and Sons                Optometrist   \n",
       "3      Angela Baker  James and Sons  Radiographer, therapeutic   \n",
       "4     Jessica Nixon  James and Sons                 Ergonomist   \n",
       "\n",
       "      Employee_City  Employee_Country  Employee_Salary Employment_Status  \\\n",
       "0    New Russellton  Saint Barthelemy           999960         Full Time   \n",
       "1      Ricardomouth          Botswana           999860         Full Time   \n",
       "2        Aliciafort           Austria           999830         Full Time   \n",
       "3  New Cindychester           Uruguay           999790            Intern   \n",
       "4    New Russellton             Korea           999770            Intern   \n",
       "\n",
       "   Employee_Rating  \n",
       "0              2.6  \n",
       "1              4.8  \n",
       "2              0.9  \n",
       "3              3.6  \n",
       "4              2.7  "
      ]
     },
     "execution_count": 10,
     "metadata": {},
     "output_type": "execute_result"
    }
   ],
   "source": [
    "query('SELECT * FROM data WHERE Company_Name = \"James and Sons\" ORDER BY Employee_Salary DESC LIMIT 5')"
   ]
  },
  {
   "cell_type": "markdown",
   "metadata": {
    "cell_id": "115b972f1bcc431682c17bd3a5a7af13",
    "deepnote_cell_type": "text-cell-h3",
    "formattedRanges": [],
    "is_collapsed": false,
    "tags": []
   },
   "source": [
    "### 21. Print the first five rows corresponding to the employees with the highest salary working either in 'James and Sons' company or living in 'Wardfort' city"
   ]
  },
  {
   "cell_type": "code",
   "execution_count": 11,
   "metadata": {
    "cell_id": "f246c31264c04ed8b54040e667a627b7",
    "deepnote_cell_type": "sql",
    "deepnote_sql_source": "",
    "deepnote_to_be_reexecuted": false,
    "execution_millis": 0,
    "execution_start": 1660307028008,
    "source_hash": "9e213752",
    "sql_integration_id": "deepnote-dataframe-sql",
    "tags": []
   },
   "outputs": [
    {
     "data": {
      "text/html": [
       "<div>\n",
       "<style scoped>\n",
       "    .dataframe tbody tr th:only-of-type {\n",
       "        vertical-align: middle;\n",
       "    }\n",
       "\n",
       "    .dataframe tbody tr th {\n",
       "        vertical-align: top;\n",
       "    }\n",
       "\n",
       "    .dataframe thead th {\n",
       "        text-align: right;\n",
       "    }\n",
       "</style>\n",
       "<table border=\"1\" class=\"dataframe\">\n",
       "  <thead>\n",
       "    <tr style=\"text-align: right;\">\n",
       "      <th></th>\n",
       "      <th>Name</th>\n",
       "      <th>Company_Name</th>\n",
       "      <th>Employee_Job_Title</th>\n",
       "      <th>Employee_City</th>\n",
       "      <th>Employee_Country</th>\n",
       "      <th>Employee_Salary</th>\n",
       "      <th>Employment_Status</th>\n",
       "      <th>Employee_Rating</th>\n",
       "    </tr>\n",
       "  </thead>\n",
       "  <tbody>\n",
       "    <tr>\n",
       "      <th>0</th>\n",
       "      <td>Logan Jackson</td>\n",
       "      <td>White, Mcclain and Cobb</td>\n",
       "      <td>Ergonomist</td>\n",
       "      <td>Wardfort</td>\n",
       "      <td>Saint Helena</td>\n",
       "      <td>999980</td>\n",
       "      <td>Full Time</td>\n",
       "      <td>2.0</td>\n",
       "    </tr>\n",
       "    <tr>\n",
       "      <th>1</th>\n",
       "      <td>Jared Rice</td>\n",
       "      <td>James and Sons</td>\n",
       "      <td>Naval architect</td>\n",
       "      <td>New Russellton</td>\n",
       "      <td>Saint Barthelemy</td>\n",
       "      <td>999960</td>\n",
       "      <td>Full Time</td>\n",
       "      <td>2.6</td>\n",
       "    </tr>\n",
       "    <tr>\n",
       "      <th>2</th>\n",
       "      <td>Carolyn Lucas</td>\n",
       "      <td>Bullock-Carrillo</td>\n",
       "      <td>Actuary</td>\n",
       "      <td>Wardfort</td>\n",
       "      <td>Fiji</td>\n",
       "      <td>999930</td>\n",
       "      <td>Full Time</td>\n",
       "      <td>1.9</td>\n",
       "    </tr>\n",
       "    <tr>\n",
       "      <th>3</th>\n",
       "      <td>Mia Howard</td>\n",
       "      <td>Nelson-Li</td>\n",
       "      <td>Actuary</td>\n",
       "      <td>Wardfort</td>\n",
       "      <td>Turks and Caicos Islands</td>\n",
       "      <td>999920</td>\n",
       "      <td>Full Time</td>\n",
       "      <td>2.5</td>\n",
       "    </tr>\n",
       "    <tr>\n",
       "      <th>4</th>\n",
       "      <td>Anthony Anderson</td>\n",
       "      <td>Johnston, Fleming and Tanner</td>\n",
       "      <td>Diplomatic Services operational officer</td>\n",
       "      <td>Wardfort</td>\n",
       "      <td>Bangladesh</td>\n",
       "      <td>999910</td>\n",
       "      <td>Full Time</td>\n",
       "      <td>1.9</td>\n",
       "    </tr>\n",
       "  </tbody>\n",
       "</table>\n",
       "</div>"
      ],
      "text/plain": [
       "               Name                  Company_Name  \\\n",
       "0     Logan Jackson       White, Mcclain and Cobb   \n",
       "1        Jared Rice                James and Sons   \n",
       "2     Carolyn Lucas              Bullock-Carrillo   \n",
       "3        Mia Howard                     Nelson-Li   \n",
       "4  Anthony Anderson  Johnston, Fleming and Tanner   \n",
       "\n",
       "                        Employee_Job_Title   Employee_City  \\\n",
       "0                               Ergonomist        Wardfort   \n",
       "1                          Naval architect  New Russellton   \n",
       "2                                  Actuary        Wardfort   \n",
       "3                                  Actuary        Wardfort   \n",
       "4  Diplomatic Services operational officer        Wardfort   \n",
       "\n",
       "           Employee_Country  Employee_Salary Employment_Status  \\\n",
       "0              Saint Helena           999980         Full Time   \n",
       "1          Saint Barthelemy           999960         Full Time   \n",
       "2                      Fiji           999930         Full Time   \n",
       "3  Turks and Caicos Islands           999920         Full Time   \n",
       "4                Bangladesh           999910         Full Time   \n",
       "\n",
       "   Employee_Rating  \n",
       "0              2.0  \n",
       "1              2.6  \n",
       "2              1.9  \n",
       "3              2.5  \n",
       "4              1.9  "
      ]
     },
     "execution_count": 11,
     "metadata": {},
     "output_type": "execute_result"
    }
   ],
   "source": [
    "query('SELECT * FROM data WHERE Company_Name = \"James and Sons\" OR Employee_City = \"Wardfort\" ORDER BY Employee_Salary DESC LIMIT 5')"
   ]
  },
  {
   "cell_type": "markdown",
   "metadata": {
    "cell_id": "625e8ddf014c4ca789eda859d1da4c10",
    "deepnote_cell_type": "text-cell-h3",
    "formattedRanges": [],
    "is_collapsed": false,
    "tags": []
   },
   "source": [
    "### 22. Print the total number of distinct records in the data. "
   ]
  },
  {
   "cell_type": "code",
   "execution_count": 31,
   "metadata": {
    "cell_id": "42c7de579c4a40519ce15eb4a68bc39e",
    "deepnote_cell_type": "sql",
    "deepnote_sql_source": "",
    "deepnote_to_be_reexecuted": false,
    "execution_millis": 0,
    "execution_start": 1660307028009,
    "source_hash": "9e213752",
    "sql_integration_id": "deepnote-dataframe-sql",
    "tags": []
   },
   "outputs": [
    {
     "data": {
      "text/html": [
       "<div>\n",
       "<style scoped>\n",
       "    .dataframe tbody tr th:only-of-type {\n",
       "        vertical-align: middle;\n",
       "    }\n",
       "\n",
       "    .dataframe tbody tr th {\n",
       "        vertical-align: top;\n",
       "    }\n",
       "\n",
       "    .dataframe thead th {\n",
       "        text-align: right;\n",
       "    }\n",
       "</style>\n",
       "<table border=\"1\" class=\"dataframe\">\n",
       "  <thead>\n",
       "    <tr style=\"text-align: right;\">\n",
       "      <th></th>\n",
       "      <th>total_distinct</th>\n",
       "    </tr>\n",
       "  </thead>\n",
       "  <tbody>\n",
       "    <tr>\n",
       "      <th>0</th>\n",
       "      <td>300000</td>\n",
       "    </tr>\n",
       "  </tbody>\n",
       "</table>\n",
       "</div>"
      ],
      "text/plain": [
       "   total_distinct\n",
       "0          300000"
      ]
     },
     "execution_count": 31,
     "metadata": {},
     "output_type": "execute_result"
    }
   ],
   "source": [
    "query(\"\"\"SELECT COUNT(*) AS total_distinct \n",
    "FROM (SELECT DISTINCT Name, Company_Name, Employee_Job_Title, Employee_City, Employee_Country, Employee_Salary, Employment_Status, Employee_Rating \n",
    "FROM data)\n",
    "AS distinct_data;\"\"\")"
   ]
  },
  {
   "cell_type": "markdown",
   "metadata": {
    "cell_id": "7179259432b342999aeb17e42ae16a18",
    "deepnote_cell_type": "text-cell-h3",
    "formattedRanges": [],
    "is_collapsed": false,
    "tags": []
   },
   "source": [
    "### 23. Print the mean salary of all the employees in the data"
   ]
  },
  {
   "cell_type": "code",
   "execution_count": 30,
   "metadata": {
    "cell_id": "62167ae8d1fa4c5c9ce51ad7637468d9",
    "deepnote_cell_type": "sql",
    "deepnote_sql_source": "",
    "deepnote_to_be_reexecuted": false,
    "execution_millis": 0,
    "execution_start": 1660307028041,
    "source_hash": "9e213752",
    "sql_integration_id": "deepnote-dataframe-sql",
    "tags": []
   },
   "outputs": [
    {
     "data": {
      "text/html": [
       "<div>\n",
       "<style scoped>\n",
       "    .dataframe tbody tr th:only-of-type {\n",
       "        vertical-align: middle;\n",
       "    }\n",
       "\n",
       "    .dataframe tbody tr th {\n",
       "        vertical-align: top;\n",
       "    }\n",
       "\n",
       "    .dataframe thead th {\n",
       "        text-align: right;\n",
       "    }\n",
       "</style>\n",
       "<table border=\"1\" class=\"dataframe\">\n",
       "  <thead>\n",
       "    <tr style=\"text-align: right;\">\n",
       "      <th></th>\n",
       "      <th>mean_salary</th>\n",
       "    </tr>\n",
       "  </thead>\n",
       "  <tbody>\n",
       "    <tr>\n",
       "      <th>0</th>\n",
       "      <td>500224.207727</td>\n",
       "    </tr>\n",
       "  </tbody>\n",
       "</table>\n",
       "</div>"
      ],
      "text/plain": [
       "     mean_salary\n",
       "0  500224.207727"
      ]
     },
     "execution_count": 30,
     "metadata": {},
     "output_type": "execute_result"
    }
   ],
   "source": [
    "query(\"\"\"SELECT AVG(Employee_Salary) AS mean_salary\n",
    "FROM data;\"\"\")"
   ]
  },
  {
   "cell_type": "markdown",
   "metadata": {
    "cell_id": "33506177484443de8b8ff4f510f4ce25",
    "deepnote_cell_type": "text-cell-h3",
    "formattedRanges": [],
    "is_collapsed": false,
    "tags": []
   },
   "source": [
    "### 24. Print the mean rating of all the employees in the data"
   ]
  },
  {
   "cell_type": "code",
   "execution_count": 33,
   "metadata": {
    "cell_id": "56eb0852857a4912aa3e6ee7c2a6855b",
    "deepnote_cell_type": "sql",
    "deepnote_sql_source": "",
    "deepnote_to_be_reexecuted": false,
    "execution_millis": 0,
    "execution_start": 1660307028042,
    "source_hash": "9e213752",
    "sql_integration_id": "deepnote-dataframe-sql",
    "tags": []
   },
   "outputs": [
    {
     "data": {
      "text/html": [
       "<div>\n",
       "<style scoped>\n",
       "    .dataframe tbody tr th:only-of-type {\n",
       "        vertical-align: middle;\n",
       "    }\n",
       "\n",
       "    .dataframe tbody tr th {\n",
       "        vertical-align: top;\n",
       "    }\n",
       "\n",
       "    .dataframe thead th {\n",
       "        text-align: right;\n",
       "    }\n",
       "</style>\n",
       "<table border=\"1\" class=\"dataframe\">\n",
       "  <thead>\n",
       "    <tr style=\"text-align: right;\">\n",
       "      <th></th>\n",
       "      <th>mean_rating</th>\n",
       "    </tr>\n",
       "  </thead>\n",
       "  <tbody>\n",
       "    <tr>\n",
       "      <th>0</th>\n",
       "      <td>2.505955</td>\n",
       "    </tr>\n",
       "  </tbody>\n",
       "</table>\n",
       "</div>"
      ],
      "text/plain": [
       "   mean_rating\n",
       "0     2.505955"
      ]
     },
     "execution_count": 33,
     "metadata": {},
     "output_type": "execute_result"
    }
   ],
   "source": [
    "query(\"\"\"SELECT AVG(Employee_Rating) AS mean_rating\n",
    "FROM data;\"\"\")"
   ]
  },
  {
   "cell_type": "markdown",
   "metadata": {
    "cell_id": "823116f3093b4a79bf2cb0e6e361a2e4",
    "deepnote_cell_type": "text-cell-h3",
    "formattedRanges": [],
    "is_collapsed": false,
    "tags": []
   },
   "source": [
    "### 25-27. Print the maximum, minimum and median Employee_Salary."
   ]
  },
  {
   "cell_type": "code",
   "execution_count": 61,
   "metadata": {
    "cell_id": "699fe879732e45e69b64289d30005e0c",
    "deepnote_cell_type": "sql",
    "deepnote_sql_source": "",
    "deepnote_to_be_reexecuted": false,
    "execution_millis": 1,
    "execution_start": 1660307028042,
    "source_hash": "9e213752",
    "sql_integration_id": "deepnote-dataframe-sql",
    "tags": []
   },
   "outputs": [
    {
     "data": {
      "text/html": [
       "<div>\n",
       "<style scoped>\n",
       "    .dataframe tbody tr th:only-of-type {\n",
       "        vertical-align: middle;\n",
       "    }\n",
       "\n",
       "    .dataframe tbody tr th {\n",
       "        vertical-align: top;\n",
       "    }\n",
       "\n",
       "    .dataframe thead th {\n",
       "        text-align: right;\n",
       "    }\n",
       "</style>\n",
       "<table border=\"1\" class=\"dataframe\">\n",
       "  <thead>\n",
       "    <tr style=\"text-align: right;\">\n",
       "      <th></th>\n",
       "      <th>max_salary</th>\n",
       "      <th>min_salary</th>\n",
       "      <th>median_salary</th>\n",
       "    </tr>\n",
       "  </thead>\n",
       "  <tbody>\n",
       "    <tr>\n",
       "      <th>0</th>\n",
       "      <td>999990</td>\n",
       "      <td>0</td>\n",
       "      <td>500780.0</td>\n",
       "    </tr>\n",
       "  </tbody>\n",
       "</table>\n",
       "</div>"
      ],
      "text/plain": [
       "   max_salary  min_salary  median_salary\n",
       "0      999990           0       500780.0"
      ]
     },
     "execution_count": 61,
     "metadata": {},
     "output_type": "execute_result"
    }
   ],
   "source": [
    "query(\"\"\"\n",
    "WITH SalaryStats AS (\n",
    "    SELECT\n",
    "        Employee_Salary,\n",
    "        COUNT(*) OVER () AS total_rows,\n",
    "        ROW_NUMBER() OVER (ORDER BY Employee_Salary) AS row_num\n",
    "    FROM data\n",
    "),\n",
    "MedianCalc AS (\n",
    "    SELECT \n",
    "        Employee_Salary\n",
    "    FROM SalaryStats\n",
    "    WHERE row_num = (total_rows + 1) / 2\n",
    "        OR (total_rows % 2 = 0 AND row_num IN (total_rows / 2, total_rows / 2 + 1))\n",
    ")\n",
    "SELECT \n",
    "    (SELECT MAX(Employee_Salary) FROM data) AS max_salary,\n",
    "    (SELECT MIN(Employee_Salary) FROM data) AS min_salary,\n",
    "    AVG(Employee_Salary) AS median_salary\n",
    "FROM MedianCalc;\n",
    "\n",
    "\"\"\")"
   ]
  },
  {
   "cell_type": "markdown",
   "metadata": {
    "cell_id": "fdcdb5f814df4d7d827289fc26f2b5e5",
    "deepnote_cell_type": "text-cell-h3",
    "formattedRanges": [],
    "is_collapsed": false,
    "tags": []
   },
   "source": [
    "### 28-32. Print the distribution of the following columns: (the frequency of individual entries)."
   ]
  },
  {
   "cell_type": "markdown",
   "metadata": {
    "cell_id": "9bcc9655a5fe400483b718ed2d4bba12",
    "deepnote_cell_type": "text-cell-p",
    "formattedRanges": [],
    "is_collapsed": false,
    "tags": []
   },
   "source": [
    "1. Company_Name"
   ]
  },
  {
   "cell_type": "code",
   "execution_count": 65,
   "metadata": {
    "cell_id": "2ab8518e43214dd9923e7372e3fefc8c",
    "deepnote_cell_type": "sql",
    "deepnote_sql_source": "",
    "deepnote_to_be_reexecuted": false,
    "execution_start": 1660307028044,
    "source_hash": "9e213752",
    "sql_integration_id": "deepnote-dataframe-sql",
    "tags": []
   },
   "outputs": [
    {
     "data": {
      "text/html": [
       "<div>\n",
       "<style scoped>\n",
       "    .dataframe tbody tr th:only-of-type {\n",
       "        vertical-align: middle;\n",
       "    }\n",
       "\n",
       "    .dataframe tbody tr th {\n",
       "        vertical-align: top;\n",
       "    }\n",
       "\n",
       "    .dataframe thead th {\n",
       "        text-align: right;\n",
       "    }\n",
       "</style>\n",
       "<table border=\"1\" class=\"dataframe\">\n",
       "  <thead>\n",
       "    <tr style=\"text-align: right;\">\n",
       "      <th></th>\n",
       "      <th>Company_Name</th>\n",
       "      <th>frequency</th>\n",
       "    </tr>\n",
       "  </thead>\n",
       "  <tbody>\n",
       "    <tr>\n",
       "      <th>0</th>\n",
       "      <td>Andrade LLC</td>\n",
       "      <td>19983</td>\n",
       "    </tr>\n",
       "    <tr>\n",
       "      <th>1</th>\n",
       "      <td>Baker, Allen and Edwards</td>\n",
       "      <td>20084</td>\n",
       "    </tr>\n",
       "    <tr>\n",
       "      <th>2</th>\n",
       "      <td>Bullock-Carrillo</td>\n",
       "      <td>20063</td>\n",
       "    </tr>\n",
       "    <tr>\n",
       "      <th>3</th>\n",
       "      <td>Campos, Reynolds and Mccormick</td>\n",
       "      <td>19927</td>\n",
       "    </tr>\n",
       "    <tr>\n",
       "      <th>4</th>\n",
       "      <td>James and Sons</td>\n",
       "      <td>19868</td>\n",
       "    </tr>\n",
       "    <tr>\n",
       "      <th>5</th>\n",
       "      <td>Johnston, Fleming and Tanner</td>\n",
       "      <td>19811</td>\n",
       "    </tr>\n",
       "    <tr>\n",
       "      <th>6</th>\n",
       "      <td>Marshall-Holloway</td>\n",
       "      <td>19859</td>\n",
       "    </tr>\n",
       "    <tr>\n",
       "      <th>7</th>\n",
       "      <td>Matthews Inc</td>\n",
       "      <td>20083</td>\n",
       "    </tr>\n",
       "    <tr>\n",
       "      <th>8</th>\n",
       "      <td>Nelson-Li</td>\n",
       "      <td>20132</td>\n",
       "    </tr>\n",
       "    <tr>\n",
       "      <th>9</th>\n",
       "      <td>Nichols-James</td>\n",
       "      <td>19911</td>\n",
       "    </tr>\n",
       "    <tr>\n",
       "      <th>10</th>\n",
       "      <td>Scott Inc</td>\n",
       "      <td>20390</td>\n",
       "    </tr>\n",
       "    <tr>\n",
       "      <th>11</th>\n",
       "      <td>Taylor-Ramos</td>\n",
       "      <td>20122</td>\n",
       "    </tr>\n",
       "    <tr>\n",
       "      <th>12</th>\n",
       "      <td>Thomas-Spencer</td>\n",
       "      <td>20142</td>\n",
       "    </tr>\n",
       "    <tr>\n",
       "      <th>13</th>\n",
       "      <td>Wallace, Smith and Shepard</td>\n",
       "      <td>19364</td>\n",
       "    </tr>\n",
       "    <tr>\n",
       "      <th>14</th>\n",
       "      <td>White, Mcclain and Cobb</td>\n",
       "      <td>20261</td>\n",
       "    </tr>\n",
       "  </tbody>\n",
       "</table>\n",
       "</div>"
      ],
      "text/plain": [
       "                      Company_Name  frequency\n",
       "0                      Andrade LLC      19983\n",
       "1         Baker, Allen and Edwards      20084\n",
       "2                 Bullock-Carrillo      20063\n",
       "3   Campos, Reynolds and Mccormick      19927\n",
       "4                   James and Sons      19868\n",
       "5     Johnston, Fleming and Tanner      19811\n",
       "6                Marshall-Holloway      19859\n",
       "7                     Matthews Inc      20083\n",
       "8                        Nelson-Li      20132\n",
       "9                    Nichols-James      19911\n",
       "10                       Scott Inc      20390\n",
       "11                    Taylor-Ramos      20122\n",
       "12                  Thomas-Spencer      20142\n",
       "13      Wallace, Smith and Shepard      19364\n",
       "14         White, Mcclain and Cobb      20261"
      ]
     },
     "execution_count": 65,
     "metadata": {},
     "output_type": "execute_result"
    }
   ],
   "source": [
    "query(\"\"\"\n",
    "SELECT\n",
    "    Company_Name,\n",
    "    Count(*) AS frequency\n",
    "FROM data\n",
    "GROUP BY Company_Name\n",
    "\"\"\")"
   ]
  },
  {
   "cell_type": "markdown",
   "metadata": {
    "cell_id": "0be47d55a9f94474bbf41b294abe6ed4",
    "deepnote_cell_type": "text-cell-p",
    "formattedRanges": [],
    "is_collapsed": false,
    "tags": []
   },
   "source": [
    "2. Employee_Job_Title"
   ]
  },
  {
   "cell_type": "code",
   "execution_count": 66,
   "metadata": {
    "cell_id": "c7f7b25ba520429eab00f2bdc4289b3a",
    "deepnote_cell_type": "sql",
    "deepnote_sql_source": "",
    "deepnote_to_be_reexecuted": false,
    "execution_start": 1660307028049,
    "source_hash": "9e213752",
    "sql_integration_id": "deepnote-dataframe-sql",
    "tags": []
   },
   "outputs": [
    {
     "data": {
      "text/html": [
       "<div>\n",
       "<style scoped>\n",
       "    .dataframe tbody tr th:only-of-type {\n",
       "        vertical-align: middle;\n",
       "    }\n",
       "\n",
       "    .dataframe tbody tr th {\n",
       "        vertical-align: top;\n",
       "    }\n",
       "\n",
       "    .dataframe thead th {\n",
       "        text-align: right;\n",
       "    }\n",
       "</style>\n",
       "<table border=\"1\" class=\"dataframe\">\n",
       "  <thead>\n",
       "    <tr style=\"text-align: right;\">\n",
       "      <th></th>\n",
       "      <th>Employee_Job_Title</th>\n",
       "      <th>frequency</th>\n",
       "    </tr>\n",
       "  </thead>\n",
       "  <tbody>\n",
       "    <tr>\n",
       "      <th>0</th>\n",
       "      <td>Actuary</td>\n",
       "      <td>15030</td>\n",
       "    </tr>\n",
       "    <tr>\n",
       "      <th>1</th>\n",
       "      <td>Administrator</td>\n",
       "      <td>15222</td>\n",
       "    </tr>\n",
       "    <tr>\n",
       "      <th>2</th>\n",
       "      <td>Armed forces logistics/support/administrative ...</td>\n",
       "      <td>15050</td>\n",
       "    </tr>\n",
       "    <tr>\n",
       "      <th>3</th>\n",
       "      <td>Diplomatic Services operational officer</td>\n",
       "      <td>30137</td>\n",
       "    </tr>\n",
       "    <tr>\n",
       "      <th>4</th>\n",
       "      <td>Energy manager</td>\n",
       "      <td>15033</td>\n",
       "    </tr>\n",
       "    <tr>\n",
       "      <th>5</th>\n",
       "      <td>Equities trader</td>\n",
       "      <td>15000</td>\n",
       "    </tr>\n",
       "    <tr>\n",
       "      <th>6</th>\n",
       "      <td>Ergonomist</td>\n",
       "      <td>15006</td>\n",
       "    </tr>\n",
       "    <tr>\n",
       "      <th>7</th>\n",
       "      <td>Garment/textile technologist</td>\n",
       "      <td>15183</td>\n",
       "    </tr>\n",
       "    <tr>\n",
       "      <th>8</th>\n",
       "      <td>Investment banker, corporate</td>\n",
       "      <td>15008</td>\n",
       "    </tr>\n",
       "    <tr>\n",
       "      <th>9</th>\n",
       "      <td>Make</td>\n",
       "      <td>14741</td>\n",
       "    </tr>\n",
       "    <tr>\n",
       "      <th>10</th>\n",
       "      <td>Naval architect</td>\n",
       "      <td>14905</td>\n",
       "    </tr>\n",
       "    <tr>\n",
       "      <th>11</th>\n",
       "      <td>Optometrist</td>\n",
       "      <td>14838</td>\n",
       "    </tr>\n",
       "    <tr>\n",
       "      <th>12</th>\n",
       "      <td>Patent examiner</td>\n",
       "      <td>15085</td>\n",
       "    </tr>\n",
       "    <tr>\n",
       "      <th>13</th>\n",
       "      <td>Production engineer</td>\n",
       "      <td>15003</td>\n",
       "    </tr>\n",
       "    <tr>\n",
       "      <th>14</th>\n",
       "      <td>Radiographer, therapeutic</td>\n",
       "      <td>14882</td>\n",
       "    </tr>\n",
       "    <tr>\n",
       "      <th>15</th>\n",
       "      <td>Regulatory affairs officer</td>\n",
       "      <td>14869</td>\n",
       "    </tr>\n",
       "    <tr>\n",
       "      <th>16</th>\n",
       "      <td>Retail merchandiser</td>\n",
       "      <td>15033</td>\n",
       "    </tr>\n",
       "    <tr>\n",
       "      <th>17</th>\n",
       "      <td>Sales promotion account executive</td>\n",
       "      <td>14820</td>\n",
       "    </tr>\n",
       "    <tr>\n",
       "      <th>18</th>\n",
       "      <td>Trading standards officer</td>\n",
       "      <td>15155</td>\n",
       "    </tr>\n",
       "  </tbody>\n",
       "</table>\n",
       "</div>"
      ],
      "text/plain": [
       "                                   Employee_Job_Title  frequency\n",
       "0                                             Actuary      15030\n",
       "1                                       Administrator      15222\n",
       "2   Armed forces logistics/support/administrative ...      15050\n",
       "3             Diplomatic Services operational officer      30137\n",
       "4                                      Energy manager      15033\n",
       "5                                     Equities trader      15000\n",
       "6                                          Ergonomist      15006\n",
       "7                        Garment/textile technologist      15183\n",
       "8                        Investment banker, corporate      15008\n",
       "9                                                Make      14741\n",
       "10                                    Naval architect      14905\n",
       "11                                        Optometrist      14838\n",
       "12                                    Patent examiner      15085\n",
       "13                                Production engineer      15003\n",
       "14                          Radiographer, therapeutic      14882\n",
       "15                         Regulatory affairs officer      14869\n",
       "16                                Retail merchandiser      15033\n",
       "17                  Sales promotion account executive      14820\n",
       "18                          Trading standards officer      15155"
      ]
     },
     "execution_count": 66,
     "metadata": {},
     "output_type": "execute_result"
    }
   ],
   "source": [
    "query(\"\"\"\n",
    "SELECT\n",
    "    Employee_Job_Title,\n",
    "    Count(*) AS frequency\n",
    "FROM data\n",
    "GROUP BY Employee_Job_Title\n",
    "\"\"\")"
   ]
  },
  {
   "cell_type": "markdown",
   "metadata": {
    "cell_id": "4eee61b5a66640bdb58cdf2dcf1a583a",
    "deepnote_cell_type": "text-cell-p",
    "formattedRanges": [],
    "is_collapsed": false,
    "tags": []
   },
   "source": [
    "3. Employee_City"
   ]
  },
  {
   "cell_type": "code",
   "execution_count": 67,
   "metadata": {
    "cell_id": "69f38f63c1834bcbb2b49d45bf7af8eb",
    "deepnote_cell_type": "sql",
    "deepnote_sql_source": "",
    "deepnote_to_be_reexecuted": false,
    "execution_millis": 1,
    "execution_start": 1660307028100,
    "source_hash": "9e213752",
    "sql_integration_id": "deepnote-dataframe-sql",
    "tags": []
   },
   "outputs": [
    {
     "data": {
      "text/html": [
       "<div>\n",
       "<style scoped>\n",
       "    .dataframe tbody tr th:only-of-type {\n",
       "        vertical-align: middle;\n",
       "    }\n",
       "\n",
       "    .dataframe tbody tr th {\n",
       "        vertical-align: top;\n",
       "    }\n",
       "\n",
       "    .dataframe thead th {\n",
       "        text-align: right;\n",
       "    }\n",
       "</style>\n",
       "<table border=\"1\" class=\"dataframe\">\n",
       "  <thead>\n",
       "    <tr style=\"text-align: right;\">\n",
       "      <th></th>\n",
       "      <th>Employee_City</th>\n",
       "      <th>frequency</th>\n",
       "    </tr>\n",
       "  </thead>\n",
       "  <tbody>\n",
       "    <tr>\n",
       "      <th>0</th>\n",
       "      <td>Aliciafort</td>\n",
       "      <td>30037</td>\n",
       "    </tr>\n",
       "    <tr>\n",
       "      <th>1</th>\n",
       "      <td>Kristaburgh</td>\n",
       "      <td>30204</td>\n",
       "    </tr>\n",
       "    <tr>\n",
       "      <th>2</th>\n",
       "      <td>New Cindychester</td>\n",
       "      <td>29756</td>\n",
       "    </tr>\n",
       "    <tr>\n",
       "      <th>3</th>\n",
       "      <td>New Russellton</td>\n",
       "      <td>30001</td>\n",
       "    </tr>\n",
       "    <tr>\n",
       "      <th>4</th>\n",
       "      <td>North Melissafurt</td>\n",
       "      <td>30209</td>\n",
       "    </tr>\n",
       "    <tr>\n",
       "      <th>5</th>\n",
       "      <td>Ricardomouth</td>\n",
       "      <td>30052</td>\n",
       "    </tr>\n",
       "    <tr>\n",
       "      <th>6</th>\n",
       "      <td>Wardfort</td>\n",
       "      <td>30097</td>\n",
       "    </tr>\n",
       "    <tr>\n",
       "      <th>7</th>\n",
       "      <td>West Jamesview</td>\n",
       "      <td>29941</td>\n",
       "    </tr>\n",
       "    <tr>\n",
       "      <th>8</th>\n",
       "      <td>Whitakerbury</td>\n",
       "      <td>29854</td>\n",
       "    </tr>\n",
       "    <tr>\n",
       "      <th>9</th>\n",
       "      <td>Whiteside</td>\n",
       "      <td>29849</td>\n",
       "    </tr>\n",
       "  </tbody>\n",
       "</table>\n",
       "</div>"
      ],
      "text/plain": [
       "       Employee_City  frequency\n",
       "0         Aliciafort      30037\n",
       "1        Kristaburgh      30204\n",
       "2   New Cindychester      29756\n",
       "3     New Russellton      30001\n",
       "4  North Melissafurt      30209\n",
       "5       Ricardomouth      30052\n",
       "6           Wardfort      30097\n",
       "7     West Jamesview      29941\n",
       "8       Whitakerbury      29854\n",
       "9          Whiteside      29849"
      ]
     },
     "execution_count": 67,
     "metadata": {},
     "output_type": "execute_result"
    }
   ],
   "source": [
    "query(\"\"\"\n",
    "SELECT\n",
    "    Employee_City,\n",
    "    Count(*) AS frequency\n",
    "FROM data\n",
    "GROUP BY Employee_City\n",
    "\"\"\")"
   ]
  },
  {
   "cell_type": "markdown",
   "metadata": {
    "cell_id": "bacf6530e1b24f299a055fcd7afc4743",
    "deepnote_cell_type": "text-cell-p",
    "formattedRanges": [],
    "is_collapsed": false,
    "tags": []
   },
   "source": [
    "4. Employee_Country"
   ]
  },
  {
   "cell_type": "code",
   "execution_count": 68,
   "metadata": {
    "cell_id": "0da44e5a8d6b4f17a6b15902291e0a8a",
    "deepnote_cell_type": "sql",
    "deepnote_sql_source": "",
    "deepnote_to_be_reexecuted": false,
    "execution_millis": 0,
    "execution_start": 1660307028101,
    "source_hash": "9e213752",
    "sql_integration_id": "deepnote-dataframe-sql",
    "tags": []
   },
   "outputs": [
    {
     "data": {
      "text/html": [
       "<div>\n",
       "<style scoped>\n",
       "    .dataframe tbody tr th:only-of-type {\n",
       "        vertical-align: middle;\n",
       "    }\n",
       "\n",
       "    .dataframe tbody tr th {\n",
       "        vertical-align: top;\n",
       "    }\n",
       "\n",
       "    .dataframe thead th {\n",
       "        text-align: right;\n",
       "    }\n",
       "</style>\n",
       "<table border=\"1\" class=\"dataframe\">\n",
       "  <thead>\n",
       "    <tr style=\"text-align: right;\">\n",
       "      <th></th>\n",
       "      <th>Employee_Country</th>\n",
       "      <th>frequency</th>\n",
       "    </tr>\n",
       "  </thead>\n",
       "  <tbody>\n",
       "    <tr>\n",
       "      <th>0</th>\n",
       "      <td>Afghanistan</td>\n",
       "      <td>1253</td>\n",
       "    </tr>\n",
       "    <tr>\n",
       "      <th>1</th>\n",
       "      <td>Albania</td>\n",
       "      <td>1193</td>\n",
       "    </tr>\n",
       "    <tr>\n",
       "      <th>2</th>\n",
       "      <td>Algeria</td>\n",
       "      <td>1178</td>\n",
       "    </tr>\n",
       "    <tr>\n",
       "      <th>3</th>\n",
       "      <td>American Samoa</td>\n",
       "      <td>1235</td>\n",
       "    </tr>\n",
       "    <tr>\n",
       "      <th>4</th>\n",
       "      <td>Andorra</td>\n",
       "      <td>1201</td>\n",
       "    </tr>\n",
       "    <tr>\n",
       "      <th>...</th>\n",
       "      <td>...</td>\n",
       "      <td>...</td>\n",
       "    </tr>\n",
       "    <tr>\n",
       "      <th>238</th>\n",
       "      <td>Wallis and Futuna</td>\n",
       "      <td>1243</td>\n",
       "    </tr>\n",
       "    <tr>\n",
       "      <th>239</th>\n",
       "      <td>Western Sahara</td>\n",
       "      <td>1234</td>\n",
       "    </tr>\n",
       "    <tr>\n",
       "      <th>240</th>\n",
       "      <td>Yemen</td>\n",
       "      <td>1180</td>\n",
       "    </tr>\n",
       "    <tr>\n",
       "      <th>241</th>\n",
       "      <td>Zambia</td>\n",
       "      <td>1193</td>\n",
       "    </tr>\n",
       "    <tr>\n",
       "      <th>242</th>\n",
       "      <td>Zimbabwe</td>\n",
       "      <td>1253</td>\n",
       "    </tr>\n",
       "  </tbody>\n",
       "</table>\n",
       "<p>243 rows × 2 columns</p>\n",
       "</div>"
      ],
      "text/plain": [
       "      Employee_Country  frequency\n",
       "0          Afghanistan       1253\n",
       "1              Albania       1193\n",
       "2              Algeria       1178\n",
       "3       American Samoa       1235\n",
       "4              Andorra       1201\n",
       "..                 ...        ...\n",
       "238  Wallis and Futuna       1243\n",
       "239     Western Sahara       1234\n",
       "240              Yemen       1180\n",
       "241             Zambia       1193\n",
       "242           Zimbabwe       1253\n",
       "\n",
       "[243 rows x 2 columns]"
      ]
     },
     "execution_count": 68,
     "metadata": {},
     "output_type": "execute_result"
    }
   ],
   "source": [
    "query(\"\"\"\n",
    "SELECT\n",
    "    Employee_Country,\n",
    "    Count(*) AS frequency\n",
    "FROM data\n",
    "GROUP BY Employee_Country\n",
    "\"\"\")"
   ]
  },
  {
   "cell_type": "markdown",
   "metadata": {
    "cell_id": "a07ac3bc2ce54407a430e52ea6648867",
    "deepnote_cell_type": "text-cell-p",
    "formattedRanges": [],
    "is_collapsed": false,
    "tags": []
   },
   "source": [
    "5. Employment_Status"
   ]
  },
  {
   "cell_type": "code",
   "execution_count": 10,
   "metadata": {
    "cell_id": "ce0a8a57b45a489a9567a53a6016ed92",
    "deepnote_cell_type": "sql",
    "deepnote_sql_source": "",
    "deepnote_to_be_reexecuted": false,
    "execution_millis": 0,
    "execution_start": 1660307028102,
    "source_hash": "9e213752",
    "sql_integration_id": "deepnote-dataframe-sql",
    "tags": []
   },
   "outputs": [
    {
     "data": {
      "text/html": [
       "<div>\n",
       "<style scoped>\n",
       "    .dataframe tbody tr th:only-of-type {\n",
       "        vertical-align: middle;\n",
       "    }\n",
       "\n",
       "    .dataframe tbody tr th {\n",
       "        vertical-align: top;\n",
       "    }\n",
       "\n",
       "    .dataframe thead th {\n",
       "        text-align: right;\n",
       "    }\n",
       "</style>\n",
       "<table border=\"1\" class=\"dataframe\">\n",
       "  <thead>\n",
       "    <tr style=\"text-align: right;\">\n",
       "      <th></th>\n",
       "      <th>Employment_Status</th>\n",
       "      <th>frequency</th>\n",
       "    </tr>\n",
       "  </thead>\n",
       "  <tbody>\n",
       "    <tr>\n",
       "      <th>0</th>\n",
       "      <td>Full Time</td>\n",
       "      <td>240010</td>\n",
       "    </tr>\n",
       "    <tr>\n",
       "      <th>1</th>\n",
       "      <td>Intern</td>\n",
       "      <td>59990</td>\n",
       "    </tr>\n",
       "  </tbody>\n",
       "</table>\n",
       "</div>"
      ],
      "text/plain": [
       "  Employment_Status  frequency\n",
       "0         Full Time     240010\n",
       "1            Intern      59990"
      ]
     },
     "execution_count": 10,
     "metadata": {},
     "output_type": "execute_result"
    }
   ],
   "source": [
    "query(\"\"\"\n",
    "SELECT\n",
    "    Employment_Status,\n",
    "    Count(*) AS frequency\n",
    "FROM data\n",
    "GROUP BY Employment_Status\n",
    "\"\"\")"
   ]
  },
  {
   "cell_type": "markdown",
   "metadata": {
    "cell_id": "94ffdf01d73e476faf37ffe6e8cc8504",
    "deepnote_cell_type": "text-cell-h3",
    "formattedRanges": [],
    "is_collapsed": false,
    "tags": []
   },
   "source": [
    "### 33. Print the company with the most number of employees."
   ]
  },
  {
   "cell_type": "code",
   "execution_count": 14,
   "metadata": {
    "cell_id": "c03a01575c604582982affeec824678a",
    "deepnote_cell_type": "sql",
    "deepnote_sql_source": "",
    "deepnote_to_be_reexecuted": false,
    "execution_millis": 1,
    "execution_start": 1660307028102,
    "source_hash": "9e213752",
    "sql_integration_id": "deepnote-dataframe-sql",
    "tags": []
   },
   "outputs": [
    {
     "data": {
      "text/html": [
       "<div>\n",
       "<style scoped>\n",
       "    .dataframe tbody tr th:only-of-type {\n",
       "        vertical-align: middle;\n",
       "    }\n",
       "\n",
       "    .dataframe tbody tr th {\n",
       "        vertical-align: top;\n",
       "    }\n",
       "\n",
       "    .dataframe thead th {\n",
       "        text-align: right;\n",
       "    }\n",
       "</style>\n",
       "<table border=\"1\" class=\"dataframe\">\n",
       "  <thead>\n",
       "    <tr style=\"text-align: right;\">\n",
       "      <th></th>\n",
       "      <th>Company_Name</th>\n",
       "    </tr>\n",
       "  </thead>\n",
       "  <tbody>\n",
       "    <tr>\n",
       "      <th>0</th>\n",
       "      <td>Scott Inc</td>\n",
       "    </tr>\n",
       "  </tbody>\n",
       "</table>\n",
       "</div>"
      ],
      "text/plain": [
       "  Company_Name\n",
       "0    Scott Inc"
      ]
     },
     "execution_count": 14,
     "metadata": {},
     "output_type": "execute_result"
    }
   ],
   "source": [
    "query(\"\"\"\n",
    "SELECT Company_Name\n",
    "FROM data\n",
    "GROUP BY Company_Name\n",
    "ORDER BY Count(*) DESC\n",
    "LIMIT 1;\n",
    "\"\"\")"
   ]
  },
  {
   "cell_type": "markdown",
   "metadata": {
    "cell_id": "9932a16041db49ff84498ca8918673d6",
    "deepnote_cell_type": "text-cell-h3",
    "formattedRanges": [],
    "is_collapsed": false,
    "tags": []
   },
   "source": [
    "### 34. Print the number of employees in the above company. "
   ]
  },
  {
   "cell_type": "code",
   "execution_count": 16,
   "metadata": {
    "cell_id": "f485b704ecb84ee9af546bb640956a67",
    "deepnote_cell_type": "sql",
    "deepnote_sql_source": "",
    "deepnote_to_be_reexecuted": false,
    "execution_millis": 12,
    "execution_start": 1660307028105,
    "source_hash": "9e213752",
    "sql_integration_id": "deepnote-dataframe-sql",
    "tags": []
   },
   "outputs": [
    {
     "data": {
      "text/html": [
       "<div>\n",
       "<style scoped>\n",
       "    .dataframe tbody tr th:only-of-type {\n",
       "        vertical-align: middle;\n",
       "    }\n",
       "\n",
       "    .dataframe tbody tr th {\n",
       "        vertical-align: top;\n",
       "    }\n",
       "\n",
       "    .dataframe thead th {\n",
       "        text-align: right;\n",
       "    }\n",
       "</style>\n",
       "<table border=\"1\" class=\"dataframe\">\n",
       "  <thead>\n",
       "    <tr style=\"text-align: right;\">\n",
       "      <th></th>\n",
       "      <th>frequency</th>\n",
       "    </tr>\n",
       "  </thead>\n",
       "  <tbody>\n",
       "    <tr>\n",
       "      <th>0</th>\n",
       "      <td>20390</td>\n",
       "    </tr>\n",
       "  </tbody>\n",
       "</table>\n",
       "</div>"
      ],
      "text/plain": [
       "   frequency\n",
       "0      20390"
      ]
     },
     "execution_count": 16,
     "metadata": {},
     "output_type": "execute_result"
    }
   ],
   "source": [
    "query(\"\"\"\n",
    "SELECT COUNT(*) AS max_company_employees\n",
    "FROM data\n",
    "WHERE Company_Name = (\n",
    "    SELECT Company_Name\n",
    "    FROM data\n",
    "    GROUP BY Company_Name\n",
    "    ORDER BY Count(*) DESC\n",
    "    LIMIT 1\n",
    "    )\n",
    "\"\"\")"
   ]
  },
  {
   "cell_type": "markdown",
   "metadata": {
    "cell_id": "77dfe27044bc4158aabd1e1d3db0aa25",
    "deepnote_cell_type": "text-cell-h3",
    "formattedRanges": [],
    "is_collapsed": false,
    "tags": []
   },
   "source": [
    "### 35. Print the company with the least number of employees."
   ]
  },
  {
   "cell_type": "code",
   "execution_count": 17,
   "metadata": {
    "cell_id": "8daf6f1bd2494a929993a2c28092a481",
    "deepnote_cell_type": "sql",
    "deepnote_sql_source": "",
    "deepnote_to_be_reexecuted": false,
    "execution_millis": 8,
    "execution_start": 1660307028127,
    "source_hash": "9e213752",
    "sql_integration_id": "deepnote-dataframe-sql",
    "tags": []
   },
   "outputs": [
    {
     "data": {
      "text/html": [
       "<div>\n",
       "<style scoped>\n",
       "    .dataframe tbody tr th:only-of-type {\n",
       "        vertical-align: middle;\n",
       "    }\n",
       "\n",
       "    .dataframe tbody tr th {\n",
       "        vertical-align: top;\n",
       "    }\n",
       "\n",
       "    .dataframe thead th {\n",
       "        text-align: right;\n",
       "    }\n",
       "</style>\n",
       "<table border=\"1\" class=\"dataframe\">\n",
       "  <thead>\n",
       "    <tr style=\"text-align: right;\">\n",
       "      <th></th>\n",
       "      <th>Company_Name</th>\n",
       "    </tr>\n",
       "  </thead>\n",
       "  <tbody>\n",
       "    <tr>\n",
       "      <th>0</th>\n",
       "      <td>Wallace, Smith and Shepard</td>\n",
       "    </tr>\n",
       "  </tbody>\n",
       "</table>\n",
       "</div>"
      ],
      "text/plain": [
       "                 Company_Name\n",
       "0  Wallace, Smith and Shepard"
      ]
     },
     "execution_count": 17,
     "metadata": {},
     "output_type": "execute_result"
    }
   ],
   "source": [
    "query(\"\"\"\n",
    "SELECT Company_Name\n",
    "FROM data\n",
    "GROUP BY Company_Name\n",
    "ORDER BY Count(*) ASC\n",
    "LIMIT 1;\n",
    "\"\"\")"
   ]
  },
  {
   "cell_type": "markdown",
   "metadata": {
    "cell_id": "a331b5eb130049e88fb581445b3df917",
    "deepnote_cell_type": "text-cell-h3",
    "formattedRanges": [],
    "is_collapsed": false,
    "tags": []
   },
   "source": [
    "### 36. Print the number of employees in the above company. "
   ]
  },
  {
   "cell_type": "code",
   "execution_count": 25,
   "metadata": {
    "cell_id": "c9d247f8e3db43fb9566def3045aa508",
    "deepnote_cell_type": "sql",
    "deepnote_sql_source": "",
    "deepnote_to_be_reexecuted": false,
    "execution_millis": 10,
    "execution_start": 1660307028139,
    "source_hash": "9e213752",
    "sql_integration_id": "deepnote-dataframe-sql",
    "tags": []
   },
   "outputs": [
    {
     "data": {
      "text/html": [
       "<div>\n",
       "<style scoped>\n",
       "    .dataframe tbody tr th:only-of-type {\n",
       "        vertical-align: middle;\n",
       "    }\n",
       "\n",
       "    .dataframe tbody tr th {\n",
       "        vertical-align: top;\n",
       "    }\n",
       "\n",
       "    .dataframe thead th {\n",
       "        text-align: right;\n",
       "    }\n",
       "</style>\n",
       "<table border=\"1\" class=\"dataframe\">\n",
       "  <thead>\n",
       "    <tr style=\"text-align: right;\">\n",
       "      <th></th>\n",
       "      <th>min_company_employees</th>\n",
       "    </tr>\n",
       "  </thead>\n",
       "  <tbody>\n",
       "    <tr>\n",
       "      <th>0</th>\n",
       "      <td>19364</td>\n",
       "    </tr>\n",
       "  </tbody>\n",
       "</table>\n",
       "</div>"
      ],
      "text/plain": [
       "   min_company_employees\n",
       "0                  19364"
      ]
     },
     "execution_count": 25,
     "metadata": {},
     "output_type": "execute_result"
    }
   ],
   "source": [
    "query(\"\"\"\n",
    "SELECT COUNT(*) AS min_company_employees\n",
    "FROM data\n",
    "WHERE Company_Name = (\n",
    "    SELECT Company_Name\n",
    "    FROM data\n",
    "    GROUP BY Company_Name\n",
    "    ORDER BY COUNT(*) ASC\n",
    "    LIMIT 1\n",
    "    );\n",
    "    \"\"\")"
   ]
  },
  {
   "cell_type": "markdown",
   "metadata": {
    "cell_id": "acc7086279f2463bad26a45f79895d09",
    "deepnote_cell_type": "text-cell-h3",
    "formattedRanges": [],
    "is_collapsed": false,
    "tags": []
   },
   "source": [
    "### 37. Print the employee details with the maximum salary"
   ]
  },
  {
   "cell_type": "code",
   "execution_count": 26,
   "metadata": {
    "cell_id": "880ffed5e8364f36a60598ffdab2d76e",
    "deepnote_cell_type": "sql",
    "deepnote_sql_source": "",
    "deepnote_to_be_reexecuted": false,
    "execution_millis": 10,
    "execution_start": 1660307028162,
    "source_hash": "9e213752",
    "sql_integration_id": "deepnote-dataframe-sql",
    "tags": []
   },
   "outputs": [
    {
     "data": {
      "text/html": [
       "<div>\n",
       "<style scoped>\n",
       "    .dataframe tbody tr th:only-of-type {\n",
       "        vertical-align: middle;\n",
       "    }\n",
       "\n",
       "    .dataframe tbody tr th {\n",
       "        vertical-align: top;\n",
       "    }\n",
       "\n",
       "    .dataframe thead th {\n",
       "        text-align: right;\n",
       "    }\n",
       "</style>\n",
       "<table border=\"1\" class=\"dataframe\">\n",
       "  <thead>\n",
       "    <tr style=\"text-align: right;\">\n",
       "      <th></th>\n",
       "      <th>Name</th>\n",
       "      <th>Company_Name</th>\n",
       "      <th>Employee_Job_Title</th>\n",
       "      <th>Employee_City</th>\n",
       "      <th>Employee_Country</th>\n",
       "      <th>Employee_Salary</th>\n",
       "      <th>Employment_Status</th>\n",
       "      <th>Employee_Rating</th>\n",
       "    </tr>\n",
       "  </thead>\n",
       "  <tbody>\n",
       "    <tr>\n",
       "      <th>0</th>\n",
       "      <td>Anna Lawson</td>\n",
       "      <td>Taylor-Ramos</td>\n",
       "      <td>Production engineer</td>\n",
       "      <td>Kristaburgh</td>\n",
       "      <td>Lesotho</td>\n",
       "      <td>999990</td>\n",
       "      <td>Full Time</td>\n",
       "      <td>4.0</td>\n",
       "    </tr>\n",
       "  </tbody>\n",
       "</table>\n",
       "</div>"
      ],
      "text/plain": [
       "          Name  Company_Name   Employee_Job_Title Employee_City  \\\n",
       "0  Anna Lawson  Taylor-Ramos  Production engineer   Kristaburgh   \n",
       "\n",
       "  Employee_Country  Employee_Salary Employment_Status  Employee_Rating  \n",
       "0          Lesotho           999990         Full Time              4.0  "
      ]
     },
     "execution_count": 26,
     "metadata": {},
     "output_type": "execute_result"
    }
   ],
   "source": [
    "query(\"\"\"\n",
    "SELECT *\n",
    "FROM data\n",
    "WHERE Employee_Salary = (SELECT MAX(Employee_Salary) FROM data);\n",
    "\"\"\")"
   ]
  },
  {
   "cell_type": "markdown",
   "metadata": {
    "cell_id": "99efe8ada3124211b96f3d419adca66a",
    "deepnote_cell_type": "text-cell-h3",
    "formattedRanges": [],
    "is_collapsed": false,
    "tags": []
   },
   "source": [
    "### 38. Print the employee details with the maximum rating"
   ]
  },
  {
   "cell_type": "code",
   "execution_count": 27,
   "metadata": {
    "cell_id": "76c9cf6cc8b648beaf5200b981a9ec47",
    "deepnote_cell_type": "sql",
    "deepnote_sql_source": "",
    "deepnote_to_be_reexecuted": false,
    "execution_start": 1660307028177,
    "source_hash": "9e213752",
    "sql_integration_id": "deepnote-dataframe-sql",
    "tags": []
   },
   "outputs": [
    {
     "data": {
      "text/html": [
       "<div>\n",
       "<style scoped>\n",
       "    .dataframe tbody tr th:only-of-type {\n",
       "        vertical-align: middle;\n",
       "    }\n",
       "\n",
       "    .dataframe tbody tr th {\n",
       "        vertical-align: top;\n",
       "    }\n",
       "\n",
       "    .dataframe thead th {\n",
       "        text-align: right;\n",
       "    }\n",
       "</style>\n",
       "<table border=\"1\" class=\"dataframe\">\n",
       "  <thead>\n",
       "    <tr style=\"text-align: right;\">\n",
       "      <th></th>\n",
       "      <th>Name</th>\n",
       "      <th>Company_Name</th>\n",
       "      <th>Employee_Job_Title</th>\n",
       "      <th>Employee_City</th>\n",
       "      <th>Employee_Country</th>\n",
       "      <th>Employee_Salary</th>\n",
       "      <th>Employment_Status</th>\n",
       "      <th>Employee_Rating</th>\n",
       "    </tr>\n",
       "  </thead>\n",
       "  <tbody>\n",
       "    <tr>\n",
       "      <th>0</th>\n",
       "      <td>Joshua Huffman</td>\n",
       "      <td>James and Sons</td>\n",
       "      <td>Garment/textile technologist</td>\n",
       "      <td>New Russellton</td>\n",
       "      <td>Cook Islands</td>\n",
       "      <td>694760</td>\n",
       "      <td>Full Time</td>\n",
       "      <td>5.0</td>\n",
       "    </tr>\n",
       "    <tr>\n",
       "      <th>1</th>\n",
       "      <td>Alan Carlson</td>\n",
       "      <td>Baker, Allen and Edwards</td>\n",
       "      <td>Diplomatic Services operational officer</td>\n",
       "      <td>Kristaburgh</td>\n",
       "      <td>Mongolia</td>\n",
       "      <td>491710</td>\n",
       "      <td>Intern</td>\n",
       "      <td>5.0</td>\n",
       "    </tr>\n",
       "    <tr>\n",
       "      <th>2</th>\n",
       "      <td>Lisa Summers</td>\n",
       "      <td>Johnston, Fleming and Tanner</td>\n",
       "      <td>Regulatory affairs officer</td>\n",
       "      <td>North Melissafurt</td>\n",
       "      <td>Togo</td>\n",
       "      <td>933500</td>\n",
       "      <td>Full Time</td>\n",
       "      <td>5.0</td>\n",
       "    </tr>\n",
       "    <tr>\n",
       "      <th>3</th>\n",
       "      <td>Timothy Woods</td>\n",
       "      <td>Johnston, Fleming and Tanner</td>\n",
       "      <td>Garment/textile technologist</td>\n",
       "      <td>Whiteside</td>\n",
       "      <td>United States Virgin Islands</td>\n",
       "      <td>367630</td>\n",
       "      <td>Full Time</td>\n",
       "      <td>5.0</td>\n",
       "    </tr>\n",
       "    <tr>\n",
       "      <th>4</th>\n",
       "      <td>Cameron Hawkins</td>\n",
       "      <td>Taylor-Ramos</td>\n",
       "      <td>Armed forces logistics/support/administrative ...</td>\n",
       "      <td>Wardfort</td>\n",
       "      <td>Tanzania</td>\n",
       "      <td>66570</td>\n",
       "      <td>Intern</td>\n",
       "      <td>5.0</td>\n",
       "    </tr>\n",
       "    <tr>\n",
       "      <th>...</th>\n",
       "      <td>...</td>\n",
       "      <td>...</td>\n",
       "      <td>...</td>\n",
       "      <td>...</td>\n",
       "      <td>...</td>\n",
       "      <td>...</td>\n",
       "      <td>...</td>\n",
       "      <td>...</td>\n",
       "    </tr>\n",
       "    <tr>\n",
       "      <th>2980</th>\n",
       "      <td>Michael Jordan</td>\n",
       "      <td>Johnston, Fleming and Tanner</td>\n",
       "      <td>Naval architect</td>\n",
       "      <td>Whitakerbury</td>\n",
       "      <td>Philippines</td>\n",
       "      <td>474540</td>\n",
       "      <td>Full Time</td>\n",
       "      <td>5.0</td>\n",
       "    </tr>\n",
       "    <tr>\n",
       "      <th>2981</th>\n",
       "      <td>Rebecca Garrison</td>\n",
       "      <td>Nelson-Li</td>\n",
       "      <td>Production engineer</td>\n",
       "      <td>Whitakerbury</td>\n",
       "      <td>Ireland</td>\n",
       "      <td>592530</td>\n",
       "      <td>Full Time</td>\n",
       "      <td>5.0</td>\n",
       "    </tr>\n",
       "    <tr>\n",
       "      <th>2982</th>\n",
       "      <td>Daniel Jones</td>\n",
       "      <td>Taylor-Ramos</td>\n",
       "      <td>Sales promotion account executive</td>\n",
       "      <td>Kristaburgh</td>\n",
       "      <td>Sierra Leone</td>\n",
       "      <td>32160</td>\n",
       "      <td>Full Time</td>\n",
       "      <td>5.0</td>\n",
       "    </tr>\n",
       "    <tr>\n",
       "      <th>2983</th>\n",
       "      <td>Justin Mendez</td>\n",
       "      <td>Bullock-Carrillo</td>\n",
       "      <td>Regulatory affairs officer</td>\n",
       "      <td>New Cindychester</td>\n",
       "      <td>Colombia</td>\n",
       "      <td>374540</td>\n",
       "      <td>Full Time</td>\n",
       "      <td>5.0</td>\n",
       "    </tr>\n",
       "    <tr>\n",
       "      <th>2984</th>\n",
       "      <td>Doris Miller</td>\n",
       "      <td>Andrade LLC</td>\n",
       "      <td>Armed forces logistics/support/administrative ...</td>\n",
       "      <td>Wardfort</td>\n",
       "      <td>Kazakhstan</td>\n",
       "      <td>943340</td>\n",
       "      <td>Intern</td>\n",
       "      <td>5.0</td>\n",
       "    </tr>\n",
       "  </tbody>\n",
       "</table>\n",
       "<p>2985 rows × 8 columns</p>\n",
       "</div>"
      ],
      "text/plain": [
       "                  Name                  Company_Name  \\\n",
       "0       Joshua Huffman                James and Sons   \n",
       "1         Alan Carlson      Baker, Allen and Edwards   \n",
       "2         Lisa Summers  Johnston, Fleming and Tanner   \n",
       "3        Timothy Woods  Johnston, Fleming and Tanner   \n",
       "4      Cameron Hawkins                  Taylor-Ramos   \n",
       "...                ...                           ...   \n",
       "2980    Michael Jordan  Johnston, Fleming and Tanner   \n",
       "2981  Rebecca Garrison                     Nelson-Li   \n",
       "2982      Daniel Jones                  Taylor-Ramos   \n",
       "2983     Justin Mendez              Bullock-Carrillo   \n",
       "2984      Doris Miller                   Andrade LLC   \n",
       "\n",
       "                                     Employee_Job_Title      Employee_City  \\\n",
       "0                          Garment/textile technologist     New Russellton   \n",
       "1               Diplomatic Services operational officer        Kristaburgh   \n",
       "2                            Regulatory affairs officer  North Melissafurt   \n",
       "3                          Garment/textile technologist          Whiteside   \n",
       "4     Armed forces logistics/support/administrative ...           Wardfort   \n",
       "...                                                 ...                ...   \n",
       "2980                                    Naval architect       Whitakerbury   \n",
       "2981                                Production engineer       Whitakerbury   \n",
       "2982                  Sales promotion account executive        Kristaburgh   \n",
       "2983                         Regulatory affairs officer   New Cindychester   \n",
       "2984  Armed forces logistics/support/administrative ...           Wardfort   \n",
       "\n",
       "                  Employee_Country  Employee_Salary Employment_Status  \\\n",
       "0                     Cook Islands           694760         Full Time   \n",
       "1                         Mongolia           491710            Intern   \n",
       "2                             Togo           933500         Full Time   \n",
       "3     United States Virgin Islands           367630         Full Time   \n",
       "4                         Tanzania            66570            Intern   \n",
       "...                            ...              ...               ...   \n",
       "2980                   Philippines           474540         Full Time   \n",
       "2981                       Ireland           592530         Full Time   \n",
       "2982                  Sierra Leone            32160         Full Time   \n",
       "2983                      Colombia           374540         Full Time   \n",
       "2984                    Kazakhstan           943340            Intern   \n",
       "\n",
       "      Employee_Rating  \n",
       "0                 5.0  \n",
       "1                 5.0  \n",
       "2                 5.0  \n",
       "3                 5.0  \n",
       "4                 5.0  \n",
       "...               ...  \n",
       "2980              5.0  \n",
       "2981              5.0  \n",
       "2982              5.0  \n",
       "2983              5.0  \n",
       "2984              5.0  \n",
       "\n",
       "[2985 rows x 8 columns]"
      ]
     },
     "execution_count": 27,
     "metadata": {},
     "output_type": "execute_result"
    }
   ],
   "source": [
    "query(\"\"\"\n",
    "SELECT *\n",
    "FROM data\n",
    "WHERE Employee_Rating = (SELECT MAX(Employee_Rating) FROM data);\n",
    "\"\"\")"
   ]
  },
  {
   "cell_type": "markdown",
   "metadata": {
    "cell_id": "b753d7d262ee4178a159f4607ab94367",
    "deepnote_cell_type": "text-cell-h3",
    "formattedRanges": [],
    "is_collapsed": false,
    "tags": []
   },
   "source": [
    "### 39. Print the Company_Name with most number of employees in 'Wardfort' city."
   ]
  },
  {
   "cell_type": "code",
   "execution_count": 34,
   "metadata": {
    "cell_id": "d522851ed7954558bb5dfa60042038e8",
    "deepnote_cell_type": "sql",
    "deepnote_sql_source": "",
    "deepnote_to_be_reexecuted": false,
    "execution_millis": 0,
    "execution_start": 1660307028220,
    "source_hash": "9e213752",
    "sql_integration_id": "deepnote-dataframe-sql",
    "tags": []
   },
   "outputs": [
    {
     "data": {
      "text/html": [
       "<div>\n",
       "<style scoped>\n",
       "    .dataframe tbody tr th:only-of-type {\n",
       "        vertical-align: middle;\n",
       "    }\n",
       "\n",
       "    .dataframe tbody tr th {\n",
       "        vertical-align: top;\n",
       "    }\n",
       "\n",
       "    .dataframe thead th {\n",
       "        text-align: right;\n",
       "    }\n",
       "</style>\n",
       "<table border=\"1\" class=\"dataframe\">\n",
       "  <thead>\n",
       "    <tr style=\"text-align: right;\">\n",
       "      <th></th>\n",
       "      <th>Company_Name</th>\n",
       "    </tr>\n",
       "  </thead>\n",
       "  <tbody>\n",
       "    <tr>\n",
       "      <th>0</th>\n",
       "      <td>Scott Inc</td>\n",
       "    </tr>\n",
       "  </tbody>\n",
       "</table>\n",
       "</div>"
      ],
      "text/plain": [
       "  Company_Name\n",
       "0    Scott Inc"
      ]
     },
     "execution_count": 34,
     "metadata": {},
     "output_type": "execute_result"
    }
   ],
   "source": [
    "query(\"\"\"\n",
    "SELECT Company_Name\n",
    "FROM data\n",
    "WHERE Employee_City = 'Wardfort'\n",
    "GROUP BY Employee_City\n",
    "ORDER BY COUNT(*) DESC\n",
    "LIMIT 1;\n",
    "\"\"\")"
   ]
  },
  {
   "cell_type": "markdown",
   "metadata": {
    "cell_id": "e2e5dec81418478abb36d5b7ac3218ce",
    "deepnote_cell_type": "text-cell-h3",
    "formattedRanges": [],
    "is_collapsed": false,
    "tags": []
   },
   "source": [
    "### 40. Print 'Employee_Salary' column as string."
   ]
  },
  {
   "cell_type": "code",
   "execution_count": 36,
   "metadata": {
    "cell_id": "3798e26ab5a248eeb8d375eff0e2b024",
    "deepnote_cell_type": "sql",
    "deepnote_sql_source": "",
    "deepnote_to_be_reexecuted": false,
    "execution_millis": 1,
    "execution_start": 1660307028220,
    "source_hash": "9e213752",
    "sql_integration_id": "deepnote-dataframe-sql",
    "tags": []
   },
   "outputs": [
    {
     "data": {
      "text/html": [
       "<div>\n",
       "<style scoped>\n",
       "    .dataframe tbody tr th:only-of-type {\n",
       "        vertical-align: middle;\n",
       "    }\n",
       "\n",
       "    .dataframe tbody tr th {\n",
       "        vertical-align: top;\n",
       "    }\n",
       "\n",
       "    .dataframe thead th {\n",
       "        text-align: right;\n",
       "    }\n",
       "</style>\n",
       "<table border=\"1\" class=\"dataframe\">\n",
       "  <thead>\n",
       "    <tr style=\"text-align: right;\">\n",
       "      <th></th>\n",
       "      <th>Employee_Salary_Str</th>\n",
       "    </tr>\n",
       "  </thead>\n",
       "  <tbody>\n",
       "    <tr>\n",
       "      <th>0</th>\n",
       "      <td>321520</td>\n",
       "    </tr>\n",
       "    <tr>\n",
       "      <th>1</th>\n",
       "      <td>589090</td>\n",
       "    </tr>\n",
       "    <tr>\n",
       "      <th>2</th>\n",
       "      <td>630890</td>\n",
       "    </tr>\n",
       "    <tr>\n",
       "      <th>3</th>\n",
       "      <td>116400</td>\n",
       "    </tr>\n",
       "    <tr>\n",
       "      <th>4</th>\n",
       "      <td>523499</td>\n",
       "    </tr>\n",
       "    <tr>\n",
       "      <th>...</th>\n",
       "      <td>...</td>\n",
       "    </tr>\n",
       "    <tr>\n",
       "      <th>299995</th>\n",
       "      <td>99670</td>\n",
       "    </tr>\n",
       "    <tr>\n",
       "      <th>299996</th>\n",
       "      <td>949580</td>\n",
       "    </tr>\n",
       "    <tr>\n",
       "      <th>299997</th>\n",
       "      <td>802830</td>\n",
       "    </tr>\n",
       "    <tr>\n",
       "      <th>299998</th>\n",
       "      <td>257240</td>\n",
       "    </tr>\n",
       "    <tr>\n",
       "      <th>299999</th>\n",
       "      <td>575770</td>\n",
       "    </tr>\n",
       "  </tbody>\n",
       "</table>\n",
       "<p>300000 rows × 1 columns</p>\n",
       "</div>"
      ],
      "text/plain": [
       "       Employee_Salary_Str\n",
       "0                   321520\n",
       "1                   589090\n",
       "2                   630890\n",
       "3                   116400\n",
       "4                   523499\n",
       "...                    ...\n",
       "299995               99670\n",
       "299996              949580\n",
       "299997              802830\n",
       "299998              257240\n",
       "299999              575770\n",
       "\n",
       "[300000 rows x 1 columns]"
      ]
     },
     "execution_count": 36,
     "metadata": {},
     "output_type": "execute_result"
    }
   ],
   "source": [
    "query(\"\"\"\n",
    "SELECT CAST(Employee_Salary AS VARCHAR) AS Employee_Salary_Str\n",
    "FROM data;\n",
    "\"\"\")"
   ]
  },
  {
   "cell_type": "markdown",
   "metadata": {
    "cell_id": "f4ebec1bb26047fab516c0c32f7f79c2",
    "deepnote_cell_type": "text-cell-h3",
    "formattedRanges": [],
    "is_collapsed": false,
    "tags": []
   },
   "source": [
    "### 41. Print the Employee_City with the most number of 'Production engineer'."
   ]
  },
  {
   "cell_type": "code",
   "execution_count": 39,
   "metadata": {
    "cell_id": "e116c9562eb547f78343b8da1e9f52c9",
    "deepnote_cell_type": "sql",
    "deepnote_sql_source": "",
    "deepnote_to_be_reexecuted": false,
    "execution_millis": 0,
    "execution_start": 1660307028221,
    "source_hash": "9e213752",
    "sql_integration_id": "deepnote-dataframe-sql",
    "tags": []
   },
   "outputs": [
    {
     "data": {
      "text/html": [
       "<div>\n",
       "<style scoped>\n",
       "    .dataframe tbody tr th:only-of-type {\n",
       "        vertical-align: middle;\n",
       "    }\n",
       "\n",
       "    .dataframe tbody tr th {\n",
       "        vertical-align: top;\n",
       "    }\n",
       "\n",
       "    .dataframe thead th {\n",
       "        text-align: right;\n",
       "    }\n",
       "</style>\n",
       "<table border=\"1\" class=\"dataframe\">\n",
       "  <thead>\n",
       "    <tr style=\"text-align: right;\">\n",
       "      <th></th>\n",
       "      <th>Employee_City</th>\n",
       "    </tr>\n",
       "  </thead>\n",
       "  <tbody>\n",
       "    <tr>\n",
       "      <th>0</th>\n",
       "      <td>Aliciafort</td>\n",
       "    </tr>\n",
       "  </tbody>\n",
       "</table>\n",
       "</div>"
      ],
      "text/plain": [
       "  Employee_City\n",
       "0    Aliciafort"
      ]
     },
     "execution_count": 39,
     "metadata": {},
     "output_type": "execute_result"
    }
   ],
   "source": [
    "query(\"\"\"\n",
    "SELECT Employee_City\n",
    "FROM data\n",
    "WHERE Employee_Job_Title = 'Production engineer'\n",
    "GROUP BY Employee_City\n",
    "ORDER BY COUNT(*) DESC\n",
    "LIMIT 1;\n",
    "\"\"\")"
   ]
  },
  {
   "cell_type": "markdown",
   "metadata": {
    "cell_id": "20ed01e7b7f14cabac1239822f05fc73",
    "deepnote_cell_type": "text-cell-h3",
    "formattedRanges": [],
    "is_collapsed": false,
    "tags": []
   },
   "source": [
    "### 42. Print the Company_Name with the most number of Full-time Employees. "
   ]
  },
  {
   "cell_type": "code",
   "execution_count": 43,
   "metadata": {
    "cell_id": "7ef2161cc1c54e599b6b29d636b2c010",
    "deepnote_cell_type": "sql",
    "deepnote_sql_source": "",
    "deepnote_to_be_reexecuted": false,
    "execution_millis": 5,
    "execution_start": 1660307028221,
    "source_hash": "9e213752",
    "sql_integration_id": "deepnote-dataframe-sql",
    "tags": []
   },
   "outputs": [
    {
     "data": {
      "text/html": [
       "<div>\n",
       "<style scoped>\n",
       "    .dataframe tbody tr th:only-of-type {\n",
       "        vertical-align: middle;\n",
       "    }\n",
       "\n",
       "    .dataframe tbody tr th {\n",
       "        vertical-align: top;\n",
       "    }\n",
       "\n",
       "    .dataframe thead th {\n",
       "        text-align: right;\n",
       "    }\n",
       "</style>\n",
       "<table border=\"1\" class=\"dataframe\">\n",
       "  <thead>\n",
       "    <tr style=\"text-align: right;\">\n",
       "      <th></th>\n",
       "      <th>Company_Name</th>\n",
       "    </tr>\n",
       "  </thead>\n",
       "  <tbody>\n",
       "    <tr>\n",
       "      <th>0</th>\n",
       "      <td>Scott Inc</td>\n",
       "    </tr>\n",
       "  </tbody>\n",
       "</table>\n",
       "</div>"
      ],
      "text/plain": [
       "  Company_Name\n",
       "0    Scott Inc"
      ]
     },
     "execution_count": 43,
     "metadata": {},
     "output_type": "execute_result"
    }
   ],
   "source": [
    "query(\"\"\"\n",
    "SELECT Company_Name\n",
    "FROM data\n",
    "WHERE Employment_Status = 'Full Time'\n",
    "GROUP BY Company_Name\n",
    "ORDER BY COUNT(*) DESC\n",
    "LIMIT 1;\n",
    "\"\"\")"
   ]
  },
  {
   "cell_type": "markdown",
   "metadata": {
    "cell_id": "6f9de91431874af5829cd59dc24cfd0d",
    "deepnote_cell_type": "text-cell-h3",
    "formattedRanges": [],
    "is_collapsed": false,
    "tags": []
   },
   "source": [
    "### 43. Print the Company_Name with the highest average 'Employee_Rating'. "
   ]
  },
  {
   "cell_type": "code",
   "execution_count": null,
   "metadata": {
    "cell_id": "b06f0bcf2c9e40ed9a3a28f52632bb27",
    "deepnote_cell_type": "sql",
    "deepnote_sql_source": "",
    "deepnote_to_be_reexecuted": false,
    "execution_millis": 2,
    "execution_start": 1660307028230,
    "source_hash": "9e213752",
    "sql_integration_id": "deepnote-dataframe-sql",
    "tags": []
   },
   "outputs": [],
   "source": []
  },
  {
   "cell_type": "markdown",
   "metadata": {
    "cell_id": "0ea61f60bf5044d292f23359dbc5075f",
    "deepnote_cell_type": "text-cell-h3",
    "formattedRanges": [],
    "is_collapsed": false,
    "tags": []
   },
   "source": [
    "### 44. Print the number of employees working in 'Ricardomouth' and 'Kristaburgh' location combined."
   ]
  },
  {
   "cell_type": "code",
   "execution_count": null,
   "metadata": {
    "cell_id": "99ba0b5dff024551b389cfd1a011455f",
    "deepnote_cell_type": "sql",
    "deepnote_sql_source": "",
    "deepnote_to_be_reexecuted": false,
    "execution_millis": 0,
    "execution_start": 1660307028273,
    "source_hash": "9e213752",
    "sql_integration_id": "deepnote-dataframe-sql",
    "tags": []
   },
   "outputs": [],
   "source": []
  },
  {
   "cell_type": "markdown",
   "metadata": {
    "cell_id": "9dfeb28a929e41b0bf5881ea5216c581",
    "deepnote_cell_type": "text-cell-h3",
    "formattedRanges": [],
    "is_collapsed": false,
    "tags": []
   },
   "source": [
    "### 45. Print the distinct Company_Name corresponding to the 5 highest paid employees in the dataset. "
   ]
  },
  {
   "cell_type": "code",
   "execution_count": null,
   "metadata": {
    "cell_id": "c0c9462c5d2c45d5a8be67aa03f6adc8",
    "deepnote_cell_type": "sql",
    "deepnote_sql_source": "",
    "deepnote_to_be_reexecuted": false,
    "execution_millis": 1,
    "execution_start": 1660307028273,
    "source_hash": "9e213752",
    "sql_integration_id": "deepnote-dataframe-sql",
    "tags": []
   },
   "outputs": [],
   "source": []
  },
  {
   "cell_type": "markdown",
   "metadata": {
    "cell_id": "41da64ce435746d7827ecfcbbea701eb",
    "deepnote_cell_type": "text-cell-h3",
    "formattedRanges": [],
    "is_collapsed": false,
    "tags": []
   },
   "source": [
    "### 46. Check if any of the columns has NULL values. "
   ]
  },
  {
   "cell_type": "code",
   "execution_count": null,
   "metadata": {
    "cell_id": "a1992ce480e540958d6d1bc2e850dea6",
    "deepnote_cell_type": "sql",
    "deepnote_sql_source": "",
    "deepnote_to_be_reexecuted": false,
    "execution_millis": 0,
    "execution_start": 1660307028274,
    "source_hash": "9e213752",
    "sql_integration_id": "deepnote-dataframe-sql",
    "tags": []
   },
   "outputs": [],
   "source": []
  },
  {
   "cell_type": "markdown",
   "metadata": {
    "cell_id": "764920e8bc8c4b4c96ce97a90ed7f8c9",
    "deepnote_cell_type": "text-cell-h3",
    "formattedRanges": [],
    "is_collapsed": false,
    "tags": []
   },
   "source": [
    "### 47. Print the data type of every column in the data."
   ]
  },
  {
   "cell_type": "code",
   "execution_count": null,
   "metadata": {
    "cell_id": "d0f82c1f7aeb4aa49d34d91319a93d60",
    "deepnote_cell_type": "sql",
    "deepnote_sql_source": "",
    "deepnote_to_be_reexecuted": false,
    "execution_millis": 1,
    "execution_start": 1660307028275,
    "source_hash": "9e213752",
    "sql_integration_id": "deepnote-dataframe-sql",
    "tags": []
   },
   "outputs": [],
   "source": []
  },
  {
   "cell_type": "markdown",
   "metadata": {
    "cell_id": "eb86aa91a87f4d008a48746dcc8342b0",
    "deepnote_cell_type": "text-cell-h3",
    "formattedRanges": [],
    "is_collapsed": false,
    "tags": []
   },
   "source": [
    "### 48. Print the number of employees with Employee_Rating greater than the average Employee_Rating"
   ]
  },
  {
   "cell_type": "code",
   "execution_count": null,
   "metadata": {
    "cell_id": "bc2b0d5489ca439db5e92c408f9baeea",
    "deepnote_cell_type": "sql",
    "deepnote_sql_source": "",
    "deepnote_to_be_reexecuted": false,
    "execution_millis": 6,
    "execution_start": 1660307028278,
    "source_hash": "9e213752",
    "sql_integration_id": "deepnote-dataframe-sql",
    "tags": []
   },
   "outputs": [],
   "source": []
  },
  {
   "cell_type": "markdown",
   "metadata": {
    "cell_id": "c444d84133d64e5db69085828e04cde4",
    "deepnote_cell_type": "text-cell-h3",
    "formattedRanges": [],
    "is_collapsed": false,
    "tags": []
   },
   "source": [
    "### 49. Find the employee which has the maximum salary among the ones with  the minimum Employee_Rating "
   ]
  },
  {
   "cell_type": "code",
   "execution_count": null,
   "metadata": {
    "cell_id": "f13e0e83ebcb47a78f509bc196137b6a",
    "deepnote_cell_type": "sql",
    "deepnote_sql_source": "",
    "deepnote_to_be_reexecuted": false,
    "execution_millis": 3,
    "execution_start": 1660307028287,
    "source_hash": "9e213752",
    "sql_integration_id": "deepnote-dataframe-sql",
    "tags": []
   },
   "outputs": [],
   "source": []
  },
  {
   "cell_type": "markdown",
   "metadata": {
    "cell_id": "f6437e26dab94f378c5978024bd28764",
    "deepnote_cell_type": "text-cell-h3",
    "formattedRanges": [],
    "is_collapsed": false,
    "tags": []
   },
   "source": [
    "### 50. Sort the table in ascending order of Employee_Salary"
   ]
  },
  {
   "cell_type": "code",
   "execution_count": null,
   "metadata": {
    "cell_id": "c205bf6d2996407f883229fc5c784bcc",
    "deepnote_cell_type": "sql",
    "deepnote_sql_source": "",
    "deepnote_to_be_reexecuted": false,
    "execution_millis": 1,
    "execution_start": 1660307028322,
    "source_hash": "9e213752",
    "sql_integration_id": "deepnote-dataframe-sql",
    "tags": []
   },
   "outputs": [],
   "source": []
  },
  {
   "cell_type": "markdown",
   "metadata": {
    "cell_id": "9e268f2557df402aa3b764a09394f946",
    "deepnote_cell_type": "text-cell-h3",
    "formattedRanges": [],
    "is_collapsed": false,
    "tags": []
   },
   "source": [
    "### 51. Sort the table in descending order of Employee_Rating"
   ]
  },
  {
   "cell_type": "code",
   "execution_count": null,
   "metadata": {
    "cell_id": "afd285a56867442d969ac763cbc60203",
    "deepnote_cell_type": "sql",
    "deepnote_sql_source": "",
    "deepnote_to_be_reexecuted": false,
    "execution_millis": 0,
    "execution_start": 1660307028323,
    "source_hash": "9e213752",
    "sql_integration_id": "deepnote-dataframe-sql",
    "tags": []
   },
   "outputs": [],
   "source": []
  },
  {
   "cell_type": "markdown",
   "metadata": {
    "cell_id": "8c98ef9b701b47d0832f7928d2401803",
    "deepnote_cell_type": "text-cell-h3",
    "formattedRanges": [],
    "is_collapsed": false,
    "tags": []
   },
   "source": [
    "### 52. Print the name of 100th employee after sorting on Name column"
   ]
  },
  {
   "cell_type": "code",
   "execution_count": null,
   "metadata": {
    "cell_id": "7b8687e64fbd4d64883e777c0901f5f0",
    "deepnote_cell_type": "sql",
    "deepnote_sql_source": "",
    "deepnote_to_be_reexecuted": false,
    "execution_millis": 1,
    "execution_start": 1660307028323,
    "source_hash": "9e213752",
    "sql_integration_id": "deepnote-dataframe-sql",
    "tags": []
   },
   "outputs": [],
   "source": []
  },
  {
   "cell_type": "markdown",
   "metadata": {
    "cell_id": "81f9ed24223943aab3010ed80c0e78d0",
    "deepnote_cell_type": "text-cell-h3",
    "formattedRanges": [],
    "is_collapsed": false,
    "tags": []
   },
   "source": [
    "### 53. Print the first 5 rows of the first 5 columns. "
   ]
  },
  {
   "cell_type": "code",
   "execution_count": null,
   "metadata": {
    "cell_id": "609eb095f99540798e86e8c548321e16",
    "deepnote_cell_type": "sql",
    "deepnote_sql_source": "",
    "deepnote_to_be_reexecuted": false,
    "execution_millis": 1,
    "execution_start": 1660307028324,
    "source_hash": "9e213752",
    "sql_integration_id": "deepnote-dataframe-sql",
    "tags": []
   },
   "outputs": [],
   "source": []
  },
  {
   "cell_type": "markdown",
   "metadata": {
    "cell_id": "6592558895c2481d874f9bc7719666ee",
    "deepnote_cell_type": "text-cell-h3",
    "formattedRanges": [],
    "is_collapsed": false,
    "tags": []
   },
   "source": [
    "### 54. Print the number of employees whose first name starts with the letter 'V'. "
   ]
  },
  {
   "cell_type": "code",
   "execution_count": null,
   "metadata": {
    "cell_id": "5bcb31e6ed9b4e1c982d809fde6a02b7",
    "deepnote_cell_type": "sql",
    "deepnote_sql_source": "",
    "deepnote_to_be_reexecuted": false,
    "execution_millis": 9,
    "execution_start": 1660307028326,
    "source_hash": "9e213752",
    "sql_integration_id": "deepnote-dataframe-sql",
    "tags": []
   },
   "outputs": [],
   "source": []
  },
  {
   "cell_type": "markdown",
   "metadata": {
    "cell_id": "12c457cd83234c828d579c64ca794972",
    "deepnote_cell_type": "text-cell-h3",
    "formattedRanges": [],
    "is_collapsed": false,
    "tags": []
   },
   "source": [
    "### 55. Print the number of employees whose last name starts with the letter 'R'. "
   ]
  },
  {
   "cell_type": "code",
   "execution_count": null,
   "metadata": {
    "cell_id": "6e8ec70568a143b585598330328351e2",
    "deepnote_cell_type": "sql",
    "deepnote_sql_source": "",
    "deepnote_to_be_reexecuted": false,
    "execution_millis": 5,
    "execution_start": 1660307028340,
    "source_hash": "9e213752",
    "sql_integration_id": "deepnote-dataframe-sql",
    "tags": []
   },
   "outputs": [],
   "source": []
  },
  {
   "cell_type": "markdown",
   "metadata": {
    "cell_id": "0f3a5582e58948ce8e805aa4d52ce5be",
    "deepnote_cell_type": "text-cell-h3",
    "formattedRanges": [],
    "is_collapsed": false,
    "tags": []
   },
   "source": [
    "### 56. Select the rows 2 to 7 and the columns 3 to 7 (both included)"
   ]
  },
  {
   "cell_type": "code",
   "execution_count": null,
   "metadata": {
    "cell_id": "52d92238360c4115b1212acb9c6e70dd",
    "deepnote_cell_type": "sql",
    "deepnote_sql_source": "",
    "deepnote_to_be_reexecuted": false,
    "execution_millis": 11,
    "execution_start": 1660307028349,
    "source_hash": "9e213752",
    "sql_integration_id": "deepnote-dataframe-sql",
    "tags": []
   },
   "outputs": [],
   "source": []
  }
 ],
 "metadata": {
  "deepnote_execution_queue": [],
  "deepnote_notebook_id": "697f04297c664d02901db0f85431512e",
  "kernelspec": {
   "display_name": "Python 3 (ipykernel)",
   "language": "python",
   "name": "python3"
  },
  "language_info": {
   "codemirror_mode": {
    "name": "ipython",
    "version": 3
   },
   "file_extension": ".py",
   "mimetype": "text/x-python",
   "name": "python",
   "nbconvert_exporter": "python",
   "pygments_lexer": "ipython3",
   "version": "3.11.5"
  }
 },
 "nbformat": 4,
 "nbformat_minor": 4
}
